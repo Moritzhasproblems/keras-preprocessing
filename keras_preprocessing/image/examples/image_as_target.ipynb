{
 "cells": [
  {
   "cell_type": "code",
   "execution_count": 1,
   "metadata": {},
   "outputs": [
    {
     "name": "stderr",
     "output_type": "stream",
     "text": [
      "Using TensorFlow backend.\n"
     ]
    },
    {
     "data": {
      "text/html": [
       "<div>\n",
       "<style scoped>\n",
       "    .dataframe tbody tr th:only-of-type {\n",
       "        vertical-align: middle;\n",
       "    }\n",
       "\n",
       "    .dataframe tbody tr th {\n",
       "        vertical-align: top;\n",
       "    }\n",
       "\n",
       "    .dataframe thead th {\n",
       "        text-align: right;\n",
       "    }\n",
       "</style>\n",
       "<table border=\"1\" class=\"dataframe\">\n",
       "  <thead>\n",
       "    <tr style=\"text-align: right;\">\n",
       "      <th></th>\n",
       "      <th>img_path</th>\n",
       "      <th>img_np_path</th>\n",
       "      <th>regression</th>\n",
       "      <th>binary</th>\n",
       "      <th>multi_class</th>\n",
       "      <th>multi_label</th>\n",
       "      <th>img_path_extra</th>\n",
       "      <th>regression_extra</th>\n",
       "    </tr>\n",
       "  </thead>\n",
       "  <tbody>\n",
       "    <tr>\n",
       "      <td>0</td>\n",
       "      <td>/tmp/0.jpg</td>\n",
       "      <td>/tmp/0.npy</td>\n",
       "      <td>3</td>\n",
       "      <td>cat</td>\n",
       "      <td>dog</td>\n",
       "      <td>cat</td>\n",
       "      <td>/tmp/0.jpg</td>\n",
       "      <td>51</td>\n",
       "    </tr>\n",
       "    <tr>\n",
       "      <td>1</td>\n",
       "      <td>/tmp/1.jpg</td>\n",
       "      <td>/tmp/1.npy</td>\n",
       "      <td>3</td>\n",
       "      <td>cat</td>\n",
       "      <td>cat</td>\n",
       "      <td>[dog]</td>\n",
       "      <td>/tmp/1.jpg</td>\n",
       "      <td>53</td>\n",
       "    </tr>\n",
       "    <tr>\n",
       "      <td>2</td>\n",
       "      <td>/tmp/2.jpg</td>\n",
       "      <td>/tmp/2.npy</td>\n",
       "      <td>1</td>\n",
       "      <td>dog</td>\n",
       "      <td>cat</td>\n",
       "      <td>[cat, dog]</td>\n",
       "      <td>/tmp/2.jpg</td>\n",
       "      <td>80</td>\n",
       "    </tr>\n",
       "    <tr>\n",
       "      <td>3</td>\n",
       "      <td>/tmp/3.jpg</td>\n",
       "      <td>/tmp/3.npy</td>\n",
       "      <td>2</td>\n",
       "      <td>dog</td>\n",
       "      <td>horse</td>\n",
       "      <td>cat</td>\n",
       "      <td>/tmp/3.jpg</td>\n",
       "      <td>60</td>\n",
       "    </tr>\n",
       "    <tr>\n",
       "      <td>4</td>\n",
       "      <td>/tmp/4.jpg</td>\n",
       "      <td>/tmp/4.npy</td>\n",
       "      <td>9</td>\n",
       "      <td>dog</td>\n",
       "      <td>cat</td>\n",
       "      <td>[cat, dog]</td>\n",
       "      <td>/tmp/4.jpg</td>\n",
       "      <td>65</td>\n",
       "    </tr>\n",
       "  </tbody>\n",
       "</table>\n",
       "</div>"
      ],
      "text/plain": [
       "     img_path img_np_path  regression binary multi_class multi_label  \\\n",
       "0  /tmp/0.jpg  /tmp/0.npy           3    cat         dog         cat   \n",
       "1  /tmp/1.jpg  /tmp/1.npy           3    cat         cat       [dog]   \n",
       "2  /tmp/2.jpg  /tmp/2.npy           1    dog         cat  [cat, dog]   \n",
       "3  /tmp/3.jpg  /tmp/3.npy           2    dog       horse         cat   \n",
       "4  /tmp/4.jpg  /tmp/4.npy           9    dog         cat  [cat, dog]   \n",
       "\n",
       "  img_path_extra  regression_extra  \n",
       "0     /tmp/0.jpg                51  \n",
       "1     /tmp/1.jpg                53  \n",
       "2     /tmp/2.jpg                80  \n",
       "3     /tmp/3.jpg                60  \n",
       "4     /tmp/4.jpg                65  "
      ]
     },
     "execution_count": 1,
     "metadata": {},
     "output_type": "execute_result"
    }
   ],
   "source": [
    "%load_ext autoreload\n",
    "%autoreload 2\n",
    "\n",
    "import random\n",
    "import numpy as np\n",
    "import matplotlib.pyplot as plt\n",
    "import pandas as pd\n",
    "from keras.layers import Dense, Flatten, Input, Reshape\n",
    "from keras.models import Sequential, Model\n",
    "from PIL import Image\n",
    "from pprint import pprint\n",
    "\n",
    "from keras_preprocessing.image import DataFrameIterator, ImageDataGenerator\n",
    "\n",
    "\n",
    "pixel_val = 1\n",
    "np_filenames, img_filenames, np_arrays = [], [], []\n",
    "for i in range(8):\n",
    "    np_filename = '/tmp/{}.npy'.format(i)\n",
    "    img_filename = '/tmp/{}.jpg'.format(i)\n",
    "    array = pixel_val * np.random.randint(0, 255, size=(2, 2)).astype('float32')\n",
    "    np.save(np_filename, array[..., None])\n",
    "    plt.imsave(img_filename, array)\n",
    "    \n",
    "    np_filenames.append(np_filename)\n",
    "    img_filenames.append(img_filename)\n",
    "    \n",
    "df = pd.DataFrame({'img_path': img_filenames, 'img_np_path': np_filenames})\n",
    "df['regression'] = np.random.randint(1, 10, size=len(df))\n",
    "df['binary'] = random.sample(['dog', 'cat'] * 30, len(df))\n",
    "df['multi_class'] = random.sample(['dog', 'cat', 'horse'] * 30, len(df))\n",
    "df['multi_label'] = random.sample(['dog', 'cat', ['dog'], ['cat'], ['cat', 'dog'], ['dog', 'cat']] * 10, len(df))\n",
    "df['img_path_extra'] = img_filenames\n",
    "df['regression_extra'] = np.random.randint(10, 100, size=len(df))\n",
    "\n",
    "df.head()"
   ]
  },
  {
   "cell_type": "markdown",
   "metadata": {},
   "source": [
    "### Autoencoder (output same as input)\n",
    "\n",
    "Image are not read again when computing the output but thhe input batched is copied."
   ]
  },
  {
   "cell_type": "code",
   "execution_count": 2,
   "metadata": {
    "scrolled": false
   },
   "outputs": [
    {
     "name": "stdout",
     "output_type": "stream",
     "text": [
      "\n",
      "Inputs:\n",
      "[{'column': 'img_path',\n",
      "  'values': ['/tmp/0.jpg',\n",
      "             '/tmp/1.jpg',\n",
      "             '/tmp/2.jpg',\n",
      "             '/tmp/3.jpg',\n",
      "             '/tmp/4.jpg',\n",
      "             '/tmp/5.jpg',\n",
      "             '/tmp/6.jpg',\n",
      "             '/tmp/7.jpg']}]\n",
      "\n",
      "Outputs:\n",
      "[{'column': 'img_path',\n",
      "  'mode': 'image',\n",
      "  'values': ['/tmp/0.jpg',\n",
      "             '/tmp/1.jpg',\n",
      "             '/tmp/2.jpg',\n",
      "             '/tmp/3.jpg',\n",
      "             '/tmp/4.jpg',\n",
      "             '/tmp/5.jpg',\n",
      "             '/tmp/6.jpg',\n",
      "             '/tmp/7.jpg']}]\n"
     ]
    },
    {
     "name": "stderr",
     "output_type": "stream",
     "text": [
      "WARNING: Logging before flag parsing goes to stderr.\n",
      "W1009 08:47:46.676331 140406748268352 deprecation_wrapper.py:119] From /home/rodrigo/anaconda3/envs/keras-dev/lib/python3.6/site-packages/keras/backend/tensorflow_backend.py:422: The name tf.global_variables is deprecated. Please use tf.compat.v1.global_variables instead.\n",
      "\n"
     ]
    },
    {
     "name": "stdout",
     "output_type": "stream",
     "text": [
      "Epoch 1/1\n",
      "4/4 [==============================] - 0s 35ms/step - loss: 17598.4402\n"
     ]
    },
    {
     "data": {
      "text/plain": [
       "<keras.callbacks.callbacks.History at 0x7fb2a3a90128>"
      ]
     },
     "execution_count": 2,
     "metadata": {},
     "output_type": "execute_result"
    }
   ],
   "source": [
    "df_iter = DataFrameIterator(\n",
    "    df, \n",
    "    input_columns='img_path',\n",
    "    output_columns=['img_path'],\n",
    "    output_modes={'img_path': 'image'},\n",
    "    image_size=(2, 2),\n",
    "    batch_size=2,\n",
    "    color_mode='grayscale'\n",
    ")\n",
    "print('\\nInputs:')\n",
    "pprint(df_iter.inputs)\n",
    "print('\\nOutputs:')\n",
    "pprint(df_iter.outputs)\n",
    "\n",
    "x, y = next(df_iter)\n",
    "# check thay input is the same  as output\n",
    "assert np.allclose(x[0], y[0])\n",
    "# check that they are deep copies\n",
    "assert id(x[0]) != id(y[0])\n",
    "\n",
    "model = Sequential()\n",
    "model.add(Flatten(input_shape=(2, 2, 1)))\n",
    "model.add(Dense(2, activation='sigmoid'))\n",
    "model.add(Dense(2 * 2 * 1, activation='sigmoid'))\n",
    "model.add(Reshape((2, 2, 1)))\n",
    "model.compile('adam', 'mse')\n",
    "model.fit_generator(df_iter)"
   ]
  },
  {
   "cell_type": "markdown",
   "metadata": {},
   "source": [
    "with data augmentation"
   ]
  },
  {
   "cell_type": "code",
   "execution_count": 3,
   "metadata": {},
   "outputs": [
    {
     "name": "stdout",
     "output_type": "stream",
     "text": [
      "\n",
      "Inputs:\n",
      "[{'column': 'img_path',\n",
      "  'values': ['/tmp/0.jpg',\n",
      "             '/tmp/1.jpg',\n",
      "             '/tmp/2.jpg',\n",
      "             '/tmp/3.jpg',\n",
      "             '/tmp/4.jpg',\n",
      "             '/tmp/5.jpg',\n",
      "             '/tmp/6.jpg',\n",
      "             '/tmp/7.jpg']}]\n",
      "\n",
      "Outputs:\n",
      "[{'column': 'img_path',\n",
      "  'mode': 'image',\n",
      "  'values': ['/tmp/0.jpg',\n",
      "             '/tmp/1.jpg',\n",
      "             '/tmp/2.jpg',\n",
      "             '/tmp/3.jpg',\n",
      "             '/tmp/4.jpg',\n",
      "             '/tmp/5.jpg',\n",
      "             '/tmp/6.jpg',\n",
      "             '/tmp/7.jpg']}]\n",
      "Epoch 1/1\n",
      "4/4 [==============================] - 0s 22ms/step - loss: 17580.1289\n"
     ]
    },
    {
     "data": {
      "text/plain": [
       "<keras.callbacks.callbacks.History at 0x7fb2a06d5b70>"
      ]
     },
     "execution_count": 3,
     "metadata": {},
     "output_type": "execute_result"
    }
   ],
   "source": [
    "df_iter = DataFrameIterator(\n",
    "    df, \n",
    "    input_columns='img_path',\n",
    "    output_columns=['img_path'],\n",
    "    output_modes={'img_path': 'image'},\n",
    "    image_size=(2, 2),\n",
    "    batch_size=2,\n",
    "    color_mode='grayscale',\n",
    "    image_data_generator=ImageDataGenerator(horizontal_flip=True,\n",
    "                                            vertical_flip=True)\n",
    ")\n",
    "print('\\nInputs:')\n",
    "pprint(df_iter.inputs)\n",
    "print('\\nOutputs:')\n",
    "pprint(df_iter.outputs)\n",
    "\n",
    "x, y = next(df_iter)\n",
    "# check thay input is the same  as output\n",
    "assert np.allclose(x[0], y[0])\n",
    "# check that they are deep copies\n",
    "assert id(x[0]) != id(y[0])\n",
    "\n",
    "model = Sequential()\n",
    "model.add(Flatten(input_shape=(2, 2, 1)))\n",
    "model.add(Dense(2, activation='sigmoid'))\n",
    "model.add(Dense(2 * 2 * 1, activation='sigmoid'))\n",
    "model.add(Reshape((2, 2, 1)))\n",
    "model.compile('adam', 'mse')\n",
    "model.fit_generator(df_iter)"
   ]
  },
  {
   "cell_type": "markdown",
   "metadata": {},
   "source": [
    "### Segmentation"
   ]
  },
  {
   "cell_type": "markdown",
   "metadata": {},
   "source": [
    "without data augmentation"
   ]
  },
  {
   "cell_type": "code",
   "execution_count": 4,
   "metadata": {},
   "outputs": [
    {
     "name": "stdout",
     "output_type": "stream",
     "text": [
      "\n",
      "Inputs:\n",
      "[{'column': 'img_path',\n",
      "  'values': ['/tmp/0.jpg',\n",
      "             '/tmp/1.jpg',\n",
      "             '/tmp/2.jpg',\n",
      "             '/tmp/3.jpg',\n",
      "             '/tmp/4.jpg',\n",
      "             '/tmp/5.jpg',\n",
      "             '/tmp/6.jpg',\n",
      "             '/tmp/7.jpg']}]\n",
      "\n",
      "Outputs:\n",
      "[{'column': 'img_path_extra',\n",
      "  'mode': 'image',\n",
      "  'values': ['/tmp/0.jpg',\n",
      "             '/tmp/1.jpg',\n",
      "             '/tmp/2.jpg',\n",
      "             '/tmp/3.jpg',\n",
      "             '/tmp/4.jpg',\n",
      "             '/tmp/5.jpg',\n",
      "             '/tmp/6.jpg',\n",
      "             '/tmp/7.jpg']}]\n",
      "Epoch 1/1\n",
      "4/4 [==============================] - 0s 31ms/step - loss: 17589.9966\n"
     ]
    },
    {
     "data": {
      "text/plain": [
       "<keras.callbacks.callbacks.History at 0x7fb2905c2eb8>"
      ]
     },
     "execution_count": 4,
     "metadata": {},
     "output_type": "execute_result"
    }
   ],
   "source": [
    "df_iter = DataFrameIterator(\n",
    "    df,\n",
    "    input_columns='img_path',\n",
    "    output_columns='img_path_extra',\n",
    "    output_modes={'img_path_extra': 'image'},\n",
    "    image_size=(2, 2),\n",
    "    batch_size=2,\n",
    "    color_mode='grayscale'\n",
    ")\n",
    "\n",
    "print('\\nInputs:')\n",
    "pprint(df_iter.inputs)\n",
    "print('\\nOutputs:')\n",
    "pprint(df_iter.outputs)\n",
    "\n",
    "x, y = next(df_iter)\n",
    "\"\"\"\n",
    "Check that in this case input is the same as output.\n",
    "Even though we are using different columns (different from previous case)\n",
    "they point to the same image file. Each is collected and augmented\n",
    "separately but I did thiss on purpose to be able to assert that they\n",
    "get augmented equally.\n",
    "\"\"\"\n",
    "assert np.allclose(x[0], y[0])\n",
    "\n",
    "model = Sequential()\n",
    "model.add(Flatten(input_shape=(2, 2, 1)))\n",
    "model.add(Dense(2, activation='sigmoid'))\n",
    "model.add(Dense(2 * 2 * 1, activation='sigmoid'))\n",
    "model.add(Reshape((2, 2, 1)))\n",
    "model.compile('adam', 'mse')\n",
    "model.fit_generator(df_iter)"
   ]
  },
  {
   "cell_type": "markdown",
   "metadata": {},
   "source": [
    "with data augmentation"
   ]
  },
  {
   "cell_type": "code",
   "execution_count": 5,
   "metadata": {},
   "outputs": [
    {
     "name": "stdout",
     "output_type": "stream",
     "text": [
      "\n",
      "Inputs:\n",
      "[{'column': 'img_path',\n",
      "  'values': ['/tmp/0.jpg',\n",
      "             '/tmp/1.jpg',\n",
      "             '/tmp/2.jpg',\n",
      "             '/tmp/3.jpg',\n",
      "             '/tmp/4.jpg',\n",
      "             '/tmp/5.jpg',\n",
      "             '/tmp/6.jpg',\n",
      "             '/tmp/7.jpg']}]\n",
      "\n",
      "Outputs:\n",
      "[{'column': 'img_path_extra',\n",
      "  'mode': 'image',\n",
      "  'values': ['/tmp/0.jpg',\n",
      "             '/tmp/1.jpg',\n",
      "             '/tmp/2.jpg',\n",
      "             '/tmp/3.jpg',\n",
      "             '/tmp/4.jpg',\n",
      "             '/tmp/5.jpg',\n",
      "             '/tmp/6.jpg',\n",
      "             '/tmp/7.jpg']}]\n",
      "Epoch 1/1\n",
      "4/4 [==============================] - 0s 31ms/step - loss: 17581.9612\n"
     ]
    },
    {
     "data": {
      "text/plain": [
       "<keras.callbacks.callbacks.History at 0x7fb29022acc0>"
      ]
     },
     "execution_count": 5,
     "metadata": {},
     "output_type": "execute_result"
    }
   ],
   "source": [
    "df_iter = DataFrameIterator(\n",
    "    df,\n",
    "    input_columns='img_path',\n",
    "    output_columns='img_path_extra',\n",
    "    output_modes={'img_path_extra': 'image'},\n",
    "    image_size=(2, 2),\n",
    "    batch_size=2,\n",
    "    color_mode='grayscale',\n",
    "    image_data_generator=ImageDataGenerator(horizontal_flip=True,\n",
    "                                            vertical_flip=True)\n",
    ")\n",
    "\n",
    "print('\\nInputs:')\n",
    "pprint(df_iter.inputs)\n",
    "print('\\nOutputs:')\n",
    "pprint(df_iter.outputs)\n",
    "\n",
    "x, y = next(df_iter)\n",
    "\"\"\"\n",
    "Check that in this case input is the same as output.\n",
    "Even though we are using different columns (different from previous case)\n",
    "they point to the same image file. Each is collected and augmented\n",
    "separately but I did thiss on purpose to be able to assert that they\n",
    "get augmented equally.\n",
    "\"\"\"\n",
    "assert np.allclose(x[0], y[0])\n",
    "\n",
    "model = Sequential()\n",
    "model.add(Flatten(input_shape=(2, 2, 1)))\n",
    "model.add(Dense(2, activation='sigmoid'))\n",
    "model.add(Dense(2 * 2 * 1, activation='sigmoid'))\n",
    "model.add(Reshape((2, 2, 1)))\n",
    "model.compile('adam', 'mse')\n",
    "model.fit_generator(df_iter)"
   ]
  },
  {
   "cell_type": "code",
   "execution_count": null,
   "metadata": {},
   "outputs": [],
   "source": []
  }
 ],
 "metadata": {
  "kernelspec": {
   "display_name": "Python 3",
   "language": "python",
   "name": "python3"
  },
  "language_info": {
   "codemirror_mode": {
    "name": "ipython",
    "version": 3
   },
   "file_extension": ".py",
   "mimetype": "text/x-python",
   "name": "python",
   "nbconvert_exporter": "python",
   "pygments_lexer": "ipython3",
   "version": "3.6.8"
  }
 },
 "nbformat": 4,
 "nbformat_minor": 2
}
