{
 "cells": [
  {
   "cell_type": "code",
   "execution_count": 1,
   "metadata": {
    "scrolled": true
   },
   "outputs": [
    {
     "name": "stderr",
     "output_type": "stream",
     "text": [
      "Using TensorFlow backend.\n"
     ]
    }
   ],
   "source": [
    "%load_ext autoreload\n",
    "%autoreload 2\n",
    "\n",
    "import matplotlib.pyplot as plt\n",
    "\n",
    "from keras_preprocessing.image import DataFrameIterator\n",
    "import random\n",
    "import numpy as np\n",
    "import pandas as pd\n",
    "from keras.layers import Dense, Flatten, Input, Reshape\n",
    "from keras.models import Sequential, Model\n",
    "from PIL import Image"
   ]
  },
  {
   "cell_type": "markdown",
   "metadata": {},
   "source": [
    "### Base dataframe"
   ]
  },
  {
   "cell_type": "code",
   "execution_count": 2,
   "metadata": {},
   "outputs": [
    {
     "name": "stdout",
     "output_type": "stream",
     "text": [
      "20\n"
     ]
    },
    {
     "data": {
      "text/html": [
       "<div>\n",
       "<style scoped>\n",
       "    .dataframe tbody tr th:only-of-type {\n",
       "        vertical-align: middle;\n",
       "    }\n",
       "\n",
       "    .dataframe tbody tr th {\n",
       "        vertical-align: top;\n",
       "    }\n",
       "\n",
       "    .dataframe thead th {\n",
       "        text-align: right;\n",
       "    }\n",
       "</style>\n",
       "<table border=\"1\" class=\"dataframe\">\n",
       "  <thead>\n",
       "    <tr style=\"text-align: right;\">\n",
       "      <th></th>\n",
       "      <th>img_path</th>\n",
       "      <th>np_filename</th>\n",
       "      <th>img_path_extra</th>\n",
       "      <th>regression</th>\n",
       "      <th>regression_extra</th>\n",
       "      <th>binary</th>\n",
       "      <th>multi_class</th>\n",
       "      <th>multi_label</th>\n",
       "    </tr>\n",
       "  </thead>\n",
       "  <tbody>\n",
       "    <tr>\n",
       "      <td>0</td>\n",
       "      <td>/tmp/14.jpg</td>\n",
       "      <td>/tmp/14.npy</td>\n",
       "      <td>/tmp/0.jpg</td>\n",
       "      <td>3</td>\n",
       "      <td>47</td>\n",
       "      <td>dog</td>\n",
       "      <td>cat</td>\n",
       "      <td>[dog]</td>\n",
       "    </tr>\n",
       "    <tr>\n",
       "      <td>1</td>\n",
       "      <td>/tmp/2.jpg</td>\n",
       "      <td>/tmp/2.npy</td>\n",
       "      <td>/tmp/1.jpg</td>\n",
       "      <td>1</td>\n",
       "      <td>27</td>\n",
       "      <td>dog</td>\n",
       "      <td>cat</td>\n",
       "      <td>cat</td>\n",
       "    </tr>\n",
       "    <tr>\n",
       "      <td>2</td>\n",
       "      <td>/tmp/8.jpg</td>\n",
       "      <td>/tmp/8.npy</td>\n",
       "      <td>/tmp/2.jpg</td>\n",
       "      <td>4</td>\n",
       "      <td>52</td>\n",
       "      <td>cat</td>\n",
       "      <td>cat</td>\n",
       "      <td>dog</td>\n",
       "    </tr>\n",
       "    <tr>\n",
       "      <td>3</td>\n",
       "      <td>/tmp/11.jpg</td>\n",
       "      <td>/tmp/11.npy</td>\n",
       "      <td>/tmp/3.jpg</td>\n",
       "      <td>2</td>\n",
       "      <td>94</td>\n",
       "      <td>cat</td>\n",
       "      <td>cat</td>\n",
       "      <td>cat</td>\n",
       "    </tr>\n",
       "    <tr>\n",
       "      <td>4</td>\n",
       "      <td>/tmp/12.jpg</td>\n",
       "      <td>/tmp/12.npy</td>\n",
       "      <td>/tmp/4.jpg</td>\n",
       "      <td>4</td>\n",
       "      <td>95</td>\n",
       "      <td>cat</td>\n",
       "      <td>horse</td>\n",
       "      <td>cat</td>\n",
       "    </tr>\n",
       "  </tbody>\n",
       "</table>\n",
       "</div>"
      ],
      "text/plain": [
       "      img_path  np_filename img_path_extra  regression  regression_extra  \\\n",
       "0  /tmp/14.jpg  /tmp/14.npy     /tmp/0.jpg           3                47   \n",
       "1   /tmp/2.jpg   /tmp/2.npy     /tmp/1.jpg           1                27   \n",
       "2   /tmp/8.jpg   /tmp/8.npy     /tmp/2.jpg           4                52   \n",
       "3  /tmp/11.jpg  /tmp/11.npy     /tmp/3.jpg           2                94   \n",
       "4  /tmp/12.jpg  /tmp/12.npy     /tmp/4.jpg           4                95   \n",
       "\n",
       "  binary multi_class multi_label  \n",
       "0    dog         cat       [dog]  \n",
       "1    dog         cat         cat  \n",
       "2    cat         cat         dog  \n",
       "3    cat         cat         cat  \n",
       "4    cat       horse         cat  "
      ]
     },
     "execution_count": 2,
     "metadata": {},
     "output_type": "execute_result"
    }
   ],
   "source": [
    "pixel_val = 1\n",
    "np_filenames, img_filenames = [], []\n",
    "for i in range(20):\n",
    "    np_filename = '/tmp/{}.npy'.format(i)\n",
    "    img_filename = '/tmp/{}.jpg'.format(i)\n",
    "    array = pixel_val * np.random.randint(0, 255, size=(2, 2)).astype('float32')\n",
    "    np.save(np_filename, array[..., None])\n",
    "    plt.imsave(img_filename, array)\n",
    "    np_filenames.append(np_filename)\n",
    "    img_filenames.append(img_filename)\n",
    "    \n",
    "df = pd.DataFrame({'img_path': img_filenames, 'np_filename': np_filenames}).sample(frac=1).reset_index(drop=True)\n",
    "df['img_path_extra'] = img_filenames\n",
    "df['regression'] = np.random.randint(1, 10, size=len(df))\n",
    "df['regression_extra'] = np.random.randint(10, 100, size=len(df))\n",
    "df['binary'] = random.sample(['dog', 'cat'] * 30, len(df))\n",
    "df['multi_class'] = random.sample(['dog', 'cat', 'horse'] * 30, len(df))\n",
    "df['multi_label'] = random.sample(['dog', 'cat', ['dog'], ['cat'], ['cat', 'dog'], ['dog', 'cat']] * 10, len(df))\n",
    "print(len(df))\n",
    "df.head()"
   ]
  },
  {
   "cell_type": "markdown",
   "metadata": {},
   "source": [
    "### Inference"
   ]
  },
  {
   "cell_type": "code",
   "execution_count": 3,
   "metadata": {},
   "outputs": [
    {
     "name": "stdout",
     "output_type": "stream",
     "text": [
      "[{'column': 'img_path', 'valid_filepaths': ['/tmp/14.jpg', '/tmp/2.jpg', '/tmp/8.jpg', '/tmp/11.jpg', '/tmp/12.jpg', '/tmp/7.jpg', '/tmp/17.jpg', '/tmp/4.jpg', '/tmp/16.jpg', '/tmp/9.jpg', '/tmp/10.jpg', '/tmp/3.jpg', '/tmp/13.jpg', '/tmp/15.jpg', '/tmp/19.jpg', '/tmp/18.jpg', '/tmp/6.jpg', '/tmp/5.jpg', '/tmp/1.jpg', '/tmp/0.jpg']}]\n",
      "[]\n",
      "(2, 255, 255, 3)\n"
     ]
    }
   ],
   "source": [
    "df_iter = DataFrameIterator(\n",
    "    df, \n",
    "    input_columns='img_path',\n",
    "    batch_size=2\n",
    ")\n",
    "print(df_iter.inputs)\n",
    "print(df_iter.outputs)\n",
    "for x in next(df_iter):\n",
    "    print(x.shape)"
   ]
  },
  {
   "cell_type": "code",
   "execution_count": 4,
   "metadata": {},
   "outputs": [
    {
     "name": "stdout",
     "output_type": "stream",
     "text": [
      "[{'column': 'img_path', 'valid_filepaths': ['/tmp/14.jpg', '/tmp/2.jpg', '/tmp/8.jpg', '/tmp/11.jpg', '/tmp/12.jpg', '/tmp/7.jpg', '/tmp/17.jpg', '/tmp/4.jpg', '/tmp/16.jpg', '/tmp/9.jpg', '/tmp/10.jpg', '/tmp/3.jpg', '/tmp/13.jpg', '/tmp/15.jpg', '/tmp/19.jpg', '/tmp/18.jpg', '/tmp/6.jpg', '/tmp/5.jpg', '/tmp/1.jpg', '/tmp/0.jpg']}]\n",
      "[]\n",
      "(2, 255, 255, 3)\n"
     ]
    }
   ],
   "source": [
    "df_iter = DataFrameIterator(\n",
    "    df, \n",
    "    input_columns=['img_path'],\n",
    "    batch_size=2\n",
    ")\n",
    "print(df_iter.inputs)\n",
    "print(df_iter.outputs)\n",
    "for x in next(df_iter):\n",
    "    print(x.shape)"
   ]
  },
  {
   "cell_type": "code",
   "execution_count": 5,
   "metadata": {},
   "outputs": [
    {
     "name": "stdout",
     "output_type": "stream",
     "text": [
      "[{'column': 'img_path', 'valid_filepaths': ['/tmp/14.jpg', '/tmp/2.jpg', '/tmp/8.jpg', '/tmp/11.jpg', '/tmp/12.jpg', '/tmp/7.jpg', '/tmp/17.jpg', '/tmp/4.jpg', '/tmp/16.jpg', '/tmp/9.jpg', '/tmp/10.jpg', '/tmp/3.jpg', '/tmp/13.jpg', '/tmp/15.jpg', '/tmp/19.jpg', '/tmp/18.jpg', '/tmp/6.jpg', '/tmp/5.jpg', '/tmp/1.jpg', '/tmp/0.jpg']}, {'column': 'img_path_extra', 'valid_filepaths': ['/tmp/0.jpg', '/tmp/1.jpg', '/tmp/2.jpg', '/tmp/3.jpg', '/tmp/4.jpg', '/tmp/5.jpg', '/tmp/6.jpg', '/tmp/7.jpg', '/tmp/8.jpg', '/tmp/9.jpg', '/tmp/10.jpg', '/tmp/11.jpg', '/tmp/12.jpg', '/tmp/13.jpg', '/tmp/14.jpg', '/tmp/15.jpg', '/tmp/16.jpg', '/tmp/17.jpg', '/tmp/18.jpg', '/tmp/19.jpg']}]\n",
      "[]\n",
      "(2, 255, 255, 3)\n",
      "(2, 255, 255, 3)\n"
     ]
    }
   ],
   "source": [
    "df_iter = DataFrameIterator(\n",
    "    df, \n",
    "    input_columns=['img_path', 'img_path_extra'],\n",
    "    batch_size=2\n",
    ")\n",
    "print(df_iter.inputs)\n",
    "print(df_iter.outputs)\n",
    "for x in next(df_iter):\n",
    "    print(x.shape)"
   ]
  },
  {
   "cell_type": "markdown",
   "metadata": {},
   "source": [
    "### Regression"
   ]
  },
  {
   "cell_type": "code",
   "execution_count": 6,
   "metadata": {},
   "outputs": [
    {
     "name": "stdout",
     "output_type": "stream",
     "text": [
      "[{'column': 'img_path', 'valid_filepaths': ['/tmp/14.jpg', '/tmp/2.jpg', '/tmp/8.jpg', '/tmp/11.jpg', '/tmp/12.jpg', '/tmp/7.jpg', '/tmp/17.jpg', '/tmp/4.jpg', '/tmp/16.jpg', '/tmp/9.jpg', '/tmp/10.jpg', '/tmp/3.jpg', '/tmp/13.jpg', '/tmp/15.jpg', '/tmp/19.jpg', '/tmp/18.jpg', '/tmp/6.jpg', '/tmp/5.jpg', '/tmp/1.jpg', '/tmp/0.jpg']}]\n",
      "[{'column': 'regression', 'mode': None, 'values': 0     3.0\n",
      "1     1.0\n",
      "2     4.0\n",
      "3     2.0\n",
      "4     4.0\n",
      "5     4.0\n",
      "6     4.0\n",
      "7     3.0\n",
      "8     7.0\n",
      "9     1.0\n",
      "10    9.0\n",
      "11    4.0\n",
      "12    1.0\n",
      "13    8.0\n",
      "14    4.0\n",
      "15    3.0\n",
      "16    6.0\n",
      "17    8.0\n",
      "18    4.0\n",
      "19    8.0\n",
      "Name: regression, dtype: float32}]\n"
     ]
    },
    {
     "name": "stderr",
     "output_type": "stream",
     "text": [
      "WARNING: Logging before flag parsing goes to stderr.\n",
      "W1007 08:05:56.628502 140291946174272 deprecation_wrapper.py:119] From /home/rodrigo/anaconda3/envs/keras-dev/lib/python3.6/site-packages/keras/backend/tensorflow_backend.py:422: The name tf.global_variables is deprecated. Please use tf.compat.v1.global_variables instead.\n",
      "\n"
     ]
    },
    {
     "name": "stdout",
     "output_type": "stream",
     "text": [
      "Epoch 1/1\n",
      "10/10 [==============================] - 0s 13ms/step - loss: 89025463.7638\n"
     ]
    },
    {
     "data": {
      "text/plain": [
       "<keras.callbacks.callbacks.History at 0x7f97e973f748>"
      ]
     },
     "execution_count": 6,
     "metadata": {},
     "output_type": "execute_result"
    }
   ],
   "source": [
    "df_iter = DataFrameIterator(\n",
    "    df, \n",
    "    input_columns='img_path',\n",
    "    output_columns='regression',\n",
    "    batch_size=2\n",
    ")\n",
    "print(df_iter.inputs)\n",
    "print(df_iter.outputs)\n",
    "model = Sequential()\n",
    "model.add(Flatten(input_shape=(255, 255, 3)))\n",
    "model.add(Dense(1))\n",
    "model.compile('adam', 'mse')\n",
    "model.fit_generator(df_iter)"
   ]
  },
  {
   "cell_type": "code",
   "execution_count": 7,
   "metadata": {},
   "outputs": [
    {
     "name": "stdout",
     "output_type": "stream",
     "text": [
      "[{'column': 'np_filename', 'valid_filepaths': ['/tmp/14.npy', '/tmp/2.npy', '/tmp/8.npy', '/tmp/11.npy', '/tmp/12.npy', '/tmp/7.npy', '/tmp/17.npy', '/tmp/4.npy', '/tmp/16.npy', '/tmp/9.npy', '/tmp/10.npy', '/tmp/3.npy', '/tmp/13.npy', '/tmp/15.npy', '/tmp/19.npy', '/tmp/18.npy', '/tmp/6.npy', '/tmp/5.npy', '/tmp/1.npy', '/tmp/0.npy']}]\n",
      "[{'column': 'regression', 'mode': None, 'values': 0     3.0\n",
      "1     1.0\n",
      "2     4.0\n",
      "3     2.0\n",
      "4     4.0\n",
      "5     4.0\n",
      "6     4.0\n",
      "7     3.0\n",
      "8     7.0\n",
      "9     1.0\n",
      "10    9.0\n",
      "11    4.0\n",
      "12    1.0\n",
      "13    8.0\n",
      "14    4.0\n",
      "15    3.0\n",
      "16    6.0\n",
      "17    8.0\n",
      "18    4.0\n",
      "19    8.0\n",
      "Name: regression, dtype: float32}]\n",
      "Epoch 1/1\n",
      "10/10 [==============================] - 0s 10ms/step - loss: 338260042.1687\n"
     ]
    },
    {
     "data": {
      "text/plain": [
       "<keras.callbacks.callbacks.History at 0x7f97e83e52b0>"
      ]
     },
     "execution_count": 7,
     "metadata": {},
     "output_type": "execute_result"
    }
   ],
   "source": [
    "df_iter = DataFrameIterator(\n",
    "    df, \n",
    "    input_columns='np_filename',\n",
    "    output_columns=['regression'],\n",
    "    batch_size=2\n",
    ")\n",
    "print(df_iter.inputs)\n",
    "print(df_iter.outputs)\n",
    "model = Sequential()\n",
    "model.add(Flatten(input_shape=(255,255,3)))\n",
    "model.add(Dense(1))\n",
    "model.compile('adam', 'mse')\n",
    "model.fit_generator(df_iter)"
   ]
  },
  {
   "cell_type": "markdown",
   "metadata": {},
   "source": [
    "### Binary classification"
   ]
  },
  {
   "cell_type": "code",
   "execution_count": 8,
   "metadata": {},
   "outputs": [
    {
     "name": "stderr",
     "output_type": "stream",
     "text": [
      "W1007 08:05:57.322124 140291946174272 deprecation.py:323] From /home/rodrigo/anaconda3/envs/keras-dev/lib/python3.6/site-packages/tensorflow/python/ops/nn_impl.py:180: add_dispatch_support.<locals>.wrapper (from tensorflow.python.ops.array_ops) is deprecated and will be removed in a future version.\n",
      "Instructions for updating:\n",
      "Use tf.where in 2.0, which has the same broadcast rule as np.where\n"
     ]
    },
    {
     "name": "stdout",
     "output_type": "stream",
     "text": [
      "[{'column': 'img_path', 'valid_filepaths': ['/tmp/14.jpg', '/tmp/2.jpg', '/tmp/8.jpg', '/tmp/11.jpg', '/tmp/12.jpg', '/tmp/7.jpg', '/tmp/17.jpg', '/tmp/4.jpg', '/tmp/16.jpg', '/tmp/9.jpg', '/tmp/10.jpg', '/tmp/3.jpg', '/tmp/13.jpg', '/tmp/15.jpg', '/tmp/19.jpg', '/tmp/18.jpg', '/tmp/6.jpg', '/tmp/5.jpg', '/tmp/1.jpg', '/tmp/0.jpg']}]\n",
      "[{'column': 'binary', 'mode': 'sparse', 'values': array([1., 1., 0., 0., 0., 0., 0., 1., 0., 1., 0., 0., 1., 0., 0., 1., 0.,\n",
      "       1., 0., 1.], dtype=float32), 'class_indices': {0: 'cat', 1: 'dog'}}]\n",
      "Epoch 1/1\n",
      "10/10 [==============================] - 0s 12ms/step - loss: 8336.6653\n"
     ]
    },
    {
     "data": {
      "text/plain": [
       "<keras.callbacks.callbacks.History at 0x7f97e046c588>"
      ]
     },
     "execution_count": 8,
     "metadata": {},
     "output_type": "execute_result"
    }
   ],
   "source": [
    "df_iter = DataFrameIterator(\n",
    "    df, \n",
    "    input_columns='img_path',\n",
    "    output_columns=['binary'],\n",
    "    output_modes={'binary': 'sparse'},\n",
    "    batch_size=2,\n",
    "    shuffle=False\n",
    ")\n",
    "print(df_iter.inputs)\n",
    "print(df_iter.outputs)\n",
    "model = Sequential()\n",
    "model.add(Flatten(input_shape=(255,255,3)))\n",
    "model.add(Dense(1, activation='sigmoid'))\n",
    "model.compile('adam', 'binary_crossentropy')\n",
    "model.fit_generator(df_iter)"
   ]
  },
  {
   "cell_type": "code",
   "execution_count": 9,
   "metadata": {},
   "outputs": [
    {
     "name": "stdout",
     "output_type": "stream",
     "text": [
      "[{'column': 'np_filename', 'valid_filepaths': ['/tmp/14.npy', '/tmp/2.npy', '/tmp/8.npy', '/tmp/11.npy', '/tmp/12.npy', '/tmp/7.npy', '/tmp/17.npy', '/tmp/4.npy', '/tmp/16.npy', '/tmp/9.npy', '/tmp/10.npy', '/tmp/3.npy', '/tmp/13.npy', '/tmp/15.npy', '/tmp/19.npy', '/tmp/18.npy', '/tmp/6.npy', '/tmp/5.npy', '/tmp/1.npy', '/tmp/0.npy']}]\n",
      "\n",
      "[{'column': 'binary', 'mode': 'sparse', 'values': array([1., 1., 0., 0., 0., 0., 0., 1., 0., 1., 0., 0., 1., 0., 0., 1., 0.,\n",
      "       1., 0., 1.], dtype=float32), 'class_indices': {0: 'cat', 1: 'dog'}}]\n",
      "Epoch 1/1\n",
      "10/10 [==============================] - 0s 10ms/step - loss: 73.4072\n"
     ]
    },
    {
     "data": {
      "text/plain": [
       "<keras.callbacks.callbacks.History at 0x7f97e019ecf8>"
      ]
     },
     "execution_count": 9,
     "metadata": {},
     "output_type": "execute_result"
    }
   ],
   "source": [
    "df_iter = DataFrameIterator(\n",
    "    df, \n",
    "    input_columns='np_filename',\n",
    "    output_columns=['binary'],\n",
    "    output_modes={'binary': 'sparse'},\n",
    "    batch_size=2,\n",
    "    input_color_modes='grayscale',\n",
    "    input_image_sizes=(2,2),\n",
    "    shuffle=False\n",
    ")\n",
    "print(df_iter.inputs)\n",
    "print()\n",
    "print(df_iter.outputs)\n",
    "model = Sequential()\n",
    "model.add(Flatten(input_shape=(2,2,1)))\n",
    "model.add(Dense(1, activation='sigmoid'))\n",
    "model.compile('adam', 'binary_crossentropy')\n",
    "model.fit_generator(df_iter)"
   ]
  },
  {
   "cell_type": "markdown",
   "metadata": {},
   "source": [
    "### Multi-class classsification"
   ]
  },
  {
   "cell_type": "code",
   "execution_count": 10,
   "metadata": {
    "scrolled": false
   },
   "outputs": [
    {
     "name": "stdout",
     "output_type": "stream",
     "text": [
      "[{'column': 'img_path', 'valid_filepaths': ['/tmp/14.jpg', '/tmp/2.jpg', '/tmp/8.jpg', '/tmp/11.jpg', '/tmp/12.jpg', '/tmp/7.jpg', '/tmp/17.jpg', '/tmp/4.jpg', '/tmp/16.jpg', '/tmp/9.jpg', '/tmp/10.jpg', '/tmp/3.jpg', '/tmp/13.jpg', '/tmp/15.jpg', '/tmp/19.jpg', '/tmp/18.jpg', '/tmp/6.jpg', '/tmp/5.jpg', '/tmp/1.jpg', '/tmp/0.jpg']}]\n",
      "[{'column': 'multi_class', 'mode': 'sparse', 'values': array([0., 0., 0., 0., 2., 0., 0., 0., 0., 0., 0., 2., 1., 2., 0., 2., 2.,\n",
      "       1., 2., 1.], dtype=float32), 'class_indices': {0: 'cat', 1: 'dog', 2: 'horse'}}]\n",
      "Epoch 1/1\n",
      "10/10 [==============================] - 0s 8ms/step - loss: 78.9067\n"
     ]
    },
    {
     "data": {
      "text/plain": [
       "<keras.callbacks.callbacks.History at 0x7f97bc63c278>"
      ]
     },
     "execution_count": 10,
     "metadata": {},
     "output_type": "execute_result"
    }
   ],
   "source": [
    "df_iter = DataFrameIterator(\n",
    "    df, \n",
    "    input_columns='img_path',\n",
    "    output_columns=['multi_class'],\n",
    "    output_modes={'multi_class': 'sparse'},\n",
    "    batch_size=2,\n",
    "    input_color_modes='grayscale',\n",
    "    input_image_sizes=(2,2),\n",
    "    shuffle=False\n",
    ")\n",
    "print(df_iter.inputs)\n",
    "print(df_iter.outputs)\n",
    "\n",
    "model = Sequential()\n",
    "model.add(Flatten(input_shape=(2,2,1)))\n",
    "model.add(Dense(3, activation='softmax'))\n",
    "model.compile('adam', 'sparse_categorical_crossentropy')\n",
    "model.fit_generator(df_iter)"
   ]
  },
  {
   "cell_type": "code",
   "execution_count": 11,
   "metadata": {},
   "outputs": [
    {
     "name": "stdout",
     "output_type": "stream",
     "text": [
      "[{'column': 'np_filename', 'valid_filepaths': ['/tmp/14.npy', '/tmp/2.npy', '/tmp/8.npy', '/tmp/11.npy', '/tmp/12.npy', '/tmp/7.npy', '/tmp/17.npy', '/tmp/4.npy', '/tmp/16.npy', '/tmp/9.npy', '/tmp/10.npy', '/tmp/3.npy', '/tmp/13.npy', '/tmp/15.npy', '/tmp/19.npy', '/tmp/18.npy', '/tmp/6.npy', '/tmp/5.npy', '/tmp/1.npy', '/tmp/0.npy']}]\n",
      "\n",
      "[{'column': 'multi_class', 'mode': 'sparse', 'values': array([0., 0., 0., 0., 2., 0., 0., 0., 0., 0., 0., 2., 1., 2., 0., 2., 2.,\n",
      "       1., 2., 1.], dtype=float32), 'class_indices': {0: 'cat', 1: 'dog', 2: 'horse'}}]\n",
      "Epoch 1/1\n",
      "10/10 [==============================] - 0s 8ms/step - loss: 139.8395\n"
     ]
    },
    {
     "data": {
      "text/plain": [
       "<keras.callbacks.callbacks.History at 0x7f97bc406518>"
      ]
     },
     "execution_count": 11,
     "metadata": {},
     "output_type": "execute_result"
    }
   ],
   "source": [
    "df_iter = DataFrameIterator(\n",
    "    df, \n",
    "    input_columns='np_filename',\n",
    "    output_columns=['multi_class'],\n",
    "    output_modes={'multi_class': 'sparse'},\n",
    "    batch_size=2,\n",
    "    input_color_modes='grayscale',\n",
    "    input_image_sizes=(2,2),\n",
    "    shuffle=False\n",
    ")\n",
    "print(df_iter.inputs)\n",
    "print()\n",
    "print(df_iter.outputs)\n",
    "\n",
    "model = Sequential()\n",
    "model.add(Flatten(input_shape=(2,2,1)))\n",
    "model.add(Dense(3, activation='softmax'))\n",
    "model.compile('adam', 'sparse_categorical_crossentropy')\n",
    "model.fit_generator(df_iter)"
   ]
  },
  {
   "cell_type": "code",
   "execution_count": 12,
   "metadata": {},
   "outputs": [
    {
     "name": "stdout",
     "output_type": "stream",
     "text": [
      "[{'column': 'img_path', 'valid_filepaths': ['/tmp/14.jpg', '/tmp/2.jpg', '/tmp/8.jpg', '/tmp/11.jpg', '/tmp/12.jpg', '/tmp/7.jpg', '/tmp/17.jpg', '/tmp/4.jpg', '/tmp/16.jpg', '/tmp/9.jpg', '/tmp/10.jpg', '/tmp/3.jpg', '/tmp/13.jpg', '/tmp/15.jpg', '/tmp/19.jpg', '/tmp/18.jpg', '/tmp/6.jpg', '/tmp/5.jpg', '/tmp/1.jpg', '/tmp/0.jpg']}]\n",
      "\n",
      "[{'column': 'multi_class', 'mode': 'categorical', 'values': [0, 0, 0, 0, 2, 0, 0, 0, 0, 0, 0, 2, 1, 2, 0, 2, 2, 1, 2, 1], 'class_indices': {0: 'cat', 1: 'dog', 2: 'horse'}}]\n",
      "Epoch 1/1\n",
      "10/10 [==============================] - 0s 18ms/step - loss: 20052.7314\n"
     ]
    },
    {
     "data": {
      "text/plain": [
       "<keras.callbacks.callbacks.History at 0x7f97bc1cc588>"
      ]
     },
     "execution_count": 12,
     "metadata": {},
     "output_type": "execute_result"
    }
   ],
   "source": [
    "df_iter = DataFrameIterator(\n",
    "    df, \n",
    "    input_columns='img_path',\n",
    "    output_columns=['multi_class'],\n",
    "    output_modes={'multi_class': 'categorical'},\n",
    "    batch_size=2,\n",
    "    shuffle=False\n",
    ")\n",
    "print(df_iter.inputs)\n",
    "print()\n",
    "print(df_iter.outputs)\n",
    "\n",
    "model = Sequential()\n",
    "model.add(Flatten(input_shape=(255,255,3)))\n",
    "model.add(Dense(3, activation='softmax'))\n",
    "model.compile('adam', 'categorical_crossentropy')\n",
    "model.fit_generator(df_iter)"
   ]
  },
  {
   "cell_type": "code",
   "execution_count": 13,
   "metadata": {},
   "outputs": [
    {
     "name": "stdout",
     "output_type": "stream",
     "text": [
      "[{'column': 'np_filename', 'valid_filepaths': ['/tmp/14.npy', '/tmp/2.npy', '/tmp/8.npy', '/tmp/11.npy', '/tmp/12.npy', '/tmp/7.npy', '/tmp/17.npy', '/tmp/4.npy', '/tmp/16.npy', '/tmp/9.npy', '/tmp/10.npy', '/tmp/3.npy', '/tmp/13.npy', '/tmp/15.npy', '/tmp/19.npy', '/tmp/18.npy', '/tmp/6.npy', '/tmp/5.npy', '/tmp/1.npy', '/tmp/0.npy']}]\n",
      "\n",
      "[{'column': 'multi_class', 'mode': 'categorical', 'values': [0, 0, 0, 0, 2, 0, 0, 0, 0, 0, 0, 2, 1, 2, 0, 2, 2, 1, 2, 1], 'class_indices': {0: 'cat', 1: 'dog', 2: 'horse'}}]\n",
      "Epoch 1/1\n",
      "10/10 [==============================] - 0s 36ms/step - loss: 14840.6102\n"
     ]
    },
    {
     "data": {
      "text/plain": [
       "<keras.callbacks.callbacks.History at 0x7f97bc1c4080>"
      ]
     },
     "execution_count": 13,
     "metadata": {},
     "output_type": "execute_result"
    }
   ],
   "source": [
    "df_iter = DataFrameIterator(\n",
    "    df, \n",
    "    input_columns='np_filename',\n",
    "    output_columns=['multi_class'],\n",
    "    output_modes={'multi_class': 'categorical'},\n",
    "    batch_size=2,\n",
    "    shuffle=False\n",
    ")\n",
    "print(df_iter.inputs)\n",
    "print()\n",
    "print(df_iter.outputs)\n",
    "\n",
    "model = Sequential()\n",
    "model.add(Flatten(input_shape=(255,255,3)))\n",
    "model.add(Dense(3, activation='softmax'))\n",
    "model.compile('adam', 'categorical_crossentropy')\n",
    "model.fit_generator(df_iter)"
   ]
  },
  {
   "cell_type": "markdown",
   "metadata": {},
   "source": [
    "### Multi-label classification"
   ]
  },
  {
   "cell_type": "code",
   "execution_count": 14,
   "metadata": {},
   "outputs": [
    {
     "name": "stdout",
     "output_type": "stream",
     "text": [
      "[{'column': 'img_path', 'valid_filepaths': ['/tmp/14.jpg', '/tmp/2.jpg', '/tmp/8.jpg', '/tmp/11.jpg', '/tmp/12.jpg', '/tmp/7.jpg', '/tmp/17.jpg', '/tmp/4.jpg', '/tmp/16.jpg', '/tmp/9.jpg', '/tmp/10.jpg', '/tmp/3.jpg', '/tmp/13.jpg', '/tmp/15.jpg', '/tmp/19.jpg', '/tmp/18.jpg', '/tmp/6.jpg', '/tmp/5.jpg', '/tmp/1.jpg', '/tmp/0.jpg']}]\n",
      "\n",
      "[{'column': 'multi_label', 'mode': 'categorical', 'values': [array([1]), 0, 1, 0, 0, array([1, 0]), array([0]), array([0, 1]), array([1]), array([0, 1]), array([0, 1]), array([0]), array([1, 0]), array([1]), array([1]), array([1, 0]), array([0]), array([1, 0]), array([1, 0]), array([1, 0])], 'class_indices': {0: 'cat', 1: 'dog'}}]\n",
      "Epoch 1/1\n",
      "10/10 [==============================] - 0s 21ms/step - loss: 8131.7131\n"
     ]
    },
    {
     "data": {
      "text/plain": [
       "<keras.callbacks.callbacks.History at 0x7f97a04b22b0>"
      ]
     },
     "execution_count": 14,
     "metadata": {},
     "output_type": "execute_result"
    }
   ],
   "source": [
    "df_iter = DataFrameIterator(\n",
    "    df, \n",
    "    input_columns='img_path',\n",
    "    output_columns=['multi_label'],\n",
    "    output_modes={'multi_label': 'categorical'},\n",
    "    batch_size=2,\n",
    "    shuffle=False\n",
    ")\n",
    "print(df_iter.inputs)\n",
    "print()\n",
    "print(df_iter.outputs)\n",
    "\n",
    "model = Sequential()\n",
    "model.add(Flatten(input_shape=(255,255,3)))\n",
    "model.add(Dense(2, activation='sigmoid'))\n",
    "model.compile('adam', 'binary_crossentropy')\n",
    "model.fit_generator(df_iter)"
   ]
  },
  {
   "cell_type": "code",
   "execution_count": 15,
   "metadata": {},
   "outputs": [
    {
     "name": "stdout",
     "output_type": "stream",
     "text": [
      "[{'column': 'np_filename', 'valid_filepaths': ['/tmp/14.npy', '/tmp/2.npy', '/tmp/8.npy', '/tmp/11.npy', '/tmp/12.npy', '/tmp/7.npy', '/tmp/17.npy', '/tmp/4.npy', '/tmp/16.npy', '/tmp/9.npy', '/tmp/10.npy', '/tmp/3.npy', '/tmp/13.npy', '/tmp/15.npy', '/tmp/19.npy', '/tmp/18.npy', '/tmp/6.npy', '/tmp/5.npy', '/tmp/1.npy', '/tmp/0.npy']}]\n",
      "\n",
      "[{'column': 'multi_label', 'mode': 'categorical', 'values': [array([1]), 0, 1, 0, 0, array([1, 0]), array([0]), array([0, 1]), array([1]), array([0, 1]), array([0, 1]), array([0]), array([1, 0]), array([1]), array([1]), array([1, 0]), array([0]), array([1, 0]), array([1, 0]), array([1, 0])], 'class_indices': {0: 'cat', 1: 'dog'}}]\n",
      "Epoch 1/1\n",
      "10/10 [==============================] - 0s 30ms/step - loss: 6937.0640\n"
     ]
    },
    {
     "data": {
      "text/plain": [
       "<keras.callbacks.callbacks.History at 0x7f97a01973c8>"
      ]
     },
     "execution_count": 15,
     "metadata": {},
     "output_type": "execute_result"
    }
   ],
   "source": [
    "df_iter = DataFrameIterator(\n",
    "    df, \n",
    "    input_columns='np_filename',\n",
    "    output_columns=['multi_label'],\n",
    "    output_modes={'multi_label': 'categorical'},\n",
    "    batch_size=2,\n",
    "    shuffle=False\n",
    ")\n",
    "print(df_iter.inputs)\n",
    "print()\n",
    "print(df_iter.outputs)\n",
    "\n",
    "model = Sequential()\n",
    "model.add(Flatten(input_shape=(255,255,3)))\n",
    "model.add(Dense(2, activation='sigmoid'))\n",
    "model.compile('adam', 'binary_crossentropy')\n",
    "model.fit_generator(df_iter)"
   ]
  },
  {
   "cell_type": "markdown",
   "metadata": {},
   "source": [
    "### Output same as input"
   ]
  },
  {
   "cell_type": "code",
   "execution_count": 24,
   "metadata": {},
   "outputs": [
    {
     "name": "stdout",
     "output_type": "stream",
     "text": [
      "[{'column': 'img_path', 'valid_filepaths': ['/tmp/14.jpg', '/tmp/2.jpg', '/tmp/8.jpg', '/tmp/11.jpg', '/tmp/12.jpg', '/tmp/7.jpg', '/tmp/17.jpg', '/tmp/4.jpg', '/tmp/16.jpg', '/tmp/9.jpg', '/tmp/10.jpg', '/tmp/3.jpg', '/tmp/13.jpg', '/tmp/15.jpg', '/tmp/19.jpg', '/tmp/18.jpg', '/tmp/6.jpg', '/tmp/5.jpg', '/tmp/1.jpg', '/tmp/0.jpg']}]\n",
      "\n",
      "[{'column': 'img_path', 'mode': 'image', 'valid_filepaths': ['/tmp/14.jpg', '/tmp/2.jpg', '/tmp/8.jpg', '/tmp/11.jpg', '/tmp/12.jpg', '/tmp/7.jpg', '/tmp/17.jpg', '/tmp/4.jpg', '/tmp/16.jpg', '/tmp/9.jpg', '/tmp/10.jpg', '/tmp/3.jpg', '/tmp/13.jpg', '/tmp/15.jpg', '/tmp/19.jpg', '/tmp/18.jpg', '/tmp/6.jpg', '/tmp/5.jpg', '/tmp/1.jpg', '/tmp/0.jpg']}]\n",
      "Epoch 1/1\n",
      "10/10 [==============================] - 6s 554ms/step - loss: 17973.9524\n"
     ]
    },
    {
     "data": {
      "text/plain": [
       "<keras.callbacks.callbacks.History at 0x7f978009e940>"
      ]
     },
     "execution_count": 24,
     "metadata": {},
     "output_type": "execute_result"
    }
   ],
   "source": [
    "df_iter = DataFrameIterator(\n",
    "    df, \n",
    "    input_columns='img_path',\n",
    "    output_columns=['img_path'],\n",
    "    output_modes={'img_path': 'image'},\n",
    "    batch_size=2,\n",
    "    shuffle=False\n",
    ")\n",
    "print(df_iter.inputs)\n",
    "print()\n",
    "print(df_iter.outputs)\n",
    "\n",
    "model = Sequential()\n",
    "model.add(Flatten(input_shape=(255, 255, 3)))\n",
    "model.add(Dense(100, activation='sigmoid'))\n",
    "model.add(Dense(255 * 255 * 3, activation='sigmoid'))\n",
    "model.add(Reshape((255, 255, 3)))\n",
    "model.compile('adam', 'mse')\n",
    "model.fit_generator(df_iter)"
   ]
  },
  {
   "cell_type": "markdown",
   "metadata": {},
   "source": [
    "### Multi-output: regression  & regression"
   ]
  },
  {
   "cell_type": "code",
   "execution_count": null,
   "metadata": {},
   "outputs": [],
   "source": [
    "df_iter = DataFrameIterator(\n",
    "    df, \n",
    "    input_column='img_filename',\n",
    "    output_columns=['regression', 'regression_extra'],\n",
    "    batch_size=2,\n",
    "    color_mode='grayscale',\n",
    "    target_size=(2,2),\n",
    "    shuffle=False\n",
    ")\n",
    "print(df_iter.inputs)\n",
    "print(df_iter.outputs)\n",
    "\n",
    "_input = Input(shape=(2, 2, 1))\n",
    "x = Flatten()(_input)\n",
    "out_1 = Dense(1)(x)\n",
    "out_2 = Dense(1)(x)\n",
    "model = Model(_input, [out_1, out_2])\n",
    "model.compile('adam', 'mse')\n",
    "model.fit_generator(df_iter)"
   ]
  },
  {
   "cell_type": "code",
   "execution_count": null,
   "metadata": {},
   "outputs": [],
   "source": [
    "df_iter = DataFrameIterator(\n",
    "    df, \n",
    "    input_column='np_filename',\n",
    "    output_columns=['regression', 'regression_extra'],\n",
    "    batch_size=2,\n",
    "    color_mode='grayscale',\n",
    "    target_size=(2,2),\n",
    "    shuffle=False\n",
    ")\n",
    "print(df_iter.inputs)\n",
    "print(df_iter.outputs)\n",
    "\n",
    "_input = Input(shape=(2, 2, 1))\n",
    "x = Flatten()(_input)\n",
    "out_1 = Dense(1)(x)\n",
    "out_2 = Dense(1)(x)\n",
    "model = Model(_input, [out_1, out_2])\n",
    "model.compile('adam', 'mse')\n",
    "model.fit_generator(df_iter)"
   ]
  },
  {
   "cell_type": "markdown",
   "metadata": {},
   "source": [
    "### Multi-output: regression & binary classification"
   ]
  },
  {
   "cell_type": "code",
   "execution_count": null,
   "metadata": {},
   "outputs": [],
   "source": [
    "df_iter = DataFrameIterator(\n",
    "    df, \n",
    "    input_column='img_filename',\n",
    "    output_columns=['regression', 'binary'],\n",
    "    output_modes={'binary': 'sparse'},\n",
    "    batch_size=2,\n",
    "    color_mode='grayscale',\n",
    "    target_size=(2,2),\n",
    "    shuffle=False\n",
    ")\n",
    "print(df_iter.inputs)\n",
    "print(df_iter.outputs)\n",
    "\n",
    "_input = Input(shape=(2, 2, 1))\n",
    "x = Flatten()(_input)\n",
    "out_1 = Dense(1)(x)\n",
    "out_2 = Dense(1, activation='sigmoid')(x)\n",
    "model = Model(_input, [out_1, out_2])\n",
    "model.compile('adam', loss=['mse', 'binary_crossentropy'])\n",
    "model.fit_generator(df_iter)"
   ]
  },
  {
   "cell_type": "code",
   "execution_count": null,
   "metadata": {},
   "outputs": [],
   "source": [
    "df_iter = DataFrameIterator(\n",
    "    df, \n",
    "    input_column='np_filename',\n",
    "    output_columns=['regression', 'binary'],\n",
    "    output_modes={'binary': 'sparse'},\n",
    "    batch_size=2,\n",
    "    color_mode='grayscale',\n",
    "    target_size=(2,2),\n",
    "    shuffle=False\n",
    ")\n",
    "print(df_iter.inputs)\n",
    "print(df_iter.outputs)\n",
    "\n",
    "_input = Input(shape=(2, 2, 1))\n",
    "x = Flatten()(_input)\n",
    "out_1 = Dense(1)(x)\n",
    "out_2 = Dense(1, activation='sigmoid')(x)\n",
    "model = Model(_input, [out_1, out_2])\n",
    "model.compile('adam', loss=['mse', 'binary_crossentropy'])\n",
    "model.fit_generator(df_iter)"
   ]
  },
  {
   "cell_type": "markdown",
   "metadata": {},
   "source": [
    "### Multi-output: regression & multi-class classification"
   ]
  },
  {
   "cell_type": "code",
   "execution_count": null,
   "metadata": {},
   "outputs": [],
   "source": [
    "df_iter = DataFrameIterator(\n",
    "    df, \n",
    "    input_column='img_filename',\n",
    "    output_columns=['regression', 'multi_class'],\n",
    "    output_modes={'multi_class': 'categorical'},\n",
    "    batch_size=2,\n",
    "    color_mode='grayscale',\n",
    "    target_size=(2,2),\n",
    "    shuffle=False\n",
    ")\n",
    "print(df_iter.inputs)\n",
    "print(df_iter.outputs)\n",
    "\n",
    "_input = Input(shape=(2, 2, 1))\n",
    "x = Flatten()(_input)\n",
    "out_1 = Dense(1)(x)\n",
    "out_2 = Dense(3, activation='softmax')(x)\n",
    "model = Model(_input, [out_1, out_2])\n",
    "model.compile('adam', loss=['mse', 'categorical_crossentropy'])\n",
    "model.fit_generator(df_iter)"
   ]
  },
  {
   "cell_type": "code",
   "execution_count": null,
   "metadata": {},
   "outputs": [],
   "source": [
    "df_iter = DataFrameIterator(\n",
    "    df, \n",
    "    input_column='np_filename',\n",
    "    output_columns=['regression', 'multi_class'],\n",
    "    output_modes={'multi_class': 'categorical'},\n",
    "    batch_size=2,\n",
    "    color_mode='grayscale',\n",
    "    target_size=(2,2),\n",
    "    shuffle=False\n",
    ")\n",
    "print(df_iter.inputs)\n",
    "print(df_iter.outputs)\n",
    "\n",
    "_input = Input(shape=(2, 2, 1))\n",
    "x = Flatten()(_input)\n",
    "out_1 = Dense(1)(x)\n",
    "out_2 = Dense(3, activation='softmax')(x)\n",
    "model = Model(_input, [out_1, out_2])\n",
    "model.compile('adam', loss=['mse', 'categorical_crossentropy'])\n",
    "model.fit_generator(df_iter)"
   ]
  },
  {
   "cell_type": "markdown",
   "metadata": {},
   "source": [
    "### Multi-output: multi-class & multi-label classification"
   ]
  },
  {
   "cell_type": "code",
   "execution_count": null,
   "metadata": {
    "scrolled": false
   },
   "outputs": [],
   "source": [
    "df_iter = DataFrameIterator(\n",
    "    df, \n",
    "    input_column='img_filename',\n",
    "    output_columns=['multi_class', 'multi_label'],\n",
    "    output_modes={'multi_class': 'categorical', 'multi_label': 'categorical'},\n",
    "    batch_size=2,\n",
    "    color_mode='grayscale',\n",
    "    target_size=(2,2),\n",
    "    shuffle=False\n",
    ")\n",
    "print(df_iter.inputs)\n",
    "print(df_iter.outputs)\n",
    "\n",
    "_input = Input(shape=(2, 2, 1))\n",
    "x = Flatten()(_input)\n",
    "out_1 = Dense(3, activation='softmax')(x)\n",
    "out_2 = Dense(2, activation='sigmoid')(x)\n",
    "model = Model(_input, [out_1, out_2])\n",
    "model.compile('adam', loss=['categorical_crossentropy', 'binary_crossentropy'])\n",
    "model.fit_generator(df_iter)"
   ]
  },
  {
   "cell_type": "code",
   "execution_count": null,
   "metadata": {},
   "outputs": [],
   "source": [
    "df_iter = DataFrameIterator(\n",
    "    df, \n",
    "    input_column='np_filename',\n",
    "    output_columns=['multi_class', 'multi_label'],\n",
    "    output_modes={'multi_class': 'categorical', 'multi_label': 'categorical'},\n",
    "    batch_size=2,\n",
    "    color_mode='grayscale',\n",
    "    target_size=(2,2),\n",
    "    shuffle=False\n",
    ")\n",
    "print(df_iter.inputs)\n",
    "print(df_iter.outputs)\n",
    "\n",
    "_input = Input(shape=(2, 2, 1))\n",
    "x = Flatten()(_input)\n",
    "out_1 = Dense(3, activation='softmax')(x)\n",
    "out_2 = Dense(2, activation='sigmoid')(x)\n",
    "model = Model(_input, [out_1, out_2])\n",
    "model.compile('adam', loss=['categorical_crossentropy', 'binary_crossentropy'])\n",
    "model.fit_generator(df_iter)"
   ]
  },
  {
   "cell_type": "code",
   "execution_count": null,
   "metadata": {},
   "outputs": [],
   "source": []
  },
  {
   "cell_type": "code",
   "execution_count": null,
   "metadata": {},
   "outputs": [],
   "source": []
  }
 ],
 "metadata": {
  "kernelspec": {
   "display_name": "Python 3",
   "language": "python",
   "name": "python3"
  },
  "language_info": {
   "codemirror_mode": {
    "name": "ipython",
    "version": 3
   },
   "file_extension": ".py",
   "mimetype": "text/x-python",
   "name": "python",
   "nbconvert_exporter": "python",
   "pygments_lexer": "ipython3",
   "version": "3.6.8"
  }
 },
 "nbformat": 4,
 "nbformat_minor": 2
}
