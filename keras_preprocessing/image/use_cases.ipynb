{
 "cells": [
  {
   "cell_type": "code",
   "execution_count": 1,
   "metadata": {
    "scrolled": true
   },
   "outputs": [
    {
     "name": "stderr",
     "output_type": "stream",
     "text": [
      "Using TensorFlow backend.\n"
     ]
    }
   ],
   "source": [
    "%load_ext autoreload\n",
    "%autoreload 2\n",
    "\n",
    "import matplotlib.pyplot as plt\n",
    "\n",
    "from keras_preprocessing.image import DataFrameIterator, ImageDataGenerator\n",
    "import random\n",
    "import numpy as np\n",
    "import pandas as pd\n",
    "from keras.layers import Dense, Flatten, Input, Reshape\n",
    "from keras.models import Sequential, Model\n",
    "from PIL import Image"
   ]
  },
  {
   "cell_type": "markdown",
   "metadata": {},
   "source": [
    "### Base dataframe"
   ]
  },
  {
   "cell_type": "code",
   "execution_count": 2,
   "metadata": {},
   "outputs": [
    {
     "name": "stdout",
     "output_type": "stream",
     "text": [
      "20\n"
     ]
    },
    {
     "data": {
      "text/html": [
       "<div>\n",
       "<style scoped>\n",
       "    .dataframe tbody tr th:only-of-type {\n",
       "        vertical-align: middle;\n",
       "    }\n",
       "\n",
       "    .dataframe tbody tr th {\n",
       "        vertical-align: top;\n",
       "    }\n",
       "\n",
       "    .dataframe thead th {\n",
       "        text-align: right;\n",
       "    }\n",
       "</style>\n",
       "<table border=\"1\" class=\"dataframe\">\n",
       "  <thead>\n",
       "    <tr style=\"text-align: right;\">\n",
       "      <th></th>\n",
       "      <th>img_path</th>\n",
       "      <th>np_filename</th>\n",
       "      <th>img_path_extra</th>\n",
       "      <th>regression</th>\n",
       "      <th>regression_extra</th>\n",
       "      <th>binary</th>\n",
       "      <th>multi_class</th>\n",
       "      <th>multi_label</th>\n",
       "    </tr>\n",
       "  </thead>\n",
       "  <tbody>\n",
       "    <tr>\n",
       "      <td>0</td>\n",
       "      <td>/tmp/8.jpg</td>\n",
       "      <td>/tmp/8.npy</td>\n",
       "      <td>/tmp/0.jpg</td>\n",
       "      <td>4</td>\n",
       "      <td>72</td>\n",
       "      <td>cat</td>\n",
       "      <td>cat</td>\n",
       "      <td>[cat, dog]</td>\n",
       "    </tr>\n",
       "    <tr>\n",
       "      <td>1</td>\n",
       "      <td>/tmp/13.jpg</td>\n",
       "      <td>/tmp/13.npy</td>\n",
       "      <td>/tmp/1.jpg</td>\n",
       "      <td>8</td>\n",
       "      <td>71</td>\n",
       "      <td>dog</td>\n",
       "      <td>cat</td>\n",
       "      <td>dog</td>\n",
       "    </tr>\n",
       "    <tr>\n",
       "      <td>2</td>\n",
       "      <td>/tmp/6.jpg</td>\n",
       "      <td>/tmp/6.npy</td>\n",
       "      <td>/tmp/2.jpg</td>\n",
       "      <td>7</td>\n",
       "      <td>87</td>\n",
       "      <td>dog</td>\n",
       "      <td>dog</td>\n",
       "      <td>[dog, cat]</td>\n",
       "    </tr>\n",
       "    <tr>\n",
       "      <td>3</td>\n",
       "      <td>/tmp/0.jpg</td>\n",
       "      <td>/tmp/0.npy</td>\n",
       "      <td>/tmp/3.jpg</td>\n",
       "      <td>8</td>\n",
       "      <td>62</td>\n",
       "      <td>dog</td>\n",
       "      <td>horse</td>\n",
       "      <td>[dog]</td>\n",
       "    </tr>\n",
       "    <tr>\n",
       "      <td>4</td>\n",
       "      <td>/tmp/12.jpg</td>\n",
       "      <td>/tmp/12.npy</td>\n",
       "      <td>/tmp/4.jpg</td>\n",
       "      <td>4</td>\n",
       "      <td>65</td>\n",
       "      <td>dog</td>\n",
       "      <td>cat</td>\n",
       "      <td>[cat]</td>\n",
       "    </tr>\n",
       "  </tbody>\n",
       "</table>\n",
       "</div>"
      ],
      "text/plain": [
       "      img_path  np_filename img_path_extra  regression  regression_extra  \\\n",
       "0   /tmp/8.jpg   /tmp/8.npy     /tmp/0.jpg           4                72   \n",
       "1  /tmp/13.jpg  /tmp/13.npy     /tmp/1.jpg           8                71   \n",
       "2   /tmp/6.jpg   /tmp/6.npy     /tmp/2.jpg           7                87   \n",
       "3   /tmp/0.jpg   /tmp/0.npy     /tmp/3.jpg           8                62   \n",
       "4  /tmp/12.jpg  /tmp/12.npy     /tmp/4.jpg           4                65   \n",
       "\n",
       "  binary multi_class multi_label  \n",
       "0    cat         cat  [cat, dog]  \n",
       "1    dog         cat         dog  \n",
       "2    dog         dog  [dog, cat]  \n",
       "3    dog       horse       [dog]  \n",
       "4    dog         cat       [cat]  "
      ]
     },
     "execution_count": 2,
     "metadata": {},
     "output_type": "execute_result"
    }
   ],
   "source": [
    "pixel_val = 1\n",
    "np_filenames, img_filenames = [], []\n",
    "for i in range(20):\n",
    "    np_filename = '/tmp/{}.npy'.format(i)\n",
    "    img_filename = '/tmp/{}.jpg'.format(i)\n",
    "    array = pixel_val * np.random.randint(0, 255, size=(2, 2)).astype('float32')\n",
    "    np.save(np_filename, array[..., None])\n",
    "    plt.imsave(img_filename, array)\n",
    "    np_filenames.append(np_filename)\n",
    "    img_filenames.append(img_filename)\n",
    "    \n",
    "df = pd.DataFrame({'img_path': img_filenames, 'np_filename': np_filenames}).sample(frac=1).reset_index(drop=True)\n",
    "df['img_path_extra'] = img_filenames\n",
    "df['regression'] = np.random.randint(1, 10, size=len(df))\n",
    "df['regression_extra'] = np.random.randint(10, 100, size=len(df))\n",
    "df['binary'] = random.sample(['dog', 'cat'] * 30, len(df))\n",
    "df['multi_class'] = random.sample(['dog', 'cat', 'horse'] * 30, len(df))\n",
    "df['multi_label'] = random.sample(['dog', 'cat', ['dog'], ['cat'], ['cat', 'dog'], ['dog', 'cat']] * 10, len(df))\n",
    "print(len(df))\n",
    "df.head()"
   ]
  },
  {
   "cell_type": "markdown",
   "metadata": {},
   "source": [
    "### Inference"
   ]
  },
  {
   "cell_type": "code",
   "execution_count": 3,
   "metadata": {},
   "outputs": [
    {
     "name": "stdout",
     "output_type": "stream",
     "text": [
      "[{'column': 'img_path', 'values': ['/tmp/8.jpg', '/tmp/13.jpg', '/tmp/6.jpg', '/tmp/0.jpg', '/tmp/12.jpg', '/tmp/18.jpg', '/tmp/14.jpg', '/tmp/15.jpg', '/tmp/3.jpg', '/tmp/11.jpg', '/tmp/16.jpg', '/tmp/10.jpg', '/tmp/4.jpg', '/tmp/1.jpg', '/tmp/5.jpg', '/tmp/9.jpg', '/tmp/2.jpg', '/tmp/19.jpg', '/tmp/7.jpg', '/tmp/17.jpg']}]\n",
      "[]\n",
      "(2, 255, 255, 3)\n"
     ]
    }
   ],
   "source": [
    "df_iter = DataFrameIterator(\n",
    "    df, \n",
    "    input_columns='img_path',\n",
    "    batch_size=2\n",
    ")\n",
    "print(df_iter.inputs)\n",
    "print(df_iter.outputs)\n",
    "for x in next(df_iter):\n",
    "    print(x.shape)"
   ]
  },
  {
   "cell_type": "code",
   "execution_count": 4,
   "metadata": {},
   "outputs": [
    {
     "name": "stdout",
     "output_type": "stream",
     "text": [
      "[{'column': 'img_path', 'values': ['/tmp/8.jpg', '/tmp/13.jpg', '/tmp/6.jpg', '/tmp/0.jpg', '/tmp/12.jpg', '/tmp/18.jpg', '/tmp/14.jpg', '/tmp/15.jpg', '/tmp/3.jpg', '/tmp/11.jpg', '/tmp/16.jpg', '/tmp/10.jpg', '/tmp/4.jpg', '/tmp/1.jpg', '/tmp/5.jpg', '/tmp/9.jpg', '/tmp/2.jpg', '/tmp/19.jpg', '/tmp/7.jpg', '/tmp/17.jpg']}]\n",
      "[]\n",
      "(2, 255, 255, 3)\n"
     ]
    }
   ],
   "source": [
    "df_iter = DataFrameIterator(\n",
    "    df, \n",
    "    input_columns=['img_path'],\n",
    "    batch_size=2\n",
    ")\n",
    "print(df_iter.inputs)\n",
    "print(df_iter.outputs)\n",
    "for x in next(df_iter):\n",
    "    print(x.shape)"
   ]
  },
  {
   "cell_type": "code",
   "execution_count": 5,
   "metadata": {},
   "outputs": [
    {
     "name": "stdout",
     "output_type": "stream",
     "text": [
      "[{'column': 'img_path', 'values': ['/tmp/8.jpg', '/tmp/13.jpg', '/tmp/6.jpg', '/tmp/0.jpg', '/tmp/12.jpg', '/tmp/18.jpg', '/tmp/14.jpg', '/tmp/15.jpg', '/tmp/3.jpg', '/tmp/11.jpg', '/tmp/16.jpg', '/tmp/10.jpg', '/tmp/4.jpg', '/tmp/1.jpg', '/tmp/5.jpg', '/tmp/9.jpg', '/tmp/2.jpg', '/tmp/19.jpg', '/tmp/7.jpg', '/tmp/17.jpg']}, {'column': 'img_path_extra', 'values': ['/tmp/0.jpg', '/tmp/1.jpg', '/tmp/2.jpg', '/tmp/3.jpg', '/tmp/4.jpg', '/tmp/5.jpg', '/tmp/6.jpg', '/tmp/7.jpg', '/tmp/8.jpg', '/tmp/9.jpg', '/tmp/10.jpg', '/tmp/11.jpg', '/tmp/12.jpg', '/tmp/13.jpg', '/tmp/14.jpg', '/tmp/15.jpg', '/tmp/16.jpg', '/tmp/17.jpg', '/tmp/18.jpg', '/tmp/19.jpg']}]\n",
      "\n",
      "[]\n",
      "(2, 255, 255, 3)\n",
      "(2, 255, 255, 3)\n"
     ]
    }
   ],
   "source": [
    "df_iter = DataFrameIterator(\n",
    "    df, \n",
    "    input_columns=['img_path', 'img_path_extra'],\n",
    "    batch_size=2\n",
    ")\n",
    "print(df_iter.inputs)\n",
    "print()\n",
    "print(df_iter.outputs)\n",
    "for x in next(df_iter):\n",
    "    print(x.shape)"
   ]
  },
  {
   "cell_type": "markdown",
   "metadata": {},
   "source": [
    "### Regression"
   ]
  },
  {
   "cell_type": "code",
   "execution_count": 6,
   "metadata": {},
   "outputs": [
    {
     "name": "stdout",
     "output_type": "stream",
     "text": [
      "[{'column': 'img_path', 'values': ['/tmp/8.jpg', '/tmp/13.jpg', '/tmp/6.jpg', '/tmp/0.jpg', '/tmp/12.jpg', '/tmp/18.jpg', '/tmp/14.jpg', '/tmp/15.jpg', '/tmp/3.jpg', '/tmp/11.jpg', '/tmp/16.jpg', '/tmp/10.jpg', '/tmp/4.jpg', '/tmp/1.jpg', '/tmp/5.jpg', '/tmp/9.jpg', '/tmp/2.jpg', '/tmp/19.jpg', '/tmp/7.jpg', '/tmp/17.jpg']}]\n",
      "\n",
      "[{'column': 'regression', 'mode': None, 'values': [4, 8, 7, 8, 4, 9, 2, 6, 4, 8, 4, 2, 9, 4, 9, 3, 6, 3, 6, 4]}]\n"
     ]
    },
    {
     "name": "stderr",
     "output_type": "stream",
     "text": [
      "WARNING: Logging before flag parsing goes to stderr.\n",
      "W1008 08:31:37.429927 140055512885056 deprecation_wrapper.py:119] From /home/rodrigo/anaconda3/envs/keras-dev/lib/python3.6/site-packages/keras/backend/tensorflow_backend.py:422: The name tf.global_variables is deprecated. Please use tf.compat.v1.global_variables instead.\n",
      "\n"
     ]
    },
    {
     "name": "stdout",
     "output_type": "stream",
     "text": [
      "Epoch 1/1\n",
      "10/10 [==============================] - 0s 13ms/step - loss: 100815074.0377\n"
     ]
    },
    {
     "data": {
      "text/plain": [
       "<keras.callbacks.callbacks.History at 0x7f60dcee46d8>"
      ]
     },
     "execution_count": 6,
     "metadata": {},
     "output_type": "execute_result"
    }
   ],
   "source": [
    "df_iter = DataFrameIterator(\n",
    "    df, \n",
    "    input_columns='img_path',\n",
    "    output_columns='regression',\n",
    "    batch_size=2\n",
    ")\n",
    "print(df_iter.inputs)\n",
    "print()\n",
    "print(df_iter.outputs)\n",
    "model = Sequential()\n",
    "model.add(Flatten(input_shape=(255, 255, 3)))\n",
    "model.add(Dense(1))\n",
    "model.compile('adam', 'mse')\n",
    "model.fit_generator(df_iter)"
   ]
  },
  {
   "cell_type": "code",
   "execution_count": 7,
   "metadata": {},
   "outputs": [
    {
     "name": "stdout",
     "output_type": "stream",
     "text": [
      "[{'column': 'np_filename', 'values': ['/tmp/8.npy', '/tmp/13.npy', '/tmp/6.npy', '/tmp/0.npy', '/tmp/12.npy', '/tmp/18.npy', '/tmp/14.npy', '/tmp/15.npy', '/tmp/3.npy', '/tmp/11.npy', '/tmp/16.npy', '/tmp/10.npy', '/tmp/4.npy', '/tmp/1.npy', '/tmp/5.npy', '/tmp/9.npy', '/tmp/2.npy', '/tmp/19.npy', '/tmp/7.npy', '/tmp/17.npy']}]\n",
      "\n",
      "[{'column': 'regression', 'mode': None, 'values': [4, 8, 7, 8, 4, 9, 2, 6, 4, 8, 4, 2, 9, 4, 9, 3, 6, 3, 6, 4]}]\n",
      "Epoch 1/1\n",
      "10/10 [==============================] - 0s 10ms/step - loss: 133433180.0582\n"
     ]
    },
    {
     "data": {
      "text/plain": [
       "<keras.callbacks.callbacks.History at 0x7f60dc38c208>"
      ]
     },
     "execution_count": 7,
     "metadata": {},
     "output_type": "execute_result"
    }
   ],
   "source": [
    "df_iter = DataFrameIterator(\n",
    "    df, \n",
    "    input_columns='np_filename',\n",
    "    output_columns=['regression'],\n",
    "    batch_size=2\n",
    ")\n",
    "print(df_iter.inputs)\n",
    "print()\n",
    "print(df_iter.outputs)\n",
    "model = Sequential()\n",
    "model.add(Flatten(input_shape=(255,255,3)))\n",
    "model.add(Dense(1))\n",
    "model.compile('adam', 'mse')\n",
    "model.fit_generator(df_iter)"
   ]
  },
  {
   "cell_type": "markdown",
   "metadata": {},
   "source": [
    "### Binary classification"
   ]
  },
  {
   "cell_type": "code",
   "execution_count": 8,
   "metadata": {},
   "outputs": [
    {
     "name": "stderr",
     "output_type": "stream",
     "text": [
      "W1008 08:31:38.126500 140055512885056 deprecation.py:323] From /home/rodrigo/anaconda3/envs/keras-dev/lib/python3.6/site-packages/tensorflow/python/ops/nn_impl.py:180: add_dispatch_support.<locals>.wrapper (from tensorflow.python.ops.array_ops) is deprecated and will be removed in a future version.\n",
      "Instructions for updating:\n",
      "Use tf.where in 2.0, which has the same broadcast rule as np.where\n"
     ]
    },
    {
     "name": "stdout",
     "output_type": "stream",
     "text": [
      "[{'column': 'img_path', 'values': ['/tmp/8.jpg', '/tmp/13.jpg', '/tmp/6.jpg', '/tmp/0.jpg', '/tmp/12.jpg', '/tmp/18.jpg', '/tmp/14.jpg', '/tmp/15.jpg', '/tmp/3.jpg', '/tmp/11.jpg', '/tmp/16.jpg', '/tmp/10.jpg', '/tmp/4.jpg', '/tmp/1.jpg', '/tmp/5.jpg', '/tmp/9.jpg', '/tmp/2.jpg', '/tmp/19.jpg', '/tmp/7.jpg', '/tmp/17.jpg']}]\n",
      "\n",
      "[{'column': 'binary', 'mode': 'sparse', 'values': [0, 1, 1, 1, 1, 0, 0, 0, 0, 0, 1, 0, 1, 0, 0, 0, 1, 0, 1, 1], 'index_to_class': {0: 'cat', 1: 'dog'}}]\n",
      "Epoch 1/1\n",
      "10/10 [==============================] - 0s 12ms/step - loss: 4362.8710\n"
     ]
    },
    {
     "data": {
      "text/plain": [
       "<keras.callbacks.callbacks.History at 0x7f60d440bd30>"
      ]
     },
     "execution_count": 8,
     "metadata": {},
     "output_type": "execute_result"
    }
   ],
   "source": [
    "df_iter = DataFrameIterator(\n",
    "    df, \n",
    "    input_columns='img_path',\n",
    "    output_columns=['binary'],\n",
    "    output_modes={'binary': 'sparse'},\n",
    "    batch_size=2,\n",
    "    shuffle=False\n",
    ")\n",
    "print(df_iter.inputs)\n",
    "print()\n",
    "print(df_iter.outputs)\n",
    "model = Sequential()\n",
    "model.add(Flatten(input_shape=(255,255,3)))\n",
    "model.add(Dense(1, activation='sigmoid'))\n",
    "model.compile('adam', 'binary_crossentropy')\n",
    "model.fit_generator(df_iter)"
   ]
  },
  {
   "cell_type": "code",
   "execution_count": 9,
   "metadata": {},
   "outputs": [
    {
     "name": "stdout",
     "output_type": "stream",
     "text": [
      "[{'column': 'np_filename', 'values': ['/tmp/8.npy', '/tmp/13.npy', '/tmp/6.npy', '/tmp/0.npy', '/tmp/12.npy', '/tmp/18.npy', '/tmp/14.npy', '/tmp/15.npy', '/tmp/3.npy', '/tmp/11.npy', '/tmp/16.npy', '/tmp/10.npy', '/tmp/4.npy', '/tmp/1.npy', '/tmp/5.npy', '/tmp/9.npy', '/tmp/2.npy', '/tmp/19.npy', '/tmp/7.npy', '/tmp/17.npy']}]\n",
      "\n",
      "[{'column': 'binary', 'mode': 'sparse', 'values': [0, 1, 1, 1, 1, 0, 0, 0, 0, 0, 1, 0, 1, 0, 0, 0, 1, 0, 1, 1], 'index_to_class': {0: 'cat', 1: 'dog'}}]\n",
      "Epoch 1/1\n",
      "10/10 [==============================] - 0s 9ms/step - loss: 41.8529\n"
     ]
    },
    {
     "data": {
      "text/plain": [
       "<keras.callbacks.callbacks.History at 0x7f60d4103240>"
      ]
     },
     "execution_count": 9,
     "metadata": {},
     "output_type": "execute_result"
    }
   ],
   "source": [
    "df_iter = DataFrameIterator(\n",
    "    df, \n",
    "    input_columns='np_filename',\n",
    "    output_columns=['binary'],\n",
    "    output_modes={'binary': 'sparse'},\n",
    "    batch_size=2,\n",
    "    color_mode='grayscale',\n",
    "    image_size=(2,2),\n",
    "    shuffle=False\n",
    ")\n",
    "print(df_iter.inputs)\n",
    "print()\n",
    "print(df_iter.outputs)\n",
    "model = Sequential()\n",
    "model.add(Flatten(input_shape=(2,2,1)))\n",
    "model.add(Dense(1, activation='sigmoid'))\n",
    "model.compile('adam', 'binary_crossentropy')\n",
    "model.fit_generator(df_iter)"
   ]
  },
  {
   "cell_type": "markdown",
   "metadata": {},
   "source": [
    "### Multi-class classsification"
   ]
  },
  {
   "cell_type": "code",
   "execution_count": 43,
   "metadata": {
    "scrolled": false
   },
   "outputs": [
    {
     "name": "stdout",
     "output_type": "stream",
     "text": [
      "[{'column': 'img_path', 'values': ['/tmp/8.jpg', '/tmp/13.jpg', '/tmp/6.jpg', '/tmp/0.jpg', '/tmp/12.jpg', '/tmp/18.jpg', '/tmp/14.jpg', '/tmp/15.jpg', '/tmp/3.jpg', '/tmp/11.jpg', '/tmp/16.jpg', '/tmp/10.jpg', '/tmp/4.jpg', '/tmp/1.jpg', '/tmp/5.jpg', '/tmp/9.jpg', '/tmp/2.jpg', '/tmp/19.jpg', '/tmp/7.jpg', '/tmp/17.jpg']}]\n",
      "\n",
      "[{'column': 'multi_class', 'mode': 'sparse', 'values': [0, 0, 1, 2, 0, 0, 2, 0, 2, 1, 1, 0, 2, 0, 0, 0, 2, 1, 1, 0], 'index_to_class': {0: 'cat', 1: 'dog', 2: 'horse'}}]\n",
      "Epoch 1/1\n",
      "10/10 [==============================] - 0s 38ms/step - loss: 191.8427\n"
     ]
    },
    {
     "data": {
      "text/plain": [
       "<keras.callbacks.callbacks.History at 0x7f6074cc54e0>"
      ]
     },
     "execution_count": 43,
     "metadata": {},
     "output_type": "execute_result"
    }
   ],
   "source": [
    "df_iter = DataFrameIterator(\n",
    "    df, \n",
    "    input_columns='img_path',\n",
    "    output_columns=['multi_class'],\n",
    "    output_modes={'multi_class': 'sparse'},\n",
    "    batch_size=2,\n",
    "    color_mode='grayscale',\n",
    "    image_size=(2,2),\n",
    "    shuffle=False\n",
    ")\n",
    "print(df_iter.inputs)\n",
    "print()\n",
    "print(df_iter.outputs)\n",
    "\n",
    "model = Sequential()\n",
    "model.add(Flatten(input_shape=(2,2,1)))\n",
    "model.add(Dense(3, activation='softmax'))\n",
    "model.compile('adam', 'sparse_categorical_crossentropy')\n",
    "model.fit_generator(df_iter)"
   ]
  },
  {
   "cell_type": "code",
   "execution_count": 44,
   "metadata": {},
   "outputs": [
    {
     "name": "stdout",
     "output_type": "stream",
     "text": [
      "[{'column': 'np_filename', 'values': ['/tmp/8.npy', '/tmp/13.npy', '/tmp/6.npy', '/tmp/0.npy', '/tmp/12.npy', '/tmp/18.npy', '/tmp/14.npy', '/tmp/15.npy', '/tmp/3.npy', '/tmp/11.npy', '/tmp/16.npy', '/tmp/10.npy', '/tmp/4.npy', '/tmp/1.npy', '/tmp/5.npy', '/tmp/9.npy', '/tmp/2.npy', '/tmp/19.npy', '/tmp/7.npy', '/tmp/17.npy']}]\n",
      "\n",
      "[{'column': 'multi_class', 'mode': 'sparse', 'values': [0, 0, 1, 2, 0, 0, 2, 0, 2, 1, 1, 0, 2, 0, 0, 0, 2, 1, 1, 0], 'index_to_class': {0: 'cat', 1: 'dog', 2: 'horse'}}]\n",
      "Epoch 1/1\n",
      "10/10 [==============================] - 0s 39ms/step - loss: 108.7028\n"
     ]
    },
    {
     "data": {
      "text/plain": [
       "<keras.callbacks.callbacks.History at 0x7f6074083390>"
      ]
     },
     "execution_count": 44,
     "metadata": {},
     "output_type": "execute_result"
    }
   ],
   "source": [
    "df_iter = DataFrameIterator(\n",
    "    df, \n",
    "    input_columns='np_filename',\n",
    "    output_columns=['multi_class'],\n",
    "    output_modes={'multi_class': 'sparse'},\n",
    "    batch_size=2,\n",
    "    color_mode='grayscale',\n",
    "    image_size=(2,2),\n",
    "    shuffle=False\n",
    ")\n",
    "print(df_iter.inputs)\n",
    "print()\n",
    "print(df_iter.outputs)\n",
    "\n",
    "model = Sequential()\n",
    "model.add(Flatten(input_shape=(2,2,1)))\n",
    "model.add(Dense(3, activation='softmax'))\n",
    "model.compile('adam', 'sparse_categorical_crossentropy')\n",
    "model.fit_generator(df_iter)"
   ]
  },
  {
   "cell_type": "code",
   "execution_count": 45,
   "metadata": {
    "scrolled": false
   },
   "outputs": [
    {
     "name": "stdout",
     "output_type": "stream",
     "text": [
      "[{'column': 'img_path', 'values': ['/tmp/8.jpg', '/tmp/13.jpg', '/tmp/6.jpg', '/tmp/0.jpg', '/tmp/12.jpg', '/tmp/18.jpg', '/tmp/14.jpg', '/tmp/15.jpg', '/tmp/3.jpg', '/tmp/11.jpg', '/tmp/16.jpg', '/tmp/10.jpg', '/tmp/4.jpg', '/tmp/1.jpg', '/tmp/5.jpg', '/tmp/9.jpg', '/tmp/2.jpg', '/tmp/19.jpg', '/tmp/7.jpg', '/tmp/17.jpg']}]\n",
      "\n",
      "[{'column': 'multi_class', 'mode': 'categorical', 'values': [], 'index_to_class': {0: 'cat', 1: 'dog', 2: 'horse'}}]\n",
      "Epoch 1/1\n"
     ]
    },
    {
     "ename": "IndexError",
     "evalue": "list index out of range",
     "output_type": "error",
     "traceback": [
      "\u001b[0;31m---------------------------------------------------------------------------\u001b[0m",
      "\u001b[0;31mIndexError\u001b[0m                                Traceback (most recent call last)",
      "\u001b[0;32m<ipython-input-45-3c00dbf13565>\u001b[0m in \u001b[0;36m<module>\u001b[0;34m\u001b[0m\n\u001b[1;32m     15\u001b[0m \u001b[0mmodel\u001b[0m\u001b[0;34m.\u001b[0m\u001b[0madd\u001b[0m\u001b[0;34m(\u001b[0m\u001b[0mDense\u001b[0m\u001b[0;34m(\u001b[0m\u001b[0;36m3\u001b[0m\u001b[0;34m,\u001b[0m \u001b[0mactivation\u001b[0m\u001b[0;34m=\u001b[0m\u001b[0;34m'softmax'\u001b[0m\u001b[0;34m)\u001b[0m\u001b[0;34m)\u001b[0m\u001b[0;34m\u001b[0m\u001b[0;34m\u001b[0m\u001b[0m\n\u001b[1;32m     16\u001b[0m \u001b[0mmodel\u001b[0m\u001b[0;34m.\u001b[0m\u001b[0mcompile\u001b[0m\u001b[0;34m(\u001b[0m\u001b[0;34m'adam'\u001b[0m\u001b[0;34m,\u001b[0m \u001b[0;34m'categorical_crossentropy'\u001b[0m\u001b[0;34m)\u001b[0m\u001b[0;34m\u001b[0m\u001b[0;34m\u001b[0m\u001b[0m\n\u001b[0;32m---> 17\u001b[0;31m \u001b[0mmodel\u001b[0m\u001b[0;34m.\u001b[0m\u001b[0mfit_generator\u001b[0m\u001b[0;34m(\u001b[0m\u001b[0mdf_iter\u001b[0m\u001b[0;34m)\u001b[0m\u001b[0;34m\u001b[0m\u001b[0;34m\u001b[0m\u001b[0m\n\u001b[0m",
      "\u001b[0;32m~/anaconda3/envs/keras-dev/lib/python3.6/site-packages/keras/legacy/interfaces.py\u001b[0m in \u001b[0;36mwrapper\u001b[0;34m(*args, **kwargs)\u001b[0m\n\u001b[1;32m     89\u001b[0m                 warnings.warn('Update your `' + object_name + '` call to the ' +\n\u001b[1;32m     90\u001b[0m                               'Keras 2 API: ' + signature, stacklevel=2)\n\u001b[0;32m---> 91\u001b[0;31m             \u001b[0;32mreturn\u001b[0m \u001b[0mfunc\u001b[0m\u001b[0;34m(\u001b[0m\u001b[0;34m*\u001b[0m\u001b[0margs\u001b[0m\u001b[0;34m,\u001b[0m \u001b[0;34m**\u001b[0m\u001b[0mkwargs\u001b[0m\u001b[0;34m)\u001b[0m\u001b[0;34m\u001b[0m\u001b[0;34m\u001b[0m\u001b[0m\n\u001b[0m\u001b[1;32m     92\u001b[0m         \u001b[0mwrapper\u001b[0m\u001b[0;34m.\u001b[0m\u001b[0m_original_function\u001b[0m \u001b[0;34m=\u001b[0m \u001b[0mfunc\u001b[0m\u001b[0;34m\u001b[0m\u001b[0;34m\u001b[0m\u001b[0m\n\u001b[1;32m     93\u001b[0m         \u001b[0;32mreturn\u001b[0m \u001b[0mwrapper\u001b[0m\u001b[0;34m\u001b[0m\u001b[0;34m\u001b[0m\u001b[0m\n",
      "\u001b[0;32m~/anaconda3/envs/keras-dev/lib/python3.6/site-packages/keras/engine/training.py\u001b[0m in \u001b[0;36mfit_generator\u001b[0;34m(self, generator, steps_per_epoch, epochs, verbose, callbacks, validation_data, validation_steps, validation_freq, class_weight, max_queue_size, workers, use_multiprocessing, shuffle, initial_epoch)\u001b[0m\n\u001b[1;32m   1730\u001b[0m             \u001b[0muse_multiprocessing\u001b[0m\u001b[0;34m=\u001b[0m\u001b[0muse_multiprocessing\u001b[0m\u001b[0;34m,\u001b[0m\u001b[0;34m\u001b[0m\u001b[0;34m\u001b[0m\u001b[0m\n\u001b[1;32m   1731\u001b[0m             \u001b[0mshuffle\u001b[0m\u001b[0;34m=\u001b[0m\u001b[0mshuffle\u001b[0m\u001b[0;34m,\u001b[0m\u001b[0;34m\u001b[0m\u001b[0;34m\u001b[0m\u001b[0m\n\u001b[0;32m-> 1732\u001b[0;31m             initial_epoch=initial_epoch)\n\u001b[0m\u001b[1;32m   1733\u001b[0m \u001b[0;34m\u001b[0m\u001b[0m\n\u001b[1;32m   1734\u001b[0m     \u001b[0;34m@\u001b[0m\u001b[0minterfaces\u001b[0m\u001b[0;34m.\u001b[0m\u001b[0mlegacy_generator_methods_support\u001b[0m\u001b[0;34m\u001b[0m\u001b[0;34m\u001b[0m\u001b[0m\n",
      "\u001b[0;32m~/anaconda3/envs/keras-dev/lib/python3.6/site-packages/keras/engine/training_generator.py\u001b[0m in \u001b[0;36mfit_generator\u001b[0;34m(model, generator, steps_per_epoch, epochs, verbose, callbacks, validation_data, validation_steps, validation_freq, class_weight, max_queue_size, workers, use_multiprocessing, shuffle, initial_epoch)\u001b[0m\n\u001b[1;32m    183\u001b[0m             \u001b[0mbatch_index\u001b[0m \u001b[0;34m=\u001b[0m \u001b[0;36m0\u001b[0m\u001b[0;34m\u001b[0m\u001b[0;34m\u001b[0m\u001b[0m\n\u001b[1;32m    184\u001b[0m             \u001b[0;32mwhile\u001b[0m \u001b[0msteps_done\u001b[0m \u001b[0;34m<\u001b[0m \u001b[0msteps_per_epoch\u001b[0m\u001b[0;34m:\u001b[0m\u001b[0;34m\u001b[0m\u001b[0;34m\u001b[0m\u001b[0m\n\u001b[0;32m--> 185\u001b[0;31m                 \u001b[0mgenerator_output\u001b[0m \u001b[0;34m=\u001b[0m \u001b[0mnext\u001b[0m\u001b[0;34m(\u001b[0m\u001b[0moutput_generator\u001b[0m\u001b[0;34m)\u001b[0m\u001b[0;34m\u001b[0m\u001b[0;34m\u001b[0m\u001b[0m\n\u001b[0m\u001b[1;32m    186\u001b[0m \u001b[0;34m\u001b[0m\u001b[0m\n\u001b[1;32m    187\u001b[0m                 \u001b[0;32mif\u001b[0m \u001b[0;32mnot\u001b[0m \u001b[0mhasattr\u001b[0m\u001b[0;34m(\u001b[0m\u001b[0mgenerator_output\u001b[0m\u001b[0;34m,\u001b[0m \u001b[0;34m'__len__'\u001b[0m\u001b[0;34m)\u001b[0m\u001b[0;34m:\u001b[0m\u001b[0;34m\u001b[0m\u001b[0;34m\u001b[0m\u001b[0m\n",
      "\u001b[0;32m~/anaconda3/envs/keras-dev/lib/python3.6/site-packages/keras/utils/data_utils.py\u001b[0m in \u001b[0;36mget\u001b[0;34m(self)\u001b[0m\n\u001b[1;32m    623\u001b[0m         \u001b[0;32mexcept\u001b[0m \u001b[0mException\u001b[0m\u001b[0;34m:\u001b[0m\u001b[0;34m\u001b[0m\u001b[0;34m\u001b[0m\u001b[0m\n\u001b[1;32m    624\u001b[0m             \u001b[0mself\u001b[0m\u001b[0;34m.\u001b[0m\u001b[0mstop\u001b[0m\u001b[0;34m(\u001b[0m\u001b[0;34m)\u001b[0m\u001b[0;34m\u001b[0m\u001b[0;34m\u001b[0m\u001b[0m\n\u001b[0;32m--> 625\u001b[0;31m             \u001b[0msix\u001b[0m\u001b[0;34m.\u001b[0m\u001b[0mreraise\u001b[0m\u001b[0;34m(\u001b[0m\u001b[0;34m*\u001b[0m\u001b[0msys\u001b[0m\u001b[0;34m.\u001b[0m\u001b[0mexc_info\u001b[0m\u001b[0;34m(\u001b[0m\u001b[0;34m)\u001b[0m\u001b[0;34m)\u001b[0m\u001b[0;34m\u001b[0m\u001b[0;34m\u001b[0m\u001b[0m\n\u001b[0m\u001b[1;32m    626\u001b[0m \u001b[0;34m\u001b[0m\u001b[0m\n\u001b[1;32m    627\u001b[0m \u001b[0;34m\u001b[0m\u001b[0m\n",
      "\u001b[0;32m~/anaconda3/envs/keras-dev/lib/python3.6/site-packages/six.py\u001b[0m in \u001b[0;36mreraise\u001b[0;34m(tp, value, tb)\u001b[0m\n\u001b[1;32m    691\u001b[0m             \u001b[0;32mif\u001b[0m \u001b[0mvalue\u001b[0m\u001b[0;34m.\u001b[0m\u001b[0m__traceback__\u001b[0m \u001b[0;32mis\u001b[0m \u001b[0;32mnot\u001b[0m \u001b[0mtb\u001b[0m\u001b[0;34m:\u001b[0m\u001b[0;34m\u001b[0m\u001b[0;34m\u001b[0m\u001b[0m\n\u001b[1;32m    692\u001b[0m                 \u001b[0;32mraise\u001b[0m \u001b[0mvalue\u001b[0m\u001b[0;34m.\u001b[0m\u001b[0mwith_traceback\u001b[0m\u001b[0;34m(\u001b[0m\u001b[0mtb\u001b[0m\u001b[0;34m)\u001b[0m\u001b[0;34m\u001b[0m\u001b[0;34m\u001b[0m\u001b[0m\n\u001b[0;32m--> 693\u001b[0;31m             \u001b[0;32mraise\u001b[0m \u001b[0mvalue\u001b[0m\u001b[0;34m\u001b[0m\u001b[0;34m\u001b[0m\u001b[0m\n\u001b[0m\u001b[1;32m    694\u001b[0m         \u001b[0;32mfinally\u001b[0m\u001b[0;34m:\u001b[0m\u001b[0;34m\u001b[0m\u001b[0;34m\u001b[0m\u001b[0m\n\u001b[1;32m    695\u001b[0m             \u001b[0mvalue\u001b[0m \u001b[0;34m=\u001b[0m \u001b[0;32mNone\u001b[0m\u001b[0;34m\u001b[0m\u001b[0;34m\u001b[0m\u001b[0m\n",
      "\u001b[0;32m~/anaconda3/envs/keras-dev/lib/python3.6/site-packages/keras/utils/data_utils.py\u001b[0m in \u001b[0;36mget\u001b[0;34m(self)\u001b[0m\n\u001b[1;32m    608\u001b[0m                 \u001b[0;32mtry\u001b[0m\u001b[0;34m:\u001b[0m\u001b[0;34m\u001b[0m\u001b[0;34m\u001b[0m\u001b[0m\n\u001b[1;32m    609\u001b[0m                     \u001b[0mfuture\u001b[0m \u001b[0;34m=\u001b[0m \u001b[0mself\u001b[0m\u001b[0;34m.\u001b[0m\u001b[0mqueue\u001b[0m\u001b[0;34m.\u001b[0m\u001b[0mget\u001b[0m\u001b[0;34m(\u001b[0m\u001b[0mblock\u001b[0m\u001b[0;34m=\u001b[0m\u001b[0;32mTrue\u001b[0m\u001b[0;34m)\u001b[0m\u001b[0;34m\u001b[0m\u001b[0;34m\u001b[0m\u001b[0m\n\u001b[0;32m--> 610\u001b[0;31m                     \u001b[0minputs\u001b[0m \u001b[0;34m=\u001b[0m \u001b[0mfuture\u001b[0m\u001b[0;34m.\u001b[0m\u001b[0mget\u001b[0m\u001b[0;34m(\u001b[0m\u001b[0mtimeout\u001b[0m\u001b[0;34m=\u001b[0m\u001b[0;36m30\u001b[0m\u001b[0;34m)\u001b[0m\u001b[0;34m\u001b[0m\u001b[0;34m\u001b[0m\u001b[0m\n\u001b[0m\u001b[1;32m    611\u001b[0m                 \u001b[0;32mexcept\u001b[0m \u001b[0mmp\u001b[0m\u001b[0;34m.\u001b[0m\u001b[0mTimeoutError\u001b[0m\u001b[0;34m:\u001b[0m\u001b[0;34m\u001b[0m\u001b[0;34m\u001b[0m\u001b[0m\n\u001b[1;32m    612\u001b[0m                     \u001b[0midx\u001b[0m \u001b[0;34m=\u001b[0m \u001b[0mfuture\u001b[0m\u001b[0;34m.\u001b[0m\u001b[0midx\u001b[0m\u001b[0;34m\u001b[0m\u001b[0;34m\u001b[0m\u001b[0m\n",
      "\u001b[0;32m~/anaconda3/envs/keras-dev/lib/python3.6/multiprocessing/pool.py\u001b[0m in \u001b[0;36mget\u001b[0;34m(self, timeout)\u001b[0m\n\u001b[1;32m    642\u001b[0m             \u001b[0;32mreturn\u001b[0m \u001b[0mself\u001b[0m\u001b[0;34m.\u001b[0m\u001b[0m_value\u001b[0m\u001b[0;34m\u001b[0m\u001b[0;34m\u001b[0m\u001b[0m\n\u001b[1;32m    643\u001b[0m         \u001b[0;32melse\u001b[0m\u001b[0;34m:\u001b[0m\u001b[0;34m\u001b[0m\u001b[0;34m\u001b[0m\u001b[0m\n\u001b[0;32m--> 644\u001b[0;31m             \u001b[0;32mraise\u001b[0m \u001b[0mself\u001b[0m\u001b[0;34m.\u001b[0m\u001b[0m_value\u001b[0m\u001b[0;34m\u001b[0m\u001b[0;34m\u001b[0m\u001b[0m\n\u001b[0m\u001b[1;32m    645\u001b[0m \u001b[0;34m\u001b[0m\u001b[0m\n\u001b[1;32m    646\u001b[0m     \u001b[0;32mdef\u001b[0m \u001b[0m_set\u001b[0m\u001b[0;34m(\u001b[0m\u001b[0mself\u001b[0m\u001b[0;34m,\u001b[0m \u001b[0mi\u001b[0m\u001b[0;34m,\u001b[0m \u001b[0mobj\u001b[0m\u001b[0;34m)\u001b[0m\u001b[0;34m:\u001b[0m\u001b[0;34m\u001b[0m\u001b[0;34m\u001b[0m\u001b[0m\n",
      "\u001b[0;32m~/anaconda3/envs/keras-dev/lib/python3.6/multiprocessing/pool.py\u001b[0m in \u001b[0;36mworker\u001b[0;34m(inqueue, outqueue, initializer, initargs, maxtasks, wrap_exception)\u001b[0m\n\u001b[1;32m    117\u001b[0m         \u001b[0mjob\u001b[0m\u001b[0;34m,\u001b[0m \u001b[0mi\u001b[0m\u001b[0;34m,\u001b[0m \u001b[0mfunc\u001b[0m\u001b[0;34m,\u001b[0m \u001b[0margs\u001b[0m\u001b[0;34m,\u001b[0m \u001b[0mkwds\u001b[0m \u001b[0;34m=\u001b[0m \u001b[0mtask\u001b[0m\u001b[0;34m\u001b[0m\u001b[0;34m\u001b[0m\u001b[0m\n\u001b[1;32m    118\u001b[0m         \u001b[0;32mtry\u001b[0m\u001b[0;34m:\u001b[0m\u001b[0;34m\u001b[0m\u001b[0;34m\u001b[0m\u001b[0m\n\u001b[0;32m--> 119\u001b[0;31m             \u001b[0mresult\u001b[0m \u001b[0;34m=\u001b[0m \u001b[0;34m(\u001b[0m\u001b[0;32mTrue\u001b[0m\u001b[0;34m,\u001b[0m \u001b[0mfunc\u001b[0m\u001b[0;34m(\u001b[0m\u001b[0;34m*\u001b[0m\u001b[0margs\u001b[0m\u001b[0;34m,\u001b[0m \u001b[0;34m**\u001b[0m\u001b[0mkwds\u001b[0m\u001b[0;34m)\u001b[0m\u001b[0;34m)\u001b[0m\u001b[0;34m\u001b[0m\u001b[0;34m\u001b[0m\u001b[0m\n\u001b[0m\u001b[1;32m    120\u001b[0m         \u001b[0;32mexcept\u001b[0m \u001b[0mException\u001b[0m \u001b[0;32mas\u001b[0m \u001b[0me\u001b[0m\u001b[0;34m:\u001b[0m\u001b[0;34m\u001b[0m\u001b[0;34m\u001b[0m\u001b[0m\n\u001b[1;32m    121\u001b[0m             \u001b[0;32mif\u001b[0m \u001b[0mwrap_exception\u001b[0m \u001b[0;32mand\u001b[0m \u001b[0mfunc\u001b[0m \u001b[0;32mis\u001b[0m \u001b[0;32mnot\u001b[0m \u001b[0m_helper_reraises_exception\u001b[0m\u001b[0;34m:\u001b[0m\u001b[0;34m\u001b[0m\u001b[0;34m\u001b[0m\u001b[0m\n",
      "\u001b[0;32m~/anaconda3/envs/keras-dev/lib/python3.6/site-packages/keras/utils/data_utils.py\u001b[0m in \u001b[0;36mget_index\u001b[0;34m(uid, i)\u001b[0m\n\u001b[1;32m    404\u001b[0m         \u001b[0mThe\u001b[0m \u001b[0mvalue\u001b[0m \u001b[0mat\u001b[0m \u001b[0mindex\u001b[0m\u001b[0;31m \u001b[0m\u001b[0;31m`\u001b[0m\u001b[0mi\u001b[0m\u001b[0;31m`\u001b[0m\u001b[0;34m.\u001b[0m\u001b[0;34m\u001b[0m\u001b[0;34m\u001b[0m\u001b[0m\n\u001b[1;32m    405\u001b[0m     \"\"\"\n\u001b[0;32m--> 406\u001b[0;31m     \u001b[0;32mreturn\u001b[0m \u001b[0m_SHARED_SEQUENCES\u001b[0m\u001b[0;34m[\u001b[0m\u001b[0muid\u001b[0m\u001b[0;34m]\u001b[0m\u001b[0;34m[\u001b[0m\u001b[0mi\u001b[0m\u001b[0;34m]\u001b[0m\u001b[0;34m\u001b[0m\u001b[0;34m\u001b[0m\u001b[0m\n\u001b[0m\u001b[1;32m    407\u001b[0m \u001b[0;34m\u001b[0m\u001b[0m\n\u001b[1;32m    408\u001b[0m \u001b[0;34m\u001b[0m\u001b[0m\n",
      "\u001b[0;32m~/open-source/keras-dev/keras-preprocessing/keras_preprocessing/image/iterator.py\u001b[0m in \u001b[0;36m__getitem__\u001b[0;34m(self, idx)\u001b[0m\n\u001b[1;32m     59\u001b[0m         index_array = self.index_array[self.batch_size * idx:\n\u001b[1;32m     60\u001b[0m                                        self.batch_size * (idx + 1)]\n\u001b[0;32m---> 61\u001b[0;31m         \u001b[0;32mreturn\u001b[0m \u001b[0mself\u001b[0m\u001b[0;34m.\u001b[0m\u001b[0m_get_batches_of_transformed_samples\u001b[0m\u001b[0;34m(\u001b[0m\u001b[0mindex_array\u001b[0m\u001b[0;34m)\u001b[0m\u001b[0;34m\u001b[0m\u001b[0;34m\u001b[0m\u001b[0m\n\u001b[0m\u001b[1;32m     62\u001b[0m \u001b[0;34m\u001b[0m\u001b[0m\n\u001b[1;32m     63\u001b[0m     \u001b[0;32mdef\u001b[0m \u001b[0m__len__\u001b[0m\u001b[0;34m(\u001b[0m\u001b[0mself\u001b[0m\u001b[0;34m)\u001b[0m\u001b[0;34m:\u001b[0m\u001b[0;34m\u001b[0m\u001b[0;34m\u001b[0m\u001b[0m\n",
      "\u001b[0;32m~/open-source/keras-dev/keras-preprocessing/keras_preprocessing/image/iterator.py\u001b[0m in \u001b[0;36m_get_batches_of_transformed_samples\u001b[0;34m(self, index_array)\u001b[0m\n\u001b[1;32m    238\u001b[0m                 \u001b[0minputs\u001b[0m\u001b[0;34m=\u001b[0m\u001b[0mself\u001b[0m\u001b[0;34m.\u001b[0m\u001b[0minputs\u001b[0m\u001b[0;34m,\u001b[0m\u001b[0;34m\u001b[0m\u001b[0;34m\u001b[0m\u001b[0m\n\u001b[1;32m    239\u001b[0m                 \u001b[0minputs_batch\u001b[0m\u001b[0;34m=\u001b[0m\u001b[0minputs_batch\u001b[0m\u001b[0;34m,\u001b[0m\u001b[0;34m\u001b[0m\u001b[0;34m\u001b[0m\u001b[0m\n\u001b[0;32m--> 240\u001b[0;31m                 \u001b[0moutput_column\u001b[0m\u001b[0;34m=\u001b[0m\u001b[0moutput\u001b[0m\u001b[0;34m[\u001b[0m\u001b[0;34m'column'\u001b[0m\u001b[0;34m]\u001b[0m\u001b[0;34m\u001b[0m\u001b[0;34m\u001b[0m\u001b[0m\n\u001b[0m\u001b[1;32m    241\u001b[0m             )\n\u001b[1;32m    242\u001b[0m             \u001b[0moutputs_batch\u001b[0m\u001b[0;34m.\u001b[0m\u001b[0mappend\u001b[0m\u001b[0;34m(\u001b[0m\u001b[0mbatch_y\u001b[0m\u001b[0;34m)\u001b[0m\u001b[0;34m\u001b[0m\u001b[0;34m\u001b[0m\u001b[0m\n",
      "\u001b[0;32m~/open-source/keras-dev/keras-preprocessing/keras_preprocessing/image/data_transformations.py\u001b[0m in \u001b[0;36mtransform_batch\u001b[0;34m(mode, values, index_array, dtype, **kwargs)\u001b[0m\n\u001b[1;32m     56\u001b[0m         \u001b[0;34m'image'\u001b[0m\u001b[0;34m:\u001b[0m \u001b[0m_load_images\u001b[0m\u001b[0;34m\u001b[0m\u001b[0;34m\u001b[0m\u001b[0m\n\u001b[1;32m     57\u001b[0m     }\n\u001b[0;32m---> 58\u001b[0;31m     \u001b[0;32mreturn\u001b[0m \u001b[0mbatch_transformations\u001b[0m\u001b[0;34m[\u001b[0m\u001b[0mmode\u001b[0m\u001b[0;34m]\u001b[0m\u001b[0;34m(\u001b[0m\u001b[0mvalues\u001b[0m\u001b[0;34m,\u001b[0m \u001b[0mindex_array\u001b[0m\u001b[0;34m,\u001b[0m \u001b[0mdtype\u001b[0m\u001b[0;34m,\u001b[0m \u001b[0;34m**\u001b[0m\u001b[0mkwargs\u001b[0m\u001b[0;34m)\u001b[0m\u001b[0;34m\u001b[0m\u001b[0;34m\u001b[0m\u001b[0m\n\u001b[0m\u001b[1;32m     59\u001b[0m \u001b[0;34m\u001b[0m\u001b[0m\n\u001b[1;32m     60\u001b[0m \u001b[0;34m\u001b[0m\u001b[0m\n",
      "\u001b[0;32m~/open-source/keras-dev/keras-preprocessing/keras_preprocessing/image/data_transformations.py\u001b[0m in \u001b[0;36m_binarize\u001b[0;34m(values, index_array, dtype, index_to_class, **kwargs)\u001b[0m\n\u001b[1;32m     66\u001b[0m     \u001b[0mbatch_y\u001b[0m \u001b[0;34m=\u001b[0m \u001b[0mnp\u001b[0m\u001b[0;34m.\u001b[0m\u001b[0mzeros\u001b[0m\u001b[0;34m(\u001b[0m\u001b[0;34m(\u001b[0m\u001b[0mlen\u001b[0m\u001b[0;34m(\u001b[0m\u001b[0mindex_array\u001b[0m\u001b[0;34m)\u001b[0m\u001b[0;34m,\u001b[0m \u001b[0mlen\u001b[0m\u001b[0;34m(\u001b[0m\u001b[0mindex_to_class\u001b[0m\u001b[0;34m)\u001b[0m\u001b[0;34m)\u001b[0m\u001b[0;34m,\u001b[0m \u001b[0mdtype\u001b[0m\u001b[0;34m=\u001b[0m\u001b[0mdtype\u001b[0m\u001b[0;34m)\u001b[0m\u001b[0;34m\u001b[0m\u001b[0;34m\u001b[0m\u001b[0m\n\u001b[1;32m     67\u001b[0m     \u001b[0;32mfor\u001b[0m \u001b[0mi\u001b[0m\u001b[0;34m,\u001b[0m \u001b[0mn_observation\u001b[0m \u001b[0;32min\u001b[0m \u001b[0menumerate\u001b[0m\u001b[0;34m(\u001b[0m\u001b[0mindex_array\u001b[0m\u001b[0;34m)\u001b[0m\u001b[0;34m:\u001b[0m\u001b[0;34m\u001b[0m\u001b[0;34m\u001b[0m\u001b[0m\n\u001b[0;32m---> 68\u001b[0;31m         \u001b[0mbatch_y\u001b[0m\u001b[0;34m[\u001b[0m\u001b[0mi\u001b[0m\u001b[0;34m,\u001b[0m \u001b[0mvalues\u001b[0m\u001b[0;34m[\u001b[0m\u001b[0mn_observation\u001b[0m\u001b[0;34m]\u001b[0m\u001b[0;34m]\u001b[0m \u001b[0;34m=\u001b[0m \u001b[0;36m1\u001b[0m\u001b[0;34m\u001b[0m\u001b[0;34m\u001b[0m\u001b[0m\n\u001b[0m\u001b[1;32m     69\u001b[0m     \u001b[0;32mreturn\u001b[0m \u001b[0mbatch_y\u001b[0m\u001b[0;34m\u001b[0m\u001b[0;34m\u001b[0m\u001b[0m\n\u001b[1;32m     70\u001b[0m \u001b[0;34m\u001b[0m\u001b[0m\n",
      "\u001b[0;31mIndexError\u001b[0m: list index out of range"
     ]
    }
   ],
   "source": [
    "df_iter = DataFrameIterator(\n",
    "    df, \n",
    "    input_columns='img_path',\n",
    "    output_columns=['multi_class'],\n",
    "    output_modes={'multi_class': 'categorical'},\n",
    "    batch_size=2,\n",
    "    shuffle=False\n",
    ")\n",
    "print(df_iter.inputs)\n",
    "print()\n",
    "print(df_iter.outputs)\n",
    "\n",
    "model = Sequential()\n",
    "model.add(Flatten(input_shape=(255,255,3)))\n",
    "model.add(Dense(3, activation='softmax'))\n",
    "model.compile('adam', 'categorical_crossentropy')\n",
    "model.fit_generator(df_iter)"
   ]
  },
  {
   "cell_type": "code",
   "execution_count": null,
   "metadata": {},
   "outputs": [],
   "source": [
    "df_iter = DataFrameIterator(\n",
    "    df, \n",
    "    input_columns='np_filename',\n",
    "    output_columns=['multi_class'],\n",
    "    output_modes={'multi_class': 'categorical'},\n",
    "    batch_size=2,\n",
    "    shuffle=False\n",
    ")\n",
    "print(df_iter.inputs)\n",
    "print()\n",
    "print(df_iter.outputs)\n",
    "\n",
    "model = Sequential()\n",
    "model.add(Flatten(input_shape=(255,255,3)))\n",
    "model.add(Dense(3, activation='softmax'))\n",
    "model.compile('adam', 'categorical_crossentropy')\n",
    "model.fit_generator(df_iter)"
   ]
  },
  {
   "cell_type": "markdown",
   "metadata": {},
   "source": [
    "### Multi-label classification"
   ]
  },
  {
   "cell_type": "code",
   "execution_count": 40,
   "metadata": {},
   "outputs": [
    {
     "name": "stdout",
     "output_type": "stream",
     "text": [
      "[{'column': 'img_path', 'values': ['/tmp/8.jpg', '/tmp/13.jpg', '/tmp/6.jpg', '/tmp/0.jpg', '/tmp/12.jpg', '/tmp/18.jpg', '/tmp/14.jpg', '/tmp/15.jpg', '/tmp/3.jpg', '/tmp/11.jpg', '/tmp/16.jpg', '/tmp/10.jpg', '/tmp/4.jpg', '/tmp/1.jpg', '/tmp/5.jpg', '/tmp/9.jpg', '/tmp/2.jpg', '/tmp/19.jpg', '/tmp/7.jpg', '/tmp/17.jpg']}]\n",
      "\n",
      "[{'column': 'multi_label', 'mode': 'categorical', 'values': [[0, 1], [1, 0], [1], [0], [1, 0], [1, 0], [1, 0], [1, 0], [0], [0], [0], [0, 1], [0]], 'index_to_class': {0: 'cat', 1: 'dog'}}]\n",
      "Epoch 1/1\n",
      " 1/10 [==>...........................] - ETA: 3s - loss: 165.5659"
     ]
    },
    {
     "ename": "IndexError",
     "evalue": "list index out of range",
     "output_type": "error",
     "traceback": [
      "\u001b[0;31m---------------------------------------------------------------------------\u001b[0m",
      "\u001b[0;31mIndexError\u001b[0m                                Traceback (most recent call last)",
      "\u001b[0;32m<ipython-input-40-23cd7a3f601d>\u001b[0m in \u001b[0;36m<module>\u001b[0;34m\u001b[0m\n\u001b[1;32m     15\u001b[0m \u001b[0mmodel\u001b[0m\u001b[0;34m.\u001b[0m\u001b[0madd\u001b[0m\u001b[0;34m(\u001b[0m\u001b[0mDense\u001b[0m\u001b[0;34m(\u001b[0m\u001b[0;36m2\u001b[0m\u001b[0;34m,\u001b[0m \u001b[0mactivation\u001b[0m\u001b[0;34m=\u001b[0m\u001b[0;34m'sigmoid'\u001b[0m\u001b[0;34m)\u001b[0m\u001b[0;34m)\u001b[0m\u001b[0;34m\u001b[0m\u001b[0;34m\u001b[0m\u001b[0m\n\u001b[1;32m     16\u001b[0m \u001b[0mmodel\u001b[0m\u001b[0;34m.\u001b[0m\u001b[0mcompile\u001b[0m\u001b[0;34m(\u001b[0m\u001b[0;34m'adam'\u001b[0m\u001b[0;34m,\u001b[0m \u001b[0;34m'binary_crossentropy'\u001b[0m\u001b[0;34m)\u001b[0m\u001b[0;34m\u001b[0m\u001b[0;34m\u001b[0m\u001b[0m\n\u001b[0;32m---> 17\u001b[0;31m \u001b[0mmodel\u001b[0m\u001b[0;34m.\u001b[0m\u001b[0mfit_generator\u001b[0m\u001b[0;34m(\u001b[0m\u001b[0mdf_iter\u001b[0m\u001b[0;34m)\u001b[0m\u001b[0;34m\u001b[0m\u001b[0;34m\u001b[0m\u001b[0m\n\u001b[0m",
      "\u001b[0;32m~/anaconda3/envs/keras-dev/lib/python3.6/site-packages/keras/legacy/interfaces.py\u001b[0m in \u001b[0;36mwrapper\u001b[0;34m(*args, **kwargs)\u001b[0m\n\u001b[1;32m     89\u001b[0m                 warnings.warn('Update your `' + object_name + '` call to the ' +\n\u001b[1;32m     90\u001b[0m                               'Keras 2 API: ' + signature, stacklevel=2)\n\u001b[0;32m---> 91\u001b[0;31m             \u001b[0;32mreturn\u001b[0m \u001b[0mfunc\u001b[0m\u001b[0;34m(\u001b[0m\u001b[0;34m*\u001b[0m\u001b[0margs\u001b[0m\u001b[0;34m,\u001b[0m \u001b[0;34m**\u001b[0m\u001b[0mkwargs\u001b[0m\u001b[0;34m)\u001b[0m\u001b[0;34m\u001b[0m\u001b[0;34m\u001b[0m\u001b[0m\n\u001b[0m\u001b[1;32m     92\u001b[0m         \u001b[0mwrapper\u001b[0m\u001b[0;34m.\u001b[0m\u001b[0m_original_function\u001b[0m \u001b[0;34m=\u001b[0m \u001b[0mfunc\u001b[0m\u001b[0;34m\u001b[0m\u001b[0;34m\u001b[0m\u001b[0m\n\u001b[1;32m     93\u001b[0m         \u001b[0;32mreturn\u001b[0m \u001b[0mwrapper\u001b[0m\u001b[0;34m\u001b[0m\u001b[0;34m\u001b[0m\u001b[0m\n",
      "\u001b[0;32m~/anaconda3/envs/keras-dev/lib/python3.6/site-packages/keras/engine/training.py\u001b[0m in \u001b[0;36mfit_generator\u001b[0;34m(self, generator, steps_per_epoch, epochs, verbose, callbacks, validation_data, validation_steps, validation_freq, class_weight, max_queue_size, workers, use_multiprocessing, shuffle, initial_epoch)\u001b[0m\n\u001b[1;32m   1730\u001b[0m             \u001b[0muse_multiprocessing\u001b[0m\u001b[0;34m=\u001b[0m\u001b[0muse_multiprocessing\u001b[0m\u001b[0;34m,\u001b[0m\u001b[0;34m\u001b[0m\u001b[0;34m\u001b[0m\u001b[0m\n\u001b[1;32m   1731\u001b[0m             \u001b[0mshuffle\u001b[0m\u001b[0;34m=\u001b[0m\u001b[0mshuffle\u001b[0m\u001b[0;34m,\u001b[0m\u001b[0;34m\u001b[0m\u001b[0;34m\u001b[0m\u001b[0m\n\u001b[0;32m-> 1732\u001b[0;31m             initial_epoch=initial_epoch)\n\u001b[0m\u001b[1;32m   1733\u001b[0m \u001b[0;34m\u001b[0m\u001b[0m\n\u001b[1;32m   1734\u001b[0m     \u001b[0;34m@\u001b[0m\u001b[0minterfaces\u001b[0m\u001b[0;34m.\u001b[0m\u001b[0mlegacy_generator_methods_support\u001b[0m\u001b[0;34m\u001b[0m\u001b[0;34m\u001b[0m\u001b[0m\n",
      "\u001b[0;32m~/anaconda3/envs/keras-dev/lib/python3.6/site-packages/keras/engine/training_generator.py\u001b[0m in \u001b[0;36mfit_generator\u001b[0;34m(model, generator, steps_per_epoch, epochs, verbose, callbacks, validation_data, validation_steps, validation_freq, class_weight, max_queue_size, workers, use_multiprocessing, shuffle, initial_epoch)\u001b[0m\n\u001b[1;32m    183\u001b[0m             \u001b[0mbatch_index\u001b[0m \u001b[0;34m=\u001b[0m \u001b[0;36m0\u001b[0m\u001b[0;34m\u001b[0m\u001b[0;34m\u001b[0m\u001b[0m\n\u001b[1;32m    184\u001b[0m             \u001b[0;32mwhile\u001b[0m \u001b[0msteps_done\u001b[0m \u001b[0;34m<\u001b[0m \u001b[0msteps_per_epoch\u001b[0m\u001b[0;34m:\u001b[0m\u001b[0;34m\u001b[0m\u001b[0;34m\u001b[0m\u001b[0m\n\u001b[0;32m--> 185\u001b[0;31m                 \u001b[0mgenerator_output\u001b[0m \u001b[0;34m=\u001b[0m \u001b[0mnext\u001b[0m\u001b[0;34m(\u001b[0m\u001b[0moutput_generator\u001b[0m\u001b[0;34m)\u001b[0m\u001b[0;34m\u001b[0m\u001b[0;34m\u001b[0m\u001b[0m\n\u001b[0m\u001b[1;32m    186\u001b[0m \u001b[0;34m\u001b[0m\u001b[0m\n\u001b[1;32m    187\u001b[0m                 \u001b[0;32mif\u001b[0m \u001b[0;32mnot\u001b[0m \u001b[0mhasattr\u001b[0m\u001b[0;34m(\u001b[0m\u001b[0mgenerator_output\u001b[0m\u001b[0;34m,\u001b[0m \u001b[0;34m'__len__'\u001b[0m\u001b[0;34m)\u001b[0m\u001b[0;34m:\u001b[0m\u001b[0;34m\u001b[0m\u001b[0;34m\u001b[0m\u001b[0m\n",
      "\u001b[0;32m~/anaconda3/envs/keras-dev/lib/python3.6/site-packages/keras/utils/data_utils.py\u001b[0m in \u001b[0;36mget\u001b[0;34m(self)\u001b[0m\n\u001b[1;32m    623\u001b[0m         \u001b[0;32mexcept\u001b[0m \u001b[0mException\u001b[0m\u001b[0;34m:\u001b[0m\u001b[0;34m\u001b[0m\u001b[0;34m\u001b[0m\u001b[0m\n\u001b[1;32m    624\u001b[0m             \u001b[0mself\u001b[0m\u001b[0;34m.\u001b[0m\u001b[0mstop\u001b[0m\u001b[0;34m(\u001b[0m\u001b[0;34m)\u001b[0m\u001b[0;34m\u001b[0m\u001b[0;34m\u001b[0m\u001b[0m\n\u001b[0;32m--> 625\u001b[0;31m             \u001b[0msix\u001b[0m\u001b[0;34m.\u001b[0m\u001b[0mreraise\u001b[0m\u001b[0;34m(\u001b[0m\u001b[0;34m*\u001b[0m\u001b[0msys\u001b[0m\u001b[0;34m.\u001b[0m\u001b[0mexc_info\u001b[0m\u001b[0;34m(\u001b[0m\u001b[0;34m)\u001b[0m\u001b[0;34m)\u001b[0m\u001b[0;34m\u001b[0m\u001b[0;34m\u001b[0m\u001b[0m\n\u001b[0m\u001b[1;32m    626\u001b[0m \u001b[0;34m\u001b[0m\u001b[0m\n\u001b[1;32m    627\u001b[0m \u001b[0;34m\u001b[0m\u001b[0m\n",
      "\u001b[0;32m~/anaconda3/envs/keras-dev/lib/python3.6/site-packages/six.py\u001b[0m in \u001b[0;36mreraise\u001b[0;34m(tp, value, tb)\u001b[0m\n\u001b[1;32m    691\u001b[0m             \u001b[0;32mif\u001b[0m \u001b[0mvalue\u001b[0m\u001b[0;34m.\u001b[0m\u001b[0m__traceback__\u001b[0m \u001b[0;32mis\u001b[0m \u001b[0;32mnot\u001b[0m \u001b[0mtb\u001b[0m\u001b[0;34m:\u001b[0m\u001b[0;34m\u001b[0m\u001b[0;34m\u001b[0m\u001b[0m\n\u001b[1;32m    692\u001b[0m                 \u001b[0;32mraise\u001b[0m \u001b[0mvalue\u001b[0m\u001b[0;34m.\u001b[0m\u001b[0mwith_traceback\u001b[0m\u001b[0;34m(\u001b[0m\u001b[0mtb\u001b[0m\u001b[0;34m)\u001b[0m\u001b[0;34m\u001b[0m\u001b[0;34m\u001b[0m\u001b[0m\n\u001b[0;32m--> 693\u001b[0;31m             \u001b[0;32mraise\u001b[0m \u001b[0mvalue\u001b[0m\u001b[0;34m\u001b[0m\u001b[0;34m\u001b[0m\u001b[0m\n\u001b[0m\u001b[1;32m    694\u001b[0m         \u001b[0;32mfinally\u001b[0m\u001b[0;34m:\u001b[0m\u001b[0;34m\u001b[0m\u001b[0;34m\u001b[0m\u001b[0m\n\u001b[1;32m    695\u001b[0m             \u001b[0mvalue\u001b[0m \u001b[0;34m=\u001b[0m \u001b[0;32mNone\u001b[0m\u001b[0;34m\u001b[0m\u001b[0;34m\u001b[0m\u001b[0m\n",
      "\u001b[0;32m~/anaconda3/envs/keras-dev/lib/python3.6/site-packages/keras/utils/data_utils.py\u001b[0m in \u001b[0;36mget\u001b[0;34m(self)\u001b[0m\n\u001b[1;32m    608\u001b[0m                 \u001b[0;32mtry\u001b[0m\u001b[0;34m:\u001b[0m\u001b[0;34m\u001b[0m\u001b[0;34m\u001b[0m\u001b[0m\n\u001b[1;32m    609\u001b[0m                     \u001b[0mfuture\u001b[0m \u001b[0;34m=\u001b[0m \u001b[0mself\u001b[0m\u001b[0;34m.\u001b[0m\u001b[0mqueue\u001b[0m\u001b[0;34m.\u001b[0m\u001b[0mget\u001b[0m\u001b[0;34m(\u001b[0m\u001b[0mblock\u001b[0m\u001b[0;34m=\u001b[0m\u001b[0;32mTrue\u001b[0m\u001b[0;34m)\u001b[0m\u001b[0;34m\u001b[0m\u001b[0;34m\u001b[0m\u001b[0m\n\u001b[0;32m--> 610\u001b[0;31m                     \u001b[0minputs\u001b[0m \u001b[0;34m=\u001b[0m \u001b[0mfuture\u001b[0m\u001b[0;34m.\u001b[0m\u001b[0mget\u001b[0m\u001b[0;34m(\u001b[0m\u001b[0mtimeout\u001b[0m\u001b[0;34m=\u001b[0m\u001b[0;36m30\u001b[0m\u001b[0;34m)\u001b[0m\u001b[0;34m\u001b[0m\u001b[0;34m\u001b[0m\u001b[0m\n\u001b[0m\u001b[1;32m    611\u001b[0m                 \u001b[0;32mexcept\u001b[0m \u001b[0mmp\u001b[0m\u001b[0;34m.\u001b[0m\u001b[0mTimeoutError\u001b[0m\u001b[0;34m:\u001b[0m\u001b[0;34m\u001b[0m\u001b[0;34m\u001b[0m\u001b[0m\n\u001b[1;32m    612\u001b[0m                     \u001b[0midx\u001b[0m \u001b[0;34m=\u001b[0m \u001b[0mfuture\u001b[0m\u001b[0;34m.\u001b[0m\u001b[0midx\u001b[0m\u001b[0;34m\u001b[0m\u001b[0;34m\u001b[0m\u001b[0m\n",
      "\u001b[0;32m~/anaconda3/envs/keras-dev/lib/python3.6/multiprocessing/pool.py\u001b[0m in \u001b[0;36mget\u001b[0;34m(self, timeout)\u001b[0m\n\u001b[1;32m    642\u001b[0m             \u001b[0;32mreturn\u001b[0m \u001b[0mself\u001b[0m\u001b[0;34m.\u001b[0m\u001b[0m_value\u001b[0m\u001b[0;34m\u001b[0m\u001b[0;34m\u001b[0m\u001b[0m\n\u001b[1;32m    643\u001b[0m         \u001b[0;32melse\u001b[0m\u001b[0;34m:\u001b[0m\u001b[0;34m\u001b[0m\u001b[0;34m\u001b[0m\u001b[0m\n\u001b[0;32m--> 644\u001b[0;31m             \u001b[0;32mraise\u001b[0m \u001b[0mself\u001b[0m\u001b[0;34m.\u001b[0m\u001b[0m_value\u001b[0m\u001b[0;34m\u001b[0m\u001b[0;34m\u001b[0m\u001b[0m\n\u001b[0m\u001b[1;32m    645\u001b[0m \u001b[0;34m\u001b[0m\u001b[0m\n\u001b[1;32m    646\u001b[0m     \u001b[0;32mdef\u001b[0m \u001b[0m_set\u001b[0m\u001b[0;34m(\u001b[0m\u001b[0mself\u001b[0m\u001b[0;34m,\u001b[0m \u001b[0mi\u001b[0m\u001b[0;34m,\u001b[0m \u001b[0mobj\u001b[0m\u001b[0;34m)\u001b[0m\u001b[0;34m:\u001b[0m\u001b[0;34m\u001b[0m\u001b[0;34m\u001b[0m\u001b[0m\n",
      "\u001b[0;32m~/anaconda3/envs/keras-dev/lib/python3.6/multiprocessing/pool.py\u001b[0m in \u001b[0;36mworker\u001b[0;34m(inqueue, outqueue, initializer, initargs, maxtasks, wrap_exception)\u001b[0m\n\u001b[1;32m    117\u001b[0m         \u001b[0mjob\u001b[0m\u001b[0;34m,\u001b[0m \u001b[0mi\u001b[0m\u001b[0;34m,\u001b[0m \u001b[0mfunc\u001b[0m\u001b[0;34m,\u001b[0m \u001b[0margs\u001b[0m\u001b[0;34m,\u001b[0m \u001b[0mkwds\u001b[0m \u001b[0;34m=\u001b[0m \u001b[0mtask\u001b[0m\u001b[0;34m\u001b[0m\u001b[0;34m\u001b[0m\u001b[0m\n\u001b[1;32m    118\u001b[0m         \u001b[0;32mtry\u001b[0m\u001b[0;34m:\u001b[0m\u001b[0;34m\u001b[0m\u001b[0;34m\u001b[0m\u001b[0m\n\u001b[0;32m--> 119\u001b[0;31m             \u001b[0mresult\u001b[0m \u001b[0;34m=\u001b[0m \u001b[0;34m(\u001b[0m\u001b[0;32mTrue\u001b[0m\u001b[0;34m,\u001b[0m \u001b[0mfunc\u001b[0m\u001b[0;34m(\u001b[0m\u001b[0;34m*\u001b[0m\u001b[0margs\u001b[0m\u001b[0;34m,\u001b[0m \u001b[0;34m**\u001b[0m\u001b[0mkwds\u001b[0m\u001b[0;34m)\u001b[0m\u001b[0;34m)\u001b[0m\u001b[0;34m\u001b[0m\u001b[0;34m\u001b[0m\u001b[0m\n\u001b[0m\u001b[1;32m    120\u001b[0m         \u001b[0;32mexcept\u001b[0m \u001b[0mException\u001b[0m \u001b[0;32mas\u001b[0m \u001b[0me\u001b[0m\u001b[0;34m:\u001b[0m\u001b[0;34m\u001b[0m\u001b[0;34m\u001b[0m\u001b[0m\n\u001b[1;32m    121\u001b[0m             \u001b[0;32mif\u001b[0m \u001b[0mwrap_exception\u001b[0m \u001b[0;32mand\u001b[0m \u001b[0mfunc\u001b[0m \u001b[0;32mis\u001b[0m \u001b[0;32mnot\u001b[0m \u001b[0m_helper_reraises_exception\u001b[0m\u001b[0;34m:\u001b[0m\u001b[0;34m\u001b[0m\u001b[0;34m\u001b[0m\u001b[0m\n",
      "\u001b[0;32m~/anaconda3/envs/keras-dev/lib/python3.6/site-packages/keras/utils/data_utils.py\u001b[0m in \u001b[0;36mget_index\u001b[0;34m(uid, i)\u001b[0m\n\u001b[1;32m    404\u001b[0m         \u001b[0mThe\u001b[0m \u001b[0mvalue\u001b[0m \u001b[0mat\u001b[0m \u001b[0mindex\u001b[0m\u001b[0;31m \u001b[0m\u001b[0;31m`\u001b[0m\u001b[0mi\u001b[0m\u001b[0;31m`\u001b[0m\u001b[0;34m.\u001b[0m\u001b[0;34m\u001b[0m\u001b[0;34m\u001b[0m\u001b[0m\n\u001b[1;32m    405\u001b[0m     \"\"\"\n\u001b[0;32m--> 406\u001b[0;31m     \u001b[0;32mreturn\u001b[0m \u001b[0m_SHARED_SEQUENCES\u001b[0m\u001b[0;34m[\u001b[0m\u001b[0muid\u001b[0m\u001b[0;34m]\u001b[0m\u001b[0;34m[\u001b[0m\u001b[0mi\u001b[0m\u001b[0;34m]\u001b[0m\u001b[0;34m\u001b[0m\u001b[0;34m\u001b[0m\u001b[0m\n\u001b[0m\u001b[1;32m    407\u001b[0m \u001b[0;34m\u001b[0m\u001b[0m\n\u001b[1;32m    408\u001b[0m \u001b[0;34m\u001b[0m\u001b[0m\n",
      "\u001b[0;32m~/open-source/keras-dev/keras-preprocessing/keras_preprocessing/image/iterator.py\u001b[0m in \u001b[0;36m__getitem__\u001b[0;34m(self, idx)\u001b[0m\n\u001b[1;32m     59\u001b[0m         index_array = self.index_array[self.batch_size * idx:\n\u001b[1;32m     60\u001b[0m                                        self.batch_size * (idx + 1)]\n\u001b[0;32m---> 61\u001b[0;31m         \u001b[0;32mreturn\u001b[0m \u001b[0mself\u001b[0m\u001b[0;34m.\u001b[0m\u001b[0m_get_batches_of_transformed_samples\u001b[0m\u001b[0;34m(\u001b[0m\u001b[0mindex_array\u001b[0m\u001b[0;34m)\u001b[0m\u001b[0;34m\u001b[0m\u001b[0;34m\u001b[0m\u001b[0m\n\u001b[0m\u001b[1;32m     62\u001b[0m \u001b[0;34m\u001b[0m\u001b[0m\n\u001b[1;32m     63\u001b[0m     \u001b[0;32mdef\u001b[0m \u001b[0m__len__\u001b[0m\u001b[0;34m(\u001b[0m\u001b[0mself\u001b[0m\u001b[0;34m)\u001b[0m\u001b[0;34m:\u001b[0m\u001b[0;34m\u001b[0m\u001b[0;34m\u001b[0m\u001b[0m\n",
      "\u001b[0;32m~/open-source/keras-dev/keras-preprocessing/keras_preprocessing/image/iterator.py\u001b[0m in \u001b[0;36m_get_batches_of_transformed_samples\u001b[0;34m(self, index_array)\u001b[0m\n\u001b[1;32m    238\u001b[0m                 \u001b[0minputs\u001b[0m\u001b[0;34m=\u001b[0m\u001b[0mself\u001b[0m\u001b[0;34m.\u001b[0m\u001b[0minputs\u001b[0m\u001b[0;34m,\u001b[0m\u001b[0;34m\u001b[0m\u001b[0;34m\u001b[0m\u001b[0m\n\u001b[1;32m    239\u001b[0m                 \u001b[0minputs_batch\u001b[0m\u001b[0;34m=\u001b[0m\u001b[0minputs_batch\u001b[0m\u001b[0;34m,\u001b[0m\u001b[0;34m\u001b[0m\u001b[0;34m\u001b[0m\u001b[0m\n\u001b[0;32m--> 240\u001b[0;31m                 \u001b[0moutput_column\u001b[0m\u001b[0;34m=\u001b[0m\u001b[0moutput\u001b[0m\u001b[0;34m[\u001b[0m\u001b[0;34m'column'\u001b[0m\u001b[0;34m]\u001b[0m\u001b[0;34m\u001b[0m\u001b[0;34m\u001b[0m\u001b[0m\n\u001b[0m\u001b[1;32m    241\u001b[0m             )\n\u001b[1;32m    242\u001b[0m             \u001b[0moutputs_batch\u001b[0m\u001b[0;34m.\u001b[0m\u001b[0mappend\u001b[0m\u001b[0;34m(\u001b[0m\u001b[0mbatch_y\u001b[0m\u001b[0;34m)\u001b[0m\u001b[0;34m\u001b[0m\u001b[0;34m\u001b[0m\u001b[0m\n",
      "\u001b[0;32m~/open-source/keras-dev/keras-preprocessing/keras_preprocessing/image/data_transformations.py\u001b[0m in \u001b[0;36mtransform_batch\u001b[0;34m(mode, values, index_array, dtype, **kwargs)\u001b[0m\n\u001b[1;32m     56\u001b[0m         \u001b[0;34m'image'\u001b[0m\u001b[0;34m:\u001b[0m \u001b[0m_load_images\u001b[0m\u001b[0;34m\u001b[0m\u001b[0;34m\u001b[0m\u001b[0m\n\u001b[1;32m     57\u001b[0m     }\n\u001b[0;32m---> 58\u001b[0;31m     \u001b[0;32mreturn\u001b[0m \u001b[0mbatch_transformations\u001b[0m\u001b[0;34m[\u001b[0m\u001b[0mmode\u001b[0m\u001b[0;34m]\u001b[0m\u001b[0;34m(\u001b[0m\u001b[0mvalues\u001b[0m\u001b[0;34m,\u001b[0m \u001b[0mindex_array\u001b[0m\u001b[0;34m,\u001b[0m \u001b[0mdtype\u001b[0m\u001b[0;34m,\u001b[0m \u001b[0;34m**\u001b[0m\u001b[0mkwargs\u001b[0m\u001b[0;34m)\u001b[0m\u001b[0;34m\u001b[0m\u001b[0;34m\u001b[0m\u001b[0m\n\u001b[0m\u001b[1;32m     59\u001b[0m \u001b[0;34m\u001b[0m\u001b[0m\n\u001b[1;32m     60\u001b[0m \u001b[0;34m\u001b[0m\u001b[0m\n",
      "\u001b[0;32m~/open-source/keras-dev/keras-preprocessing/keras_preprocessing/image/data_transformations.py\u001b[0m in \u001b[0;36m_binarize\u001b[0;34m(values, index_array, dtype, index_to_class, **kwargs)\u001b[0m\n\u001b[1;32m     66\u001b[0m     \u001b[0mbatch_y\u001b[0m \u001b[0;34m=\u001b[0m \u001b[0mnp\u001b[0m\u001b[0;34m.\u001b[0m\u001b[0mzeros\u001b[0m\u001b[0;34m(\u001b[0m\u001b[0;34m(\u001b[0m\u001b[0mlen\u001b[0m\u001b[0;34m(\u001b[0m\u001b[0mindex_array\u001b[0m\u001b[0;34m)\u001b[0m\u001b[0;34m,\u001b[0m \u001b[0mlen\u001b[0m\u001b[0;34m(\u001b[0m\u001b[0mindex_to_class\u001b[0m\u001b[0;34m)\u001b[0m\u001b[0;34m)\u001b[0m\u001b[0;34m,\u001b[0m \u001b[0mdtype\u001b[0m\u001b[0;34m=\u001b[0m\u001b[0mdtype\u001b[0m\u001b[0;34m)\u001b[0m\u001b[0;34m\u001b[0m\u001b[0;34m\u001b[0m\u001b[0m\n\u001b[1;32m     67\u001b[0m     \u001b[0;32mfor\u001b[0m \u001b[0mi\u001b[0m\u001b[0;34m,\u001b[0m \u001b[0mn_observation\u001b[0m \u001b[0;32min\u001b[0m \u001b[0menumerate\u001b[0m\u001b[0;34m(\u001b[0m\u001b[0mindex_array\u001b[0m\u001b[0;34m)\u001b[0m\u001b[0;34m:\u001b[0m\u001b[0;34m\u001b[0m\u001b[0;34m\u001b[0m\u001b[0m\n\u001b[0;32m---> 68\u001b[0;31m         \u001b[0mbatch_y\u001b[0m\u001b[0;34m[\u001b[0m\u001b[0mi\u001b[0m\u001b[0;34m,\u001b[0m \u001b[0mvalues\u001b[0m\u001b[0;34m[\u001b[0m\u001b[0mn_observation\u001b[0m\u001b[0;34m]\u001b[0m\u001b[0;34m]\u001b[0m \u001b[0;34m=\u001b[0m \u001b[0;36m1\u001b[0m\u001b[0;34m\u001b[0m\u001b[0;34m\u001b[0m\u001b[0m\n\u001b[0m\u001b[1;32m     69\u001b[0m     \u001b[0;32mreturn\u001b[0m \u001b[0mbatch_y\u001b[0m\u001b[0;34m\u001b[0m\u001b[0;34m\u001b[0m\u001b[0m\n\u001b[1;32m     70\u001b[0m \u001b[0;34m\u001b[0m\u001b[0m\n",
      "\u001b[0;31mIndexError\u001b[0m: list index out of range"
     ]
    }
   ],
   "source": [
    "df_iter = DataFrameIterator(\n",
    "    df, \n",
    "    input_columns='img_path',\n",
    "    output_columns=['multi_label'],\n",
    "    output_modes={'multi_label': 'categorical'},\n",
    "    batch_size=2,\n",
    "    shuffle=False\n",
    ")\n",
    "print(df_iter.inputs)\n",
    "print()\n",
    "print(df_iter.outputs)\n",
    "\n",
    "model = Sequential()\n",
    "model.add(Flatten(input_shape=(255,255,3)))\n",
    "model.add(Dense(2, activation='sigmoid'))\n",
    "model.compile('adam', 'binary_crossentropy')\n",
    "model.fit_generator(df_iter)"
   ]
  },
  {
   "cell_type": "code",
   "execution_count": 32,
   "metadata": {},
   "outputs": [
    {
     "data": {
      "text/plain": [
       "[12]"
      ]
     },
     "execution_count": 32,
     "metadata": {},
     "output_type": "execute_result"
    }
   ],
   "source": [
    "list(np.array([12]))"
   ]
  },
  {
   "cell_type": "code",
   "execution_count": 15,
   "metadata": {},
   "outputs": [
    {
     "name": "stdout",
     "output_type": "stream",
     "text": [
      "[{'column': 'np_filename', 'values': ['/tmp/8.npy', '/tmp/13.npy', '/tmp/6.npy', '/tmp/0.npy', '/tmp/12.npy', '/tmp/18.npy', '/tmp/14.npy', '/tmp/15.npy', '/tmp/3.npy', '/tmp/11.npy', '/tmp/16.npy', '/tmp/10.npy', '/tmp/4.npy', '/tmp/1.npy', '/tmp/5.npy', '/tmp/9.npy', '/tmp/2.npy', '/tmp/19.npy', '/tmp/7.npy', '/tmp/17.npy']}]\n",
      "\n",
      "[{'column': 'multi_label', 'mode': 'categorical', 'values': [array([0, 1]), 1, array([1, 0]), array([1]), array([0]), 0, 0, array([1, 0]), array([1, 0]), 0, array([1, 0]), 0, 1, array([1, 0]), array([0]), 1, array([0]), array([0]), array([0, 1]), array([0])], 'index_to_class': {0: 'cat', 1: 'dog'}}]\n",
      "Epoch 1/1\n",
      "10/10 [==============================] - 0s 20ms/step - loss: 8025.3385\n"
     ]
    },
    {
     "data": {
      "text/plain": [
       "<keras.callbacks.callbacks.History at 0x7f60b4155240>"
      ]
     },
     "execution_count": 15,
     "metadata": {},
     "output_type": "execute_result"
    }
   ],
   "source": [
    "df_iter = DataFrameIterator(\n",
    "    df, \n",
    "    input_columns='np_filename',\n",
    "    output_columns=['multi_label'],\n",
    "    output_modes={'multi_label': 'categorical'},\n",
    "    batch_size=2,\n",
    "    shuffle=False\n",
    ")\n",
    "print(df_iter.inputs)\n",
    "print()\n",
    "print(df_iter.outputs)\n",
    "\n",
    "model = Sequential()\n",
    "model.add(Flatten(input_shape=(255,255,3)))\n",
    "model.add(Dense(2, activation='sigmoid'))\n",
    "model.compile('adam', 'binary_crossentropy')\n",
    "model.fit_generator(df_iter)"
   ]
  },
  {
   "cell_type": "markdown",
   "metadata": {},
   "source": [
    "### Output same as input"
   ]
  },
  {
   "cell_type": "code",
   "execution_count": 16,
   "metadata": {
    "scrolled": false
   },
   "outputs": [
    {
     "name": "stdout",
     "output_type": "stream",
     "text": [
      "[{'column': 'img_path', 'values': ['/tmp/8.jpg', '/tmp/13.jpg', '/tmp/6.jpg', '/tmp/0.jpg', '/tmp/12.jpg', '/tmp/18.jpg', '/tmp/14.jpg', '/tmp/15.jpg', '/tmp/3.jpg', '/tmp/11.jpg', '/tmp/16.jpg', '/tmp/10.jpg', '/tmp/4.jpg', '/tmp/1.jpg', '/tmp/5.jpg', '/tmp/9.jpg', '/tmp/2.jpg', '/tmp/19.jpg', '/tmp/7.jpg', '/tmp/17.jpg']}]\n",
      "\n",
      "[{'column': 'img_path', 'mode': 'image', 'values': ['/tmp/8.jpg', '/tmp/13.jpg', '/tmp/6.jpg', '/tmp/0.jpg', '/tmp/12.jpg', '/tmp/18.jpg', '/tmp/14.jpg', '/tmp/15.jpg', '/tmp/3.jpg', '/tmp/11.jpg', '/tmp/16.jpg', '/tmp/10.jpg', '/tmp/4.jpg', '/tmp/1.jpg', '/tmp/5.jpg', '/tmp/9.jpg', '/tmp/2.jpg', '/tmp/19.jpg', '/tmp/7.jpg', '/tmp/17.jpg']}]\n",
      "Epoch 1/1\n",
      "10/10 [==============================] - 5s 538ms/step - loss: 17163.8450\n"
     ]
    },
    {
     "data": {
      "text/plain": [
       "<keras.callbacks.callbacks.History at 0x7f607c605828>"
      ]
     },
     "execution_count": 16,
     "metadata": {},
     "output_type": "execute_result"
    }
   ],
   "source": [
    "df_iter = DataFrameIterator(\n",
    "    df, \n",
    "    input_columns='img_path',\n",
    "    output_columns=['img_path'],\n",
    "    output_modes={'img_path': 'image'},\n",
    "    batch_size=2,\n",
    "    shuffle=False\n",
    ")\n",
    "print(df_iter.inputs)\n",
    "print()\n",
    "print(df_iter.outputs)\n",
    "\n",
    "x, y = next(df_iter)\n",
    "assert np.allclose(x[0], y[0])\n",
    "assert id(x[0]) != id(y[0])\n",
    "\n",
    "model = Sequential()\n",
    "model.add(Flatten(input_shape=(255, 255, 3)))\n",
    "model.add(Dense(100, activation='sigmoid'))\n",
    "model.add(Dense(255 * 255 * 3, activation='sigmoid'))\n",
    "model.add(Reshape((255, 255, 3)))\n",
    "model.compile('adam', 'mse')\n",
    "model.fit_generator(df_iter)"
   ]
  },
  {
   "cell_type": "markdown",
   "metadata": {},
   "source": [
    "### Segmentation"
   ]
  },
  {
   "cell_type": "code",
   "execution_count": 17,
   "metadata": {
    "scrolled": false
   },
   "outputs": [
    {
     "name": "stdout",
     "output_type": "stream",
     "text": [
      "[{'column': 'img_path', 'values': ['/tmp/8.jpg', '/tmp/13.jpg', '/tmp/6.jpg', '/tmp/0.jpg', '/tmp/12.jpg', '/tmp/18.jpg', '/tmp/14.jpg', '/tmp/15.jpg', '/tmp/3.jpg', '/tmp/11.jpg', '/tmp/16.jpg', '/tmp/10.jpg', '/tmp/4.jpg', '/tmp/1.jpg', '/tmp/5.jpg', '/tmp/9.jpg', '/tmp/2.jpg', '/tmp/19.jpg', '/tmp/7.jpg', '/tmp/17.jpg']}]\n",
      "\n",
      "[{'column': 'img_path_extra', 'mode': 'image', 'values': ['/tmp/0.jpg', '/tmp/1.jpg', '/tmp/2.jpg', '/tmp/3.jpg', '/tmp/4.jpg', '/tmp/5.jpg', '/tmp/6.jpg', '/tmp/7.jpg', '/tmp/8.jpg', '/tmp/9.jpg', '/tmp/10.jpg', '/tmp/11.jpg', '/tmp/12.jpg', '/tmp/13.jpg', '/tmp/14.jpg', '/tmp/15.jpg', '/tmp/16.jpg', '/tmp/17.jpg', '/tmp/18.jpg', '/tmp/19.jpg']}]\n",
      "\n",
      "1\n",
      "(255, 255, 3)\n",
      "1\n",
      "(255, 255, 3)\n"
     ]
    }
   ],
   "source": [
    "df_iter = DataFrameIterator(\n",
    "    df,\n",
    "    input_columns='img_path',\n",
    "    output_columns='img_path_extra',\n",
    "    output_modes={'img_path_extra': 'image'},\n",
    "    batch_size=1,\n",
    "    shuffle=False,\n",
    "    image_data_generator=ImageDataGenerator(horizontal_flip=True, vertical_flip=True)\n",
    ")\n",
    "\n",
    "print(df_iter.inputs)\n",
    "print()\n",
    "print(df_iter.outputs)\n",
    "print()\n",
    "\n",
    "x, y = next(df_iter)\n",
    "print(len(x[0]))\n",
    "print(x[0][0].shape)\n",
    "print(len(y[0]))\n",
    "print(y[0][0].shape)"
   ]
  },
  {
   "cell_type": "markdown",
   "metadata": {},
   "source": [
    "### Multi-output: regression  & regression"
   ]
  },
  {
   "cell_type": "code",
   "execution_count": 26,
   "metadata": {},
   "outputs": [
    {
     "name": "stdout",
     "output_type": "stream",
     "text": [
      "[{'column': 'img_path', 'values': ['/tmp/8.jpg', '/tmp/13.jpg', '/tmp/6.jpg', '/tmp/0.jpg', '/tmp/12.jpg', '/tmp/18.jpg', '/tmp/14.jpg', '/tmp/15.jpg', '/tmp/3.jpg', '/tmp/11.jpg', '/tmp/16.jpg', '/tmp/10.jpg', '/tmp/4.jpg', '/tmp/1.jpg', '/tmp/5.jpg', '/tmp/9.jpg', '/tmp/2.jpg', '/tmp/19.jpg', '/tmp/7.jpg', '/tmp/17.jpg']}]\n",
      "\n",
      "[{'column': 'regression', 'mode': None, 'values': [4, 8, 7, 8, 4, 9, 2, 6, 4, 8, 4, 2, 9, 4, 9, 3, 6, 3, 6, 4]}, {'column': 'regression_extra', 'mode': None, 'values': [72, 71, 87, 62, 65, 55, 66, 78, 37, 44, 51, 30, 47, 77, 55, 85, 93, 47, 30, 29]}]\n",
      "Epoch 1/1\n",
      "10/10 [==============================] - 0s 27ms/step - loss: 313645044.5023 - dense_29_loss: 156927872.0000 - dense_30_loss: 156717184.0000\n"
     ]
    },
    {
     "data": {
      "text/plain": [
       "<keras.callbacks.callbacks.History at 0x7f6076001550>"
      ]
     },
     "execution_count": 26,
     "metadata": {},
     "output_type": "execute_result"
    }
   ],
   "source": [
    "df_iter = DataFrameIterator(\n",
    "    df, \n",
    "    input_columns='img_path',\n",
    "    output_columns=['regression', 'regression_extra'],\n",
    "    batch_size=2,\n",
    "    shuffle=False\n",
    ")\n",
    "print(df_iter.inputs)\n",
    "print()\n",
    "print(df_iter.outputs)\n",
    "\n",
    "_input = Input(shape=(255, 255, 3))\n",
    "x = Flatten()(_input)\n",
    "out_1 = Dense(1)(x)\n",
    "out_2 = Dense(1)(x)\n",
    "model = Model(_input, [out_1, out_2])\n",
    "model.compile('adam', 'mse')\n",
    "model.fit_generator(df_iter)"
   ]
  },
  {
   "cell_type": "code",
   "execution_count": 25,
   "metadata": {},
   "outputs": [
    {
     "name": "stdout",
     "output_type": "stream",
     "text": [
      "[{'column': 'np_filename', 'values': ['/tmp/8.npy', '/tmp/13.npy', '/tmp/6.npy', '/tmp/0.npy', '/tmp/12.npy', '/tmp/18.npy', '/tmp/14.npy', '/tmp/15.npy', '/tmp/3.npy', '/tmp/11.npy', '/tmp/16.npy', '/tmp/10.npy', '/tmp/4.npy', '/tmp/1.npy', '/tmp/5.npy', '/tmp/9.npy', '/tmp/2.npy', '/tmp/19.npy', '/tmp/7.npy', '/tmp/17.npy']}]\n",
      "\n",
      "[{'column': 'regression', 'mode': None, 'values': [4, 8, 7, 8, 4, 9, 2, 6, 4, 8, 4, 2, 9, 4, 9, 3, 6, 3, 6, 4]}, {'column': 'regression_extra', 'mode': None, 'values': [72, 71, 87, 62, 65, 55, 66, 78, 37, 44, 51, 30, 47, 77, 55, 85, 93, 47, 30, 29]}]\n",
      "Epoch 1/1\n",
      "10/10 [==============================] - 0s 22ms/step - loss: 484266665.3313 - dense_27_loss: 319720768.0000 - dense_28_loss: 164545952.0000\n"
     ]
    },
    {
     "data": {
      "text/plain": [
       "<keras.callbacks.callbacks.History at 0x7f607656d8d0>"
      ]
     },
     "execution_count": 25,
     "metadata": {},
     "output_type": "execute_result"
    }
   ],
   "source": [
    "df_iter = DataFrameIterator(\n",
    "    df, \n",
    "    input_columns='np_filename',\n",
    "    output_columns=['regression', 'regression_extra'],\n",
    "    batch_size=2,\n",
    "    shuffle=False\n",
    ")\n",
    "print(df_iter.inputs)\n",
    "print()\n",
    "print(df_iter.outputs)\n",
    "\n",
    "_input = Input(shape=(255, 255, 3))\n",
    "x = Flatten()(_input)\n",
    "out_1 = Dense(1)(x)\n",
    "out_2 = Dense(1)(x)\n",
    "model = Model(_input, [out_1, out_2])\n",
    "model.compile('adam', 'mse')\n",
    "model.fit_generator(df_iter)"
   ]
  },
  {
   "cell_type": "markdown",
   "metadata": {},
   "source": [
    "### Multi-output: regression & binary classification"
   ]
  },
  {
   "cell_type": "code",
   "execution_count": 24,
   "metadata": {},
   "outputs": [
    {
     "name": "stdout",
     "output_type": "stream",
     "text": [
      "[{'column': 'img_path', 'values': ['/tmp/8.jpg', '/tmp/13.jpg', '/tmp/6.jpg', '/tmp/0.jpg', '/tmp/12.jpg', '/tmp/18.jpg', '/tmp/14.jpg', '/tmp/15.jpg', '/tmp/3.jpg', '/tmp/11.jpg', '/tmp/16.jpg', '/tmp/10.jpg', '/tmp/4.jpg', '/tmp/1.jpg', '/tmp/5.jpg', '/tmp/9.jpg', '/tmp/2.jpg', '/tmp/19.jpg', '/tmp/7.jpg', '/tmp/17.jpg']}]\n",
      "\n",
      "[{'column': 'regression', 'mode': None, 'values': [4, 8, 7, 8, 4, 9, 2, 6, 4, 8, 4, 2, 9, 4, 9, 3, 6, 3, 6, 4]}, {'column': 'binary', 'mode': 'sparse', 'values': [0, 1, 1, 1, 1, 0, 0, 0, 0, 0, 1, 0, 1, 0, 0, 0, 1, 0, 1, 1], 'index_to_class': {0: 'cat', 1: 'dog'}}]\n",
      "Epoch 1/1\n",
      "10/10 [==============================] - 0s 24ms/step - loss: 150380487.6922 - dense_25_loss: 150375152.0000 - dense_26_loss: 5338.6436\n"
     ]
    },
    {
     "data": {
      "text/plain": [
       "<keras.callbacks.callbacks.History at 0x7f6076a70748>"
      ]
     },
     "execution_count": 24,
     "metadata": {},
     "output_type": "execute_result"
    }
   ],
   "source": [
    "df_iter = DataFrameIterator(\n",
    "    df, \n",
    "    input_columns='img_path',\n",
    "    output_columns=['regression', 'binary'],\n",
    "    output_modes={'binary': 'sparse'},\n",
    "    batch_size=2,\n",
    "    shuffle=False\n",
    ")\n",
    "print(df_iter.inputs)\n",
    "print()\n",
    "print(df_iter.outputs)\n",
    "\n",
    "_input = Input(shape=(255, 255, 3))\n",
    "x = Flatten()(_input)\n",
    "out_1 = Dense(1)(x)\n",
    "out_2 = Dense(1, activation='sigmoid')(x)\n",
    "model = Model(_input, [out_1, out_2])\n",
    "model.compile('adam', loss=['mse', 'binary_crossentropy'])\n",
    "model.fit_generator(df_iter)"
   ]
  },
  {
   "cell_type": "markdown",
   "metadata": {},
   "source": [
    "### Multi-output: regression & multi-class classification"
   ]
  },
  {
   "cell_type": "code",
   "execution_count": 23,
   "metadata": {},
   "outputs": [
    {
     "name": "stdout",
     "output_type": "stream",
     "text": [
      "[{'column': 'img_path', 'values': ['/tmp/8.jpg', '/tmp/13.jpg', '/tmp/6.jpg', '/tmp/0.jpg', '/tmp/12.jpg', '/tmp/18.jpg', '/tmp/14.jpg', '/tmp/15.jpg', '/tmp/3.jpg', '/tmp/11.jpg', '/tmp/16.jpg', '/tmp/10.jpg', '/tmp/4.jpg', '/tmp/1.jpg', '/tmp/5.jpg', '/tmp/9.jpg', '/tmp/2.jpg', '/tmp/19.jpg', '/tmp/7.jpg', '/tmp/17.jpg']}]\n",
      "\n",
      "[{'column': 'regression', 'mode': None, 'values': [4, 8, 7, 8, 4, 9, 2, 6, 4, 8, 4, 2, 9, 4, 9, 3, 6, 3, 6, 4]}, {'column': 'multi_class', 'mode': 'categorical', 'values': [0, 0, 1, 2, 0, 0, 2, 0, 2, 1, 1, 0, 2, 0, 0, 0, 2, 1, 1, 0], 'index_to_class': {0: 'cat', 1: 'dog', 2: 'horse'}}]\n",
      "Epoch 1/1\n",
      "10/10 [==============================] - 0s 27ms/step - loss: 148878645.9227 - dense_23_loss: 148874784.0000 - dense_24_loss: 3873.3372\n"
     ]
    },
    {
     "data": {
      "text/plain": [
       "<keras.callbacks.callbacks.History at 0x7f6076ed7f98>"
      ]
     },
     "execution_count": 23,
     "metadata": {},
     "output_type": "execute_result"
    }
   ],
   "source": [
    "df_iter = DataFrameIterator(\n",
    "    df, \n",
    "    input_columns='img_path',\n",
    "    output_columns=['regression', 'multi_class'],\n",
    "    output_modes={'multi_class': 'categorical'},\n",
    "    batch_size=2,\n",
    "    shuffle=False\n",
    ")\n",
    "print(df_iter.inputs)\n",
    "print()\n",
    "print(df_iter.outputs)\n",
    "\n",
    "_input = Input(shape=(255, 255, 3))\n",
    "x = Flatten()(_input)\n",
    "out_1 = Dense(1)(x)\n",
    "out_2 = Dense(3, activation='softmax')(x)\n",
    "model = Model(_input, [out_1, out_2])\n",
    "model.compile('adam', loss=['mse', 'categorical_crossentropy'])\n",
    "model.fit_generator(df_iter)"
   ]
  },
  {
   "cell_type": "markdown",
   "metadata": {},
   "source": [
    "### Multi-output: multi-class & multi-label classification"
   ]
  },
  {
   "cell_type": "code",
   "execution_count": 22,
   "metadata": {
    "scrolled": false
   },
   "outputs": [
    {
     "name": "stdout",
     "output_type": "stream",
     "text": [
      "[{'column': 'img_path', 'values': ['/tmp/8.jpg', '/tmp/13.jpg', '/tmp/6.jpg', '/tmp/0.jpg', '/tmp/12.jpg', '/tmp/18.jpg', '/tmp/14.jpg', '/tmp/15.jpg', '/tmp/3.jpg', '/tmp/11.jpg', '/tmp/16.jpg', '/tmp/10.jpg', '/tmp/4.jpg', '/tmp/1.jpg', '/tmp/5.jpg', '/tmp/9.jpg', '/tmp/2.jpg', '/tmp/19.jpg', '/tmp/7.jpg', '/tmp/17.jpg']}]\n",
      "[{'column': 'multi_class', 'mode': 'categorical', 'values': [0, 0, 1, 2, 0, 0, 2, 0, 2, 1, 1, 0, 2, 0, 0, 0, 2, 1, 1, 0], 'index_to_class': {0: 'cat', 1: 'dog', 2: 'horse'}}, {'column': 'multi_label', 'mode': 'categorical', 'values': [array([0, 1]), 1, array([1, 0]), array([1]), array([0]), 0, 0, array([1, 0]), array([1, 0]), 0, array([1, 0]), 0, 1, array([1, 0]), array([0]), 1, array([0]), array([0]), array([0, 1]), array([0])], 'index_to_class': {0: 'cat', 1: 'dog'}}]\n",
      "Epoch 1/1\n",
      "10/10 [==============================] - 0s 33ms/step - loss: 26430.0147 - dense_21_loss: 19891.2090 - dense_22_loss: 6538.8037\n"
     ]
    },
    {
     "data": {
      "text/plain": [
       "<keras.callbacks.callbacks.History at 0x7f607639d630>"
      ]
     },
     "execution_count": 22,
     "metadata": {},
     "output_type": "execute_result"
    }
   ],
   "source": [
    "df_iter = DataFrameIterator(\n",
    "    df, \n",
    "    input_columns='img_path',\n",
    "    output_columns=['multi_class', 'multi_label'],\n",
    "    output_modes={'multi_class': 'categorical', 'multi_label': 'categorical'},\n",
    "    batch_size=2,\n",
    "    shuffle=False\n",
    ")\n",
    "print(df_iter.inputs)\n",
    "print(df_iter.outputs)\n",
    "\n",
    "_input = Input(shape=(255, 255, 3))\n",
    "x = Flatten()(_input)\n",
    "out_1 = Dense(3, activation='softmax')(x)\n",
    "out_2 = Dense(2, activation='sigmoid')(x)\n",
    "model = Model(_input, [out_1, out_2])\n",
    "model.compile('adam', loss=['categorical_crossentropy', 'binary_crossentropy'])\n",
    "model.fit_generator(df_iter)"
   ]
  },
  {
   "cell_type": "code",
   "execution_count": null,
   "metadata": {},
   "outputs": [],
   "source": []
  },
  {
   "cell_type": "code",
   "execution_count": null,
   "metadata": {},
   "outputs": [],
   "source": []
  }
 ],
 "metadata": {
  "kernelspec": {
   "display_name": "Python 3",
   "language": "python",
   "name": "python3"
  },
  "language_info": {
   "codemirror_mode": {
    "name": "ipython",
    "version": 3
   },
   "file_extension": ".py",
   "mimetype": "text/x-python",
   "name": "python",
   "nbconvert_exporter": "python",
   "pygments_lexer": "ipython3",
   "version": "3.6.8"
  }
 },
 "nbformat": 4,
 "nbformat_minor": 2
}
