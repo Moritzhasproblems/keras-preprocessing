{
 "cells": [
  {
   "cell_type": "code",
   "execution_count": 1,
   "metadata": {
    "scrolled": true
   },
   "outputs": [
    {
     "name": "stderr",
     "output_type": "stream",
     "text": [
      "Using TensorFlow backend.\n"
     ]
    }
   ],
   "source": [
    "%load_ext autoreload\n",
    "%autoreload 2\n",
    "\n",
    "import matplotlib.pyplot as plt\n",
    "\n",
    "from keras_preprocessing.image import DataFrameIterator, ImageDataGenerator\n",
    "import random\n",
    "import numpy as np\n",
    "import pandas as pd\n",
    "from keras.layers import Dense, Flatten, Input, Reshape\n",
    "from keras.models import Sequential, Model\n",
    "from PIL import Image"
   ]
  },
  {
   "cell_type": "markdown",
   "metadata": {},
   "source": [
    "### Base dataframe"
   ]
  },
  {
   "cell_type": "code",
   "execution_count": 2,
   "metadata": {},
   "outputs": [
    {
     "name": "stdout",
     "output_type": "stream",
     "text": [
      "20\n"
     ]
    },
    {
     "data": {
      "text/html": [
       "<div>\n",
       "<style scoped>\n",
       "    .dataframe tbody tr th:only-of-type {\n",
       "        vertical-align: middle;\n",
       "    }\n",
       "\n",
       "    .dataframe tbody tr th {\n",
       "        vertical-align: top;\n",
       "    }\n",
       "\n",
       "    .dataframe thead th {\n",
       "        text-align: right;\n",
       "    }\n",
       "</style>\n",
       "<table border=\"1\" class=\"dataframe\">\n",
       "  <thead>\n",
       "    <tr style=\"text-align: right;\">\n",
       "      <th></th>\n",
       "      <th>img_path</th>\n",
       "      <th>np_filename</th>\n",
       "      <th>img_path_extra</th>\n",
       "      <th>regression</th>\n",
       "      <th>regression_extra</th>\n",
       "      <th>binary</th>\n",
       "      <th>multi_class</th>\n",
       "      <th>multi_label</th>\n",
       "    </tr>\n",
       "  </thead>\n",
       "  <tbody>\n",
       "    <tr>\n",
       "      <td>0</td>\n",
       "      <td>/tmp/3.jpg</td>\n",
       "      <td>/tmp/3.npy</td>\n",
       "      <td>/tmp/0.jpg</td>\n",
       "      <td>1</td>\n",
       "      <td>72</td>\n",
       "      <td>cat</td>\n",
       "      <td>dog</td>\n",
       "      <td>[cat, dog]</td>\n",
       "    </tr>\n",
       "    <tr>\n",
       "      <td>1</td>\n",
       "      <td>/tmp/8.jpg</td>\n",
       "      <td>/tmp/8.npy</td>\n",
       "      <td>/tmp/1.jpg</td>\n",
       "      <td>3</td>\n",
       "      <td>89</td>\n",
       "      <td>cat</td>\n",
       "      <td>cat</td>\n",
       "      <td>cat</td>\n",
       "    </tr>\n",
       "    <tr>\n",
       "      <td>2</td>\n",
       "      <td>/tmp/12.jpg</td>\n",
       "      <td>/tmp/12.npy</td>\n",
       "      <td>/tmp/2.jpg</td>\n",
       "      <td>6</td>\n",
       "      <td>52</td>\n",
       "      <td>cat</td>\n",
       "      <td>horse</td>\n",
       "      <td>[cat]</td>\n",
       "    </tr>\n",
       "    <tr>\n",
       "      <td>3</td>\n",
       "      <td>/tmp/11.jpg</td>\n",
       "      <td>/tmp/11.npy</td>\n",
       "      <td>/tmp/3.jpg</td>\n",
       "      <td>2</td>\n",
       "      <td>48</td>\n",
       "      <td>dog</td>\n",
       "      <td>cat</td>\n",
       "      <td>[cat]</td>\n",
       "    </tr>\n",
       "    <tr>\n",
       "      <td>4</td>\n",
       "      <td>/tmp/9.jpg</td>\n",
       "      <td>/tmp/9.npy</td>\n",
       "      <td>/tmp/4.jpg</td>\n",
       "      <td>9</td>\n",
       "      <td>75</td>\n",
       "      <td>cat</td>\n",
       "      <td>horse</td>\n",
       "      <td>[cat]</td>\n",
       "    </tr>\n",
       "  </tbody>\n",
       "</table>\n",
       "</div>"
      ],
      "text/plain": [
       "      img_path  np_filename img_path_extra  regression  regression_extra  \\\n",
       "0   /tmp/3.jpg   /tmp/3.npy     /tmp/0.jpg           1                72   \n",
       "1   /tmp/8.jpg   /tmp/8.npy     /tmp/1.jpg           3                89   \n",
       "2  /tmp/12.jpg  /tmp/12.npy     /tmp/2.jpg           6                52   \n",
       "3  /tmp/11.jpg  /tmp/11.npy     /tmp/3.jpg           2                48   \n",
       "4   /tmp/9.jpg   /tmp/9.npy     /tmp/4.jpg           9                75   \n",
       "\n",
       "  binary multi_class multi_label  \n",
       "0    cat         dog  [cat, dog]  \n",
       "1    cat         cat         cat  \n",
       "2    cat       horse       [cat]  \n",
       "3    dog         cat       [cat]  \n",
       "4    cat       horse       [cat]  "
      ]
     },
     "execution_count": 2,
     "metadata": {},
     "output_type": "execute_result"
    }
   ],
   "source": [
    "pixel_val = 1\n",
    "np_filenames, img_filenames = [], []\n",
    "for i in range(20):\n",
    "    np_filename = '/tmp/{}.npy'.format(i)\n",
    "    img_filename = '/tmp/{}.jpg'.format(i)\n",
    "    array = pixel_val * np.random.randint(0, 255, size=(2, 2)).astype('float32')\n",
    "    np.save(np_filename, array[..., None])\n",
    "    plt.imsave(img_filename, array)\n",
    "    np_filenames.append(np_filename)\n",
    "    img_filenames.append(img_filename)\n",
    "    \n",
    "df = pd.DataFrame({'img_path': img_filenames, 'np_filename': np_filenames}).sample(frac=1).reset_index(drop=True)\n",
    "df['img_path_extra'] = img_filenames\n",
    "df['regression'] = np.random.randint(1, 10, size=len(df))\n",
    "df['regression_extra'] = np.random.randint(10, 100, size=len(df))\n",
    "df['binary'] = random.sample(['dog', 'cat'] * 30, len(df))\n",
    "df['multi_class'] = random.sample(['dog', 'cat', 'horse'] * 30, len(df))\n",
    "df['multi_label'] = random.sample(['dog', 'cat', ['dog'], ['cat'], ['cat', 'dog'], ['dog', 'cat']] * 10, len(df))\n",
    "print(len(df))\n",
    "df.head()"
   ]
  },
  {
   "cell_type": "markdown",
   "metadata": {},
   "source": [
    "### Multi-output: regression  & regression"
   ]
  },
  {
   "cell_type": "code",
   "execution_count": 18,
   "metadata": {},
   "outputs": [
    {
     "name": "stdout",
     "output_type": "stream",
     "text": [
      "[{'column': 'img_path', 'values': ['/tmp/3.jpg', '/tmp/8.jpg', '/tmp/12.jpg', '/tmp/11.jpg', '/tmp/9.jpg', '/tmp/0.jpg', '/tmp/16.jpg', '/tmp/13.jpg', '/tmp/4.jpg', '/tmp/15.jpg', '/tmp/10.jpg', '/tmp/14.jpg', '/tmp/17.jpg', '/tmp/19.jpg', '/tmp/5.jpg', '/tmp/18.jpg', '/tmp/7.jpg', '/tmp/6.jpg', '/tmp/2.jpg', '/tmp/1.jpg']}]\n",
      "\n",
      "[{'column': 'regression', 'mode': None, 'values': [1, 3, 6, 2, 9, 7, 4, 9, 5, 4, 9, 3, 9, 3, 1, 8, 3, 8, 4, 7]}, {'column': 'regression_extra', 'mode': None, 'values': [72, 89, 52, 48, 75, 14, 22, 24, 16, 81, 74, 48, 66, 27, 21, 40, 77, 74, 18, 48]}]\n",
      "Epoch 1/1\n",
      "10/10 [==============================] - 0s 18ms/step - loss: 219068614.1813 - dense_13_loss: 110060208.0000 - dense_14_loss: 109008400.0000\n"
     ]
    },
    {
     "data": {
      "text/plain": [
       "<keras.callbacks.callbacks.History at 0x7fe69bae79b0>"
      ]
     },
     "execution_count": 18,
     "metadata": {},
     "output_type": "execute_result"
    }
   ],
   "source": [
    "df_iter = DataFrameIterator(\n",
    "    df, \n",
    "    input_columns='img_path',\n",
    "    output_columns=['regression', 'regression_extra'],\n",
    "    batch_size=2,\n",
    "    shuffle=False\n",
    ")\n",
    "print(df_iter.inputs)\n",
    "print()\n",
    "print(df_iter.outputs)\n",
    "\n",
    "_input = Input(shape=(255, 255, 3))\n",
    "x = Flatten()(_input)\n",
    "out_1 = Dense(1)(x)\n",
    "out_2 = Dense(1)(x)\n",
    "model = Model(_input, [out_1, out_2])\n",
    "model.compile('adam', 'mse')\n",
    "model.fit_generator(df_iter)"
   ]
  },
  {
   "cell_type": "code",
   "execution_count": 19,
   "metadata": {},
   "outputs": [
    {
     "name": "stdout",
     "output_type": "stream",
     "text": [
      "[{'column': 'np_filename', 'values': ['/tmp/3.npy', '/tmp/8.npy', '/tmp/12.npy', '/tmp/11.npy', '/tmp/9.npy', '/tmp/0.npy', '/tmp/16.npy', '/tmp/13.npy', '/tmp/4.npy', '/tmp/15.npy', '/tmp/10.npy', '/tmp/14.npy', '/tmp/17.npy', '/tmp/19.npy', '/tmp/5.npy', '/tmp/18.npy', '/tmp/7.npy', '/tmp/6.npy', '/tmp/2.npy', '/tmp/1.npy']}]\n",
      "\n",
      "[{'column': 'regression', 'mode': None, 'values': [1, 3, 6, 2, 9, 7, 4, 9, 5, 4, 9, 3, 9, 3, 1, 8, 3, 8, 4, 7]}, {'column': 'regression_extra', 'mode': None, 'values': [72, 89, 52, 48, 75, 14, 22, 24, 16, 81, 74, 48, 66, 27, 21, 40, 77, 74, 18, 48]}]\n",
      "Epoch 1/1\n",
      "10/10 [==============================] - 0s 20ms/step - loss: 477437915.6832 - dense_15_loss: 238082896.0000 - dense_16_loss: 239355008.0000\n"
     ]
    },
    {
     "data": {
      "text/plain": [
       "<keras.callbacks.callbacks.History at 0x7fe69a5d3da0>"
      ]
     },
     "execution_count": 19,
     "metadata": {},
     "output_type": "execute_result"
    }
   ],
   "source": [
    "df_iter = DataFrameIterator(\n",
    "    df, \n",
    "    input_columns='np_filename',\n",
    "    output_columns=['regression', 'regression_extra'],\n",
    "    batch_size=2,\n",
    "    shuffle=False\n",
    ")\n",
    "print(df_iter.inputs)\n",
    "print()\n",
    "print(df_iter.outputs)\n",
    "\n",
    "_input = Input(shape=(255, 255, 3))\n",
    "x = Flatten()(_input)\n",
    "out_1 = Dense(1)(x)\n",
    "out_2 = Dense(1)(x)\n",
    "model = Model(_input, [out_1, out_2])\n",
    "model.compile('adam', 'mse')\n",
    "model.fit_generator(df_iter)"
   ]
  },
  {
   "cell_type": "markdown",
   "metadata": {},
   "source": [
    "### Multi-output: regression & binary classification"
   ]
  },
  {
   "cell_type": "code",
   "execution_count": 20,
   "metadata": {},
   "outputs": [
    {
     "name": "stdout",
     "output_type": "stream",
     "text": [
      "[{'column': 'img_path', 'values': ['/tmp/3.jpg', '/tmp/8.jpg', '/tmp/12.jpg', '/tmp/11.jpg', '/tmp/9.jpg', '/tmp/0.jpg', '/tmp/16.jpg', '/tmp/13.jpg', '/tmp/4.jpg', '/tmp/15.jpg', '/tmp/10.jpg', '/tmp/14.jpg', '/tmp/17.jpg', '/tmp/19.jpg', '/tmp/5.jpg', '/tmp/18.jpg', '/tmp/7.jpg', '/tmp/6.jpg', '/tmp/2.jpg', '/tmp/1.jpg']}]\n",
      "\n",
      "[{'column': 'regression', 'mode': None, 'values': [1, 3, 6, 2, 9, 7, 4, 9, 5, 4, 9, 3, 9, 3, 1, 8, 3, 8, 4, 7]}, {'column': 'binary', 'mode': 'sparse', 'values': [0, 0, 0, 1, 0, 1, 1, 0, 1, 0, 1, 1, 0, 0, 0, 0, 1, 1, 1, 0], 'index_to_class': {0: 'cat', 1: 'dog'}}]\n",
      "Epoch 1/1\n",
      "10/10 [==============================] - 0s 22ms/step - loss: 129108741.5211 - dense_17_loss: 129103056.0000 - dense_18_loss: 5688.9795\n"
     ]
    },
    {
     "data": {
      "text/plain": [
       "<keras.callbacks.callbacks.History at 0x7fe69b1412b0>"
      ]
     },
     "execution_count": 20,
     "metadata": {},
     "output_type": "execute_result"
    }
   ],
   "source": [
    "df_iter = DataFrameIterator(\n",
    "    df, \n",
    "    input_columns='img_path',\n",
    "    output_columns=['regression', 'binary'],\n",
    "    output_modes={'binary': 'sparse'},\n",
    "    batch_size=2,\n",
    "    shuffle=False\n",
    ")\n",
    "print(df_iter.inputs)\n",
    "print()\n",
    "print(df_iter.outputs)\n",
    "\n",
    "_input = Input(shape=(255, 255, 3))\n",
    "x = Flatten()(_input)\n",
    "out_1 = Dense(1)(x)\n",
    "out_2 = Dense(1, activation='sigmoid')(x)\n",
    "model = Model(_input, [out_1, out_2])\n",
    "model.compile('adam', loss=['mse', 'binary_crossentropy'])\n",
    "model.fit_generator(df_iter)"
   ]
  },
  {
   "cell_type": "markdown",
   "metadata": {},
   "source": [
    "### Multi-output: regression & multi-class classification"
   ]
  },
  {
   "cell_type": "code",
   "execution_count": 21,
   "metadata": {},
   "outputs": [
    {
     "name": "stdout",
     "output_type": "stream",
     "text": [
      "[{'column': 'img_path', 'values': ['/tmp/3.jpg', '/tmp/8.jpg', '/tmp/12.jpg', '/tmp/11.jpg', '/tmp/9.jpg', '/tmp/0.jpg', '/tmp/16.jpg', '/tmp/13.jpg', '/tmp/4.jpg', '/tmp/15.jpg', '/tmp/10.jpg', '/tmp/14.jpg', '/tmp/17.jpg', '/tmp/19.jpg', '/tmp/5.jpg', '/tmp/18.jpg', '/tmp/7.jpg', '/tmp/6.jpg', '/tmp/2.jpg', '/tmp/1.jpg']}]\n",
      "\n",
      "[{'column': 'regression', 'mode': None, 'values': [1, 3, 6, 2, 9, 7, 4, 9, 5, 4, 9, 3, 9, 3, 1, 8, 3, 8, 4, 7]}, {'column': 'multi_class', 'mode': 'categorical', 'values': [1, 0, 2, 0, 2, 0, 2, 0, 2, 0, 1, 2, 0, 0, 2, 2, 2, 0, 2, 1], 'index_to_class': {0: 'cat', 1: 'dog', 2: 'horse'}}]\n",
      "Epoch 1/1\n",
      "10/10 [==============================] - 0s 29ms/step - loss: 107967513.8389 - dense_19_loss: 107937240.0000 - dense_20_loss: 30275.5352\n"
     ]
    },
    {
     "data": {
      "text/plain": [
       "<keras.callbacks.callbacks.History at 0x7fe69ac1b780>"
      ]
     },
     "execution_count": 21,
     "metadata": {},
     "output_type": "execute_result"
    }
   ],
   "source": [
    "df_iter = DataFrameIterator(\n",
    "    df, \n",
    "    input_columns='img_path',\n",
    "    output_columns=['regression', 'multi_class'],\n",
    "    output_modes={'multi_class': 'categorical'},\n",
    "    batch_size=2,\n",
    "    shuffle=False\n",
    ")\n",
    "print(df_iter.inputs)\n",
    "print()\n",
    "print(df_iter.outputs)\n",
    "\n",
    "_input = Input(shape=(255, 255, 3))\n",
    "x = Flatten()(_input)\n",
    "out_1 = Dense(1)(x)\n",
    "out_2 = Dense(3, activation='softmax')(x)\n",
    "model = Model(_input, [out_1, out_2])\n",
    "model.compile('adam', loss=['mse', 'categorical_crossentropy'])\n",
    "model.fit_generator(df_iter)"
   ]
  },
  {
   "cell_type": "markdown",
   "metadata": {},
   "source": [
    "### Multi-output: multi-class & multi-label classification"
   ]
  },
  {
   "cell_type": "code",
   "execution_count": 22,
   "metadata": {
    "scrolled": false
   },
   "outputs": [
    {
     "name": "stdout",
     "output_type": "stream",
     "text": [
      "[{'column': 'img_path', 'values': ['/tmp/3.jpg', '/tmp/8.jpg', '/tmp/12.jpg', '/tmp/11.jpg', '/tmp/9.jpg', '/tmp/0.jpg', '/tmp/16.jpg', '/tmp/13.jpg', '/tmp/4.jpg', '/tmp/15.jpg', '/tmp/10.jpg', '/tmp/14.jpg', '/tmp/17.jpg', '/tmp/19.jpg', '/tmp/5.jpg', '/tmp/18.jpg', '/tmp/7.jpg', '/tmp/6.jpg', '/tmp/2.jpg', '/tmp/1.jpg']}]\n",
      "[{'column': 'multi_class', 'mode': 'categorical', 'values': [1, 0, 2, 0, 2, 0, 2, 0, 2, 0, 1, 2, 0, 0, 2, 2, 2, 0, 2, 1], 'index_to_class': {0: 'cat', 1: 'dog', 2: 'horse'}}, {'column': 'multi_label', 'mode': 'categorical', 'values': [[0, 1], 0, [0], [0], [0], [0, 1], [0, 1], 0, 0, 1, [1], 1, [1], [1, 0], 1, 0, [0, 1], 0, [1, 0], [1, 0]], 'index_to_class': {0: 'cat', 1: 'dog'}}]\n",
      "Epoch 1/1\n",
      "10/10 [==============================] - 0s 34ms/step - loss: 20040.2640 - dense_21_loss: 10399.0762 - dense_22_loss: 9641.1895\n"
     ]
    },
    {
     "data": {
      "text/plain": [
       "<keras.callbacks.callbacks.History at 0x7fe69a7107f0>"
      ]
     },
     "execution_count": 22,
     "metadata": {},
     "output_type": "execute_result"
    }
   ],
   "source": [
    "df_iter = DataFrameIterator(\n",
    "    df, \n",
    "    input_columns='img_path',\n",
    "    output_columns=['multi_class', 'multi_label'],\n",
    "    output_modes={'multi_class': 'categorical', 'multi_label': 'categorical'},\n",
    "    batch_size=2,\n",
    "    shuffle=False\n",
    ")\n",
    "print(df_iter.inputs)\n",
    "print(df_iter.outputs)\n",
    "\n",
    "_input = Input(shape=(255, 255, 3))\n",
    "x = Flatten()(_input)\n",
    "out_1 = Dense(3, activation='softmax')(x)\n",
    "out_2 = Dense(2, activation='sigmoid')(x)\n",
    "model = Model(_input, [out_1, out_2])\n",
    "model.compile('adam', loss=['categorical_crossentropy', 'binary_crossentropy'])\n",
    "model.fit_generator(df_iter)"
   ]
  },
  {
   "cell_type": "code",
   "execution_count": null,
   "metadata": {},
   "outputs": [],
   "source": []
  },
  {
   "cell_type": "code",
   "execution_count": null,
   "metadata": {},
   "outputs": [],
   "source": []
  }
 ],
 "metadata": {
  "kernelspec": {
   "display_name": "Python 3",
   "language": "python",
   "name": "python3"
  },
  "language_info": {
   "codemirror_mode": {
    "name": "ipython",
    "version": 3
   },
   "file_extension": ".py",
   "mimetype": "text/x-python",
   "name": "python",
   "nbconvert_exporter": "python",
   "pygments_lexer": "ipython3",
   "version": "3.6.8"
  }
 },
 "nbformat": 4,
 "nbformat_minor": 2
}
