{
 "cells": [
  {
   "cell_type": "code",
   "execution_count": 16,
   "metadata": {},
   "outputs": [
    {
     "name": "stdout",
     "output_type": "stream",
     "text": [
      "The autoreload extension is already loaded. To reload it, use:\n",
      "  %reload_ext autoreload\n"
     ]
    },
    {
     "data": {
      "text/html": [
       "<div>\n",
       "<style scoped>\n",
       "    .dataframe tbody tr th:only-of-type {\n",
       "        vertical-align: middle;\n",
       "    }\n",
       "\n",
       "    .dataframe tbody tr th {\n",
       "        vertical-align: top;\n",
       "    }\n",
       "\n",
       "    .dataframe thead th {\n",
       "        text-align: right;\n",
       "    }\n",
       "</style>\n",
       "<table border=\"1\" class=\"dataframe\">\n",
       "  <thead>\n",
       "    <tr style=\"text-align: right;\">\n",
       "      <th></th>\n",
       "      <th>img_path</th>\n",
       "      <th>img_np_path</th>\n",
       "      <th>regression</th>\n",
       "      <th>binary</th>\n",
       "      <th>multi_class</th>\n",
       "      <th>multi_label</th>\n",
       "      <th>img_path_extra</th>\n",
       "      <th>regression_extra</th>\n",
       "    </tr>\n",
       "  </thead>\n",
       "  <tbody>\n",
       "    <tr>\n",
       "      <td>0</td>\n",
       "      <td>/tmp/0.jpg</td>\n",
       "      <td>/tmp/0.npy</td>\n",
       "      <td>2</td>\n",
       "      <td>dog</td>\n",
       "      <td>dog</td>\n",
       "      <td>[dog]</td>\n",
       "      <td>/tmp/0.jpg</td>\n",
       "      <td>14</td>\n",
       "    </tr>\n",
       "    <tr>\n",
       "      <td>1</td>\n",
       "      <td>/tmp/1.jpg</td>\n",
       "      <td>/tmp/1.npy</td>\n",
       "      <td>9</td>\n",
       "      <td>cat</td>\n",
       "      <td>horse</td>\n",
       "      <td>dog</td>\n",
       "      <td>/tmp/1.jpg</td>\n",
       "      <td>15</td>\n",
       "    </tr>\n",
       "    <tr>\n",
       "      <td>2</td>\n",
       "      <td>/tmp/2.jpg</td>\n",
       "      <td>/tmp/2.npy</td>\n",
       "      <td>3</td>\n",
       "      <td>dog</td>\n",
       "      <td>dog</td>\n",
       "      <td>[cat]</td>\n",
       "      <td>/tmp/2.jpg</td>\n",
       "      <td>15</td>\n",
       "    </tr>\n",
       "    <tr>\n",
       "      <td>3</td>\n",
       "      <td>/tmp/3.jpg</td>\n",
       "      <td>/tmp/3.npy</td>\n",
       "      <td>8</td>\n",
       "      <td>cat</td>\n",
       "      <td>cat</td>\n",
       "      <td>dog</td>\n",
       "      <td>/tmp/3.jpg</td>\n",
       "      <td>85</td>\n",
       "    </tr>\n",
       "    <tr>\n",
       "      <td>4</td>\n",
       "      <td>/tmp/4.jpg</td>\n",
       "      <td>/tmp/4.npy</td>\n",
       "      <td>5</td>\n",
       "      <td>dog</td>\n",
       "      <td>cat</td>\n",
       "      <td>[dog]</td>\n",
       "      <td>/tmp/4.jpg</td>\n",
       "      <td>58</td>\n",
       "    </tr>\n",
       "  </tbody>\n",
       "</table>\n",
       "</div>"
      ],
      "text/plain": [
       "     img_path img_np_path  regression binary multi_class multi_label  \\\n",
       "0  /tmp/0.jpg  /tmp/0.npy           2    dog         dog       [dog]   \n",
       "1  /tmp/1.jpg  /tmp/1.npy           9    cat       horse         dog   \n",
       "2  /tmp/2.jpg  /tmp/2.npy           3    dog         dog       [cat]   \n",
       "3  /tmp/3.jpg  /tmp/3.npy           8    cat         cat         dog   \n",
       "4  /tmp/4.jpg  /tmp/4.npy           5    dog         cat       [dog]   \n",
       "\n",
       "  img_path_extra  regression_extra  \n",
       "0     /tmp/0.jpg                14  \n",
       "1     /tmp/1.jpg                15  \n",
       "2     /tmp/2.jpg                15  \n",
       "3     /tmp/3.jpg                85  \n",
       "4     /tmp/4.jpg                58  "
      ]
     },
     "execution_count": 16,
     "metadata": {},
     "output_type": "execute_result"
    }
   ],
   "source": [
    "%load_ext autoreload\n",
    "%autoreload 2\n",
    "\n",
    "import random\n",
    "import numpy as np\n",
    "import matplotlib.pyplot as plt\n",
    "import pandas as pd\n",
    "from keras.layers import Dense, Flatten, Input, Reshape\n",
    "from keras.models import Sequential, Model\n",
    "from PIL import Image\n",
    "from pprint import pprint\n",
    "\n",
    "from keras_preprocessing.image import DataFrameIterator, ImageDataGenerator\n",
    "\n",
    "\n",
    "pixel_val = 1\n",
    "np_filenames, img_filenames, np_arrays = [], [], []\n",
    "for i in range(5):\n",
    "    np_filename = '/tmp/{}.npy'.format(i)\n",
    "    img_filename = '/tmp/{}.jpg'.format(i)\n",
    "    array = pixel_val * np.random.randint(0, 255, size=(2, 2)).astype('float32')\n",
    "    np.save(np_filename, array[..., None])\n",
    "    plt.imsave(img_filename, array)\n",
    "    \n",
    "    np_filenames.append(np_filename)\n",
    "    img_filenames.append(img_filename)\n",
    "    \n",
    "df = pd.DataFrame({'img_path': img_filenames, 'img_np_path': np_filenames})\n",
    "df['regression'] = np.random.randint(1, 10, size=len(df))\n",
    "df['binary'] = random.sample(['dog', 'cat'] * 30, len(df))\n",
    "df['multi_class'] = random.sample(['dog', 'cat', 'horse'] * 30, len(df))\n",
    "df['multi_label'] = random.sample(['dog', 'cat', ['dog'], ['cat'], ['cat', 'dog'], ['dog', 'cat']] * 10, len(df))\n",
    "df['img_path_extra'] = img_filenames\n",
    "df['regression_extra'] = np.random.randint(10, 100, size=len(df))\n",
    "\n",
    "df.head()"
   ]
  },
  {
   "cell_type": "markdown",
   "metadata": {},
   "source": [
    "String columns as input"
   ]
  },
  {
   "cell_type": "code",
   "execution_count": 13,
   "metadata": {
    "scrolled": false
   },
   "outputs": [
    {
     "name": "stdout",
     "output_type": "stream",
     "text": [
      "\n",
      "Inputs:\n",
      "[{'column': 'img_path',\n",
      "  'values': ['/tmp/0.jpg',\n",
      "             '/tmp/1.jpg',\n",
      "             '/tmp/2.jpg',\n",
      "             '/tmp/3.jpg',\n",
      "             '/tmp/4.jpg']}]\n",
      "\n",
      "Outputs:\n",
      "[{'column': 'regression', 'mode': None, 'values': [2, 2, 4, 1, 5]}]\n",
      "Epoch 1/1\n",
      "3/3 [==============================] - 0s 29ms/step - loss: 54695.7107\n"
     ]
    },
    {
     "data": {
      "text/plain": [
       "<keras.callbacks.callbacks.History at 0x7f2d3ff5b278>"
      ]
     },
     "execution_count": 13,
     "metadata": {},
     "output_type": "execute_result"
    }
   ],
   "source": [
    "df_iter = DataFrameIterator(\n",
    "    df, \n",
    "    input_columns='img_path',\n",
    "    output_columns='regression',\n",
    "    image_size=(2, 2),\n",
    "    batch_size=2\n",
    ")\n",
    "print('\\nInputs:')\n",
    "pprint(df_iter.inputs)\n",
    "print('\\nOutputs:')\n",
    "pprint(df_iter.outputs)\n",
    "\n",
    "model = Sequential()\n",
    "model.add(Flatten(input_shape=(2, 2, 3)))\n",
    "model.add(Dense(1))\n",
    "model.compile('adam', 'mse')\n",
    "model.fit_generator(df_iter)"
   ]
  },
  {
   "cell_type": "markdown",
   "metadata": {},
   "source": [
    "Numpy array image and column name in a list"
   ]
  },
  {
   "cell_type": "code",
   "execution_count": 14,
   "metadata": {},
   "outputs": [
    {
     "name": "stdout",
     "output_type": "stream",
     "text": [
      "\n",
      "Inputs:\n",
      "[{'column': 'img_np_path',\n",
      "  'values': ['/tmp/0.npy',\n",
      "             '/tmp/1.npy',\n",
      "             '/tmp/2.npy',\n",
      "             '/tmp/3.npy',\n",
      "             '/tmp/4.npy']}]\n",
      "\n",
      "Outputs:\n",
      "[{'column': 'regression', 'mode': None, 'values': [2, 2, 4, 1, 5]}]\n",
      "Epoch 1/1\n",
      "3/3 [==============================] - 0s 32ms/step - loss: 21638.3620\n"
     ]
    },
    {
     "data": {
      "text/plain": [
       "<keras.callbacks.callbacks.History at 0x7f2d3fa10860>"
      ]
     },
     "execution_count": 14,
     "metadata": {},
     "output_type": "execute_result"
    }
   ],
   "source": [
    "df_iter = DataFrameIterator(\n",
    "    df, \n",
    "    input_columns='img_np_path',\n",
    "    output_columns=['regression'],\n",
    "    image_size=(2, 2),\n",
    "    batch_size=2\n",
    ")\n",
    "print('\\nInputs:')\n",
    "pprint(df_iter.inputs)\n",
    "print('\\nOutputs:')\n",
    "pprint(df_iter.outputs)\n",
    "\n",
    "model = Sequential()\n",
    "model.add(Flatten(input_shape=(2, 2, 3)))\n",
    "model.add(Dense(1))\n",
    "model.compile('adam', 'mse')\n",
    "model.fit_generator(df_iter)"
   ]
  },
  {
   "cell_type": "markdown",
   "metadata": {},
   "source": [
    "with data augmentation"
   ]
  },
  {
   "cell_type": "code",
   "execution_count": 12,
   "metadata": {},
   "outputs": [
    {
     "name": "stdout",
     "output_type": "stream",
     "text": [
      "\n",
      "Inputs:\n",
      "[{'column': 'img_np_path',\n",
      "  'values': ['/tmp/0.npy',\n",
      "             '/tmp/1.npy',\n",
      "             '/tmp/2.npy',\n",
      "             '/tmp/3.npy',\n",
      "             '/tmp/4.npy']}]\n",
      "\n",
      "Outputs:\n",
      "[{'column': 'regression', 'mode': None, 'values': [2, 2, 4, 1, 5]}]\n",
      "Epoch 1/1\n",
      "3/3 [==============================] - 0s 28ms/step - loss: 16026.2403\n"
     ]
    },
    {
     "data": {
      "text/plain": [
       "<keras.callbacks.callbacks.History at 0x7f2d5c4c85c0>"
      ]
     },
     "execution_count": 12,
     "metadata": {},
     "output_type": "execute_result"
    }
   ],
   "source": [
    "df_iter = DataFrameIterator(\n",
    "    df, \n",
    "    input_columns='img_np_path',\n",
    "    output_columns=['regression'],\n",
    "    image_size=(2, 2),\n",
    "    batch_size=2,\n",
    "    image_data_generator=ImageDataGenerator(horizontal_flip=True,\n",
    "                                            vertical_flip=True)\n",
    ")\n",
    "print('\\nInputs:')\n",
    "pprint(df_iter.inputs)\n",
    "print('\\nOutputs:')\n",
    "pprint(df_iter.outputs)\n",
    "\n",
    "model = Sequential()\n",
    "model.add(Flatten(input_shape=(2, 2, 3)))\n",
    "model.add(Dense(1))\n",
    "model.compile('adam', 'mse')\n",
    "model.fit_generator(df_iter)"
   ]
  },
  {
   "cell_type": "code",
   "execution_count": null,
   "metadata": {},
   "outputs": [],
   "source": []
  }
 ],
 "metadata": {
  "kernelspec": {
   "display_name": "Python 3",
   "language": "python",
   "name": "python3"
  },
  "language_info": {
   "codemirror_mode": {
    "name": "ipython",
    "version": 3
   },
   "file_extension": ".py",
   "mimetype": "text/x-python",
   "name": "python",
   "nbconvert_exporter": "python",
   "pygments_lexer": "ipython3",
   "version": "3.6.8"
  }
 },
 "nbformat": 4,
 "nbformat_minor": 2
}
