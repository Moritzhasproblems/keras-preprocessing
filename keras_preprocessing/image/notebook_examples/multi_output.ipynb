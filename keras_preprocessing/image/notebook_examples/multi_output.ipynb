{
 "cells": [
  {
   "cell_type": "code",
   "execution_count": 5,
   "metadata": {},
   "outputs": [
    {
     "name": "stdout",
     "output_type": "stream",
     "text": [
      "The autoreload extension is already loaded. To reload it, use:\n",
      "  %reload_ext autoreload\n"
     ]
    },
    {
     "data": {
      "text/html": [
       "<div>\n",
       "<style scoped>\n",
       "    .dataframe tbody tr th:only-of-type {\n",
       "        vertical-align: middle;\n",
       "    }\n",
       "\n",
       "    .dataframe tbody tr th {\n",
       "        vertical-align: top;\n",
       "    }\n",
       "\n",
       "    .dataframe thead th {\n",
       "        text-align: right;\n",
       "    }\n",
       "</style>\n",
       "<table border=\"1\" class=\"dataframe\">\n",
       "  <thead>\n",
       "    <tr style=\"text-align: right;\">\n",
       "      <th></th>\n",
       "      <th>img_path</th>\n",
       "      <th>img_np_path</th>\n",
       "      <th>regression</th>\n",
       "      <th>binary</th>\n",
       "      <th>multi_class</th>\n",
       "      <th>multi_label</th>\n",
       "      <th>img_path_extra</th>\n",
       "      <th>regression_extra</th>\n",
       "    </tr>\n",
       "  </thead>\n",
       "  <tbody>\n",
       "    <tr>\n",
       "      <td>0</td>\n",
       "      <td>/tmp/0.jpg</td>\n",
       "      <td>/tmp/0.npy</td>\n",
       "      <td>7</td>\n",
       "      <td>dog</td>\n",
       "      <td>cat</td>\n",
       "      <td>[dog, cat]</td>\n",
       "      <td>/tmp/0.jpg</td>\n",
       "      <td>81</td>\n",
       "    </tr>\n",
       "    <tr>\n",
       "      <td>1</td>\n",
       "      <td>/tmp/1.jpg</td>\n",
       "      <td>/tmp/1.npy</td>\n",
       "      <td>6</td>\n",
       "      <td>cat</td>\n",
       "      <td>cat</td>\n",
       "      <td>[dog, cat]</td>\n",
       "      <td>/tmp/1.jpg</td>\n",
       "      <td>89</td>\n",
       "    </tr>\n",
       "    <tr>\n",
       "      <td>2</td>\n",
       "      <td>/tmp/2.jpg</td>\n",
       "      <td>/tmp/2.npy</td>\n",
       "      <td>6</td>\n",
       "      <td>dog</td>\n",
       "      <td>cat</td>\n",
       "      <td>dog</td>\n",
       "      <td>/tmp/2.jpg</td>\n",
       "      <td>40</td>\n",
       "    </tr>\n",
       "    <tr>\n",
       "      <td>3</td>\n",
       "      <td>/tmp/3.jpg</td>\n",
       "      <td>/tmp/3.npy</td>\n",
       "      <td>2</td>\n",
       "      <td>cat</td>\n",
       "      <td>dog</td>\n",
       "      <td>[cat, dog]</td>\n",
       "      <td>/tmp/3.jpg</td>\n",
       "      <td>42</td>\n",
       "    </tr>\n",
       "    <tr>\n",
       "      <td>4</td>\n",
       "      <td>/tmp/4.jpg</td>\n",
       "      <td>/tmp/4.npy</td>\n",
       "      <td>6</td>\n",
       "      <td>dog</td>\n",
       "      <td>dog</td>\n",
       "      <td>[cat]</td>\n",
       "      <td>/tmp/4.jpg</td>\n",
       "      <td>76</td>\n",
       "    </tr>\n",
       "  </tbody>\n",
       "</table>\n",
       "</div>"
      ],
      "text/plain": [
       "     img_path img_np_path  regression binary multi_class multi_label  \\\n",
       "0  /tmp/0.jpg  /tmp/0.npy           7    dog         cat  [dog, cat]   \n",
       "1  /tmp/1.jpg  /tmp/1.npy           6    cat         cat  [dog, cat]   \n",
       "2  /tmp/2.jpg  /tmp/2.npy           6    dog         cat         dog   \n",
       "3  /tmp/3.jpg  /tmp/3.npy           2    cat         dog  [cat, dog]   \n",
       "4  /tmp/4.jpg  /tmp/4.npy           6    dog         dog       [cat]   \n",
       "\n",
       "  img_path_extra  regression_extra  \n",
       "0     /tmp/0.jpg                81  \n",
       "1     /tmp/1.jpg                89  \n",
       "2     /tmp/2.jpg                40  \n",
       "3     /tmp/3.jpg                42  \n",
       "4     /tmp/4.jpg                76  "
      ]
     },
     "execution_count": 5,
     "metadata": {},
     "output_type": "execute_result"
    }
   ],
   "source": [
    "%load_ext autoreload\n",
    "%autoreload 2\n",
    "\n",
    "import random\n",
    "import numpy as np\n",
    "import matplotlib.pyplot as plt\n",
    "import pandas as pd\n",
    "from keras.layers import Dense, Flatten, Input, Reshape\n",
    "from keras.models import Sequential, Model\n",
    "from PIL import Image\n",
    "from pprint import pprint\n",
    "\n",
    "from keras_preprocessing.image import DataFrameIterator, ImageDataGenerator\n",
    "\n",
    "\n",
    "pixel_val = 1\n",
    "np_filenames, img_filenames, np_arrays = [], [], []\n",
    "for i in range(10):\n",
    "    np_filename = '/tmp/{}.npy'.format(i)\n",
    "    img_filename = '/tmp/{}.jpg'.format(i)\n",
    "    array = pixel_val * np.random.randint(0, 255, size=(2, 2)).astype('float32')\n",
    "    np.save(np_filename, array[..., None])\n",
    "    plt.imsave(img_filename, array)\n",
    "    \n",
    "    np_filenames.append(np_filename)\n",
    "    img_filenames.append(img_filename)\n",
    "    \n",
    "df = pd.DataFrame({'img_path': img_filenames, 'img_np_path': np_filenames})\n",
    "df['regression'] = np.random.randint(1, 10, size=len(df))\n",
    "df['binary'] = random.sample(['dog', 'cat'] * 30, len(df))\n",
    "df['multi_class'] = random.sample(['dog', 'cat', 'horse'] * 30, len(df))\n",
    "df['multi_label'] = random.sample(['dog', 'cat', ['dog'], ['cat'], ['cat', 'dog'], ['dog', 'cat']] * 10, len(df))\n",
    "df['img_path_extra'] = img_filenames\n",
    "df['regression_extra'] = np.random.randint(10, 100, size=len(df))\n",
    "\n",
    "df.head()"
   ]
  },
  {
   "cell_type": "markdown",
   "metadata": {},
   "source": [
    "### Regression & regression"
   ]
  },
  {
   "cell_type": "code",
   "execution_count": 6,
   "metadata": {},
   "outputs": [
    {
     "name": "stdout",
     "output_type": "stream",
     "text": [
      "\n",
      "Inputs:\n",
      "[{'column': 'img_path',\n",
      "  'values': ['/tmp/0.jpg',\n",
      "             '/tmp/1.jpg',\n",
      "             '/tmp/2.jpg',\n",
      "             '/tmp/3.jpg',\n",
      "             '/tmp/4.jpg',\n",
      "             '/tmp/5.jpg',\n",
      "             '/tmp/6.jpg',\n",
      "             '/tmp/7.jpg',\n",
      "             '/tmp/8.jpg',\n",
      "             '/tmp/9.jpg']}]\n",
      "\n",
      "Outputs:\n",
      "[{'column': 'regression',\n",
      "  'mode': None,\n",
      "  'values': [7, 6, 6, 2, 6, 8, 3, 9, 4, 8]},\n",
      " {'column': 'regression_extra',\n",
      "  'mode': None,\n",
      "  'values': [81, 89, 40, 42, 76, 57, 54, 69, 28, 59]}]\n",
      "Epoch 1/1\n",
      "5/5 [==============================] - 0s 21ms/step - loss: 46034.2750 - dense_7_loss: 19555.9961 - dense_8_loss: 26478.2754\n"
     ]
    },
    {
     "data": {
      "text/plain": [
       "<keras.callbacks.callbacks.History at 0x7f88bc79ad68>"
      ]
     },
     "execution_count": 6,
     "metadata": {},
     "output_type": "execute_result"
    }
   ],
   "source": [
    "df_iter = DataFrameIterator(\n",
    "    df, \n",
    "    input_columns='img_path',\n",
    "    output_columns=['regression', 'regression_extra'],\n",
    "    image_size=(2, 2),\n",
    "    batch_size=2,\n",
    "    color_mode='grayscale'\n",
    ")\n",
    "\n",
    "print('\\nInputs:')\n",
    "pprint(df_iter.inputs)\n",
    "print('\\nOutputs:')\n",
    "pprint(df_iter.outputs)\n",
    "\n",
    "_input = Input(shape=(2, 2, 1))\n",
    "x = Flatten()(_input)\n",
    "out_1 = Dense(1)(x)\n",
    "out_2 = Dense(1)(x)\n",
    "model = Model(_input, [out_1, out_2])\n",
    "model.compile('adam', 'mse')\n",
    "model.fit_generator(df_iter)"
   ]
  },
  {
   "cell_type": "markdown",
   "metadata": {},
   "source": [
    "### Regression & binary classification"
   ]
  },
  {
   "cell_type": "code",
   "execution_count": 7,
   "metadata": {},
   "outputs": [
    {
     "name": "stdout",
     "output_type": "stream",
     "text": [
      "\n",
      "Inputs:\n",
      "[{'column': 'img_path',\n",
      "  'values': ['/tmp/0.jpg',\n",
      "             '/tmp/1.jpg',\n",
      "             '/tmp/2.jpg',\n",
      "             '/tmp/3.jpg',\n",
      "             '/tmp/4.jpg',\n",
      "             '/tmp/5.jpg',\n",
      "             '/tmp/6.jpg',\n",
      "             '/tmp/7.jpg',\n",
      "             '/tmp/8.jpg',\n",
      "             '/tmp/9.jpg']}]\n",
      "\n",
      "Outputs:\n",
      "[{'column': 'regression',\n",
      "  'mode': None,\n",
      "  'values': [7, 6, 6, 2, 6, 8, 3, 9, 4, 8]},\n",
      " {'column': 'binary',\n",
      "  'index_to_class': {0: 'cat', 1: 'dog'},\n",
      "  'mode': 'sparse',\n",
      "  'values': [1, 0, 1, 0, 1, 1, 1, 1, 1, 1]}]\n",
      "Epoch 1/1\n",
      "5/5 [==============================] - 0s 29ms/step - loss: 14716.0994 - dense_9_loss: 14659.1436 - dense_10_loss: 56.9555\n"
     ]
    },
    {
     "data": {
      "text/plain": [
       "<keras.callbacks.callbacks.History at 0x7f88bc32e2e8>"
      ]
     },
     "execution_count": 7,
     "metadata": {},
     "output_type": "execute_result"
    }
   ],
   "source": [
    "df_iter = DataFrameIterator(\n",
    "    df, \n",
    "    input_columns='img_path',\n",
    "    output_columns=['regression', 'binary'],\n",
    "    output_modes={'binary': 'sparse'},\n",
    "    image_size=(2, 2),\n",
    "    batch_size=2,\n",
    "    color_mode='grayscale'\n",
    ")\n",
    "\n",
    "print('\\nInputs:')\n",
    "pprint(df_iter.inputs)\n",
    "print('\\nOutputs:')\n",
    "pprint(df_iter.outputs)\n",
    "\n",
    "_input = Input(shape=(2, 2, 1))\n",
    "x = Flatten()(_input)\n",
    "out_1 = Dense(1)(x)\n",
    "out_2 = Dense(1, activation='sigmoid')(x)\n",
    "model = Model(_input, [out_1, out_2])\n",
    "model.compile('adam', loss=['mse', 'binary_crossentropy'])\n",
    "model.fit_generator(df_iter)"
   ]
  },
  {
   "cell_type": "markdown",
   "metadata": {},
   "source": [
    "### Regression & multi-class classification"
   ]
  },
  {
   "cell_type": "code",
   "execution_count": 8,
   "metadata": {},
   "outputs": [
    {
     "name": "stdout",
     "output_type": "stream",
     "text": [
      "\n",
      "Inputs:\n",
      "[{'column': 'img_path',\n",
      "  'values': ['/tmp/0.jpg',\n",
      "             '/tmp/1.jpg',\n",
      "             '/tmp/2.jpg',\n",
      "             '/tmp/3.jpg',\n",
      "             '/tmp/4.jpg',\n",
      "             '/tmp/5.jpg',\n",
      "             '/tmp/6.jpg',\n",
      "             '/tmp/7.jpg',\n",
      "             '/tmp/8.jpg',\n",
      "             '/tmp/9.jpg']}]\n",
      "\n",
      "Outputs:\n",
      "[{'column': 'regression',\n",
      "  'mode': None,\n",
      "  'values': [7, 6, 6, 2, 6, 8, 3, 9, 4, 8]},\n",
      " {'column': 'multi_class',\n",
      "  'index_to_class': {0: 'cat', 1: 'dog', 2: 'horse'},\n",
      "  'mode': 'categorical',\n",
      "  'values': [0, 0, 0, 1, 1, 0, 0, 1, 2, 0]}]\n",
      "Epoch 1/1\n",
      "5/5 [==============================] - 0s 22ms/step - loss: 19225.6564 - dense_11_loss: 19144.3613 - dense_12_loss: 81.2957\n"
     ]
    },
    {
     "data": {
      "text/plain": [
       "<keras.callbacks.callbacks.History at 0x7f88a4e055f8>"
      ]
     },
     "execution_count": 8,
     "metadata": {},
     "output_type": "execute_result"
    }
   ],
   "source": [
    "df_iter = DataFrameIterator(\n",
    "    df, \n",
    "    input_columns='img_path',\n",
    "    output_columns=['regression', 'multi_class'],\n",
    "    output_modes={'multi_class': 'categorical'},\n",
    "    image_size=(2, 2),\n",
    "    batch_size=2,\n",
    "    color_mode='grayscale'\n",
    ")\n",
    "\n",
    "print('\\nInputs:')\n",
    "pprint(df_iter.inputs)\n",
    "print('\\nOutputs:')\n",
    "pprint(df_iter.outputs)\n",
    "\n",
    "_input = Input(shape=(2, 2, 1))\n",
    "x = Flatten()(_input)\n",
    "out_1 = Dense(1)(x)\n",
    "out_2 = Dense(3, activation='softmax')(x)\n",
    "model = Model(_input, [out_1, out_2])\n",
    "model.compile('adam', loss=['mse', 'categorical_crossentropy'])\n",
    "model.fit_generator(df_iter)"
   ]
  },
  {
   "cell_type": "markdown",
   "metadata": {},
   "source": [
    "### Multi-class & multi-label classification"
   ]
  },
  {
   "cell_type": "code",
   "execution_count": 9,
   "metadata": {
    "scrolled": false
   },
   "outputs": [
    {
     "name": "stdout",
     "output_type": "stream",
     "text": [
      "\n",
      "Inputs:\n",
      "[{'column': 'img_path',\n",
      "  'values': ['/tmp/0.jpg',\n",
      "             '/tmp/1.jpg',\n",
      "             '/tmp/2.jpg',\n",
      "             '/tmp/3.jpg',\n",
      "             '/tmp/4.jpg',\n",
      "             '/tmp/5.jpg',\n",
      "             '/tmp/6.jpg',\n",
      "             '/tmp/7.jpg',\n",
      "             '/tmp/8.jpg',\n",
      "             '/tmp/9.jpg']}]\n",
      "\n",
      "Outputs:\n",
      "[{'column': 'multi_class',\n",
      "  'index_to_class': {0: 'cat', 1: 'dog', 2: 'horse'},\n",
      "  'mode': 'categorical',\n",
      "  'values': [0, 0, 0, 1, 1, 0, 0, 1, 2, 0]},\n",
      " {'column': 'multi_label',\n",
      "  'index_to_class': {0: 'cat', 1: 'dog'},\n",
      "  'mode': 'categorical',\n",
      "  'values': [[1, 0], [1, 0], 1, [0, 1], [0], 0, [0, 1], [1, 0], 1, 1]}]\n",
      "Epoch 1/1\n",
      "5/5 [==============================] - 0s 28ms/step - loss: 189.8079 - dense_13_loss: 108.1421 - dense_14_loss: 81.6658\n"
     ]
    },
    {
     "data": {
      "text/plain": [
       "<keras.callbacks.callbacks.History at 0x7f88a49859e8>"
      ]
     },
     "execution_count": 9,
     "metadata": {},
     "output_type": "execute_result"
    }
   ],
   "source": [
    "df_iter = DataFrameIterator(\n",
    "    df, \n",
    "    input_columns='img_path',\n",
    "    output_columns=['multi_class', 'multi_label'],\n",
    "    output_modes={'multi_class': 'categorical', 'multi_label': 'categorical'},\n",
    "    image_size=(2, 2),\n",
    "    batch_size=2,\n",
    "    color_mode='grayscale'\n",
    ")\n",
    "\n",
    "print('\\nInputs:')\n",
    "pprint(df_iter.inputs)\n",
    "print('\\nOutputs:')\n",
    "pprint(df_iter.outputs)\n",
    "\n",
    "_input = Input(shape=(2, 2, 1))\n",
    "x = Flatten()(_input)\n",
    "out_1 = Dense(3, activation='softmax')(x)\n",
    "out_2 = Dense(2, activation='sigmoid')(x)\n",
    "model = Model(_input, [out_1, out_2])\n",
    "model.compile('adam', loss=['categorical_crossentropy', 'binary_crossentropy'])\n",
    "model.fit_generator(df_iter)"
   ]
  },
  {
   "cell_type": "code",
   "execution_count": null,
   "metadata": {},
   "outputs": [],
   "source": []
  }
 ],
 "metadata": {
  "kernelspec": {
   "display_name": "Python 3",
   "language": "python",
   "name": "python3"
  },
  "language_info": {
   "codemirror_mode": {
    "name": "ipython",
    "version": 3
   },
   "file_extension": ".py",
   "mimetype": "text/x-python",
   "name": "python",
   "nbconvert_exporter": "python",
   "pygments_lexer": "ipython3",
   "version": "3.6.8"
  }
 },
 "nbformat": 4,
 "nbformat_minor": 2
}
