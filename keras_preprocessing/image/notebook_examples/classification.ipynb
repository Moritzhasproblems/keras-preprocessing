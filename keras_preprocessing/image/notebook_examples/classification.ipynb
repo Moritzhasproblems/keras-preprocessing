{
 "cells": [
  {
   "cell_type": "code",
   "execution_count": 1,
   "metadata": {},
   "outputs": [
    {
     "name": "stderr",
     "output_type": "stream",
     "text": [
      "Using TensorFlow backend.\n"
     ]
    },
    {
     "data": {
      "text/html": [
       "<div>\n",
       "<style scoped>\n",
       "    .dataframe tbody tr th:only-of-type {\n",
       "        vertical-align: middle;\n",
       "    }\n",
       "\n",
       "    .dataframe tbody tr th {\n",
       "        vertical-align: top;\n",
       "    }\n",
       "\n",
       "    .dataframe thead th {\n",
       "        text-align: right;\n",
       "    }\n",
       "</style>\n",
       "<table border=\"1\" class=\"dataframe\">\n",
       "  <thead>\n",
       "    <tr style=\"text-align: right;\">\n",
       "      <th></th>\n",
       "      <th>img_path</th>\n",
       "      <th>img_np_path</th>\n",
       "      <th>regression</th>\n",
       "      <th>binary</th>\n",
       "      <th>multi_class</th>\n",
       "      <th>multi_label</th>\n",
       "      <th>img_path_extra</th>\n",
       "      <th>regression_extra</th>\n",
       "    </tr>\n",
       "  </thead>\n",
       "  <tbody>\n",
       "    <tr>\n",
       "      <td>0</td>\n",
       "      <td>/tmp/0.jpg</td>\n",
       "      <td>/tmp/0.npy</td>\n",
       "      <td>3</td>\n",
       "      <td>cat</td>\n",
       "      <td>cat</td>\n",
       "      <td>cat</td>\n",
       "      <td>/tmp/0.jpg</td>\n",
       "      <td>80</td>\n",
       "    </tr>\n",
       "    <tr>\n",
       "      <td>1</td>\n",
       "      <td>/tmp/1.jpg</td>\n",
       "      <td>/tmp/1.npy</td>\n",
       "      <td>7</td>\n",
       "      <td>cat</td>\n",
       "      <td>cat</td>\n",
       "      <td>[cat]</td>\n",
       "      <td>/tmp/1.jpg</td>\n",
       "      <td>86</td>\n",
       "    </tr>\n",
       "    <tr>\n",
       "      <td>2</td>\n",
       "      <td>/tmp/2.jpg</td>\n",
       "      <td>/tmp/2.npy</td>\n",
       "      <td>1</td>\n",
       "      <td>cat</td>\n",
       "      <td>dog</td>\n",
       "      <td>dog</td>\n",
       "      <td>/tmp/2.jpg</td>\n",
       "      <td>79</td>\n",
       "    </tr>\n",
       "    <tr>\n",
       "      <td>3</td>\n",
       "      <td>/tmp/3.jpg</td>\n",
       "      <td>/tmp/3.npy</td>\n",
       "      <td>4</td>\n",
       "      <td>cat</td>\n",
       "      <td>horse</td>\n",
       "      <td>[cat]</td>\n",
       "      <td>/tmp/3.jpg</td>\n",
       "      <td>36</td>\n",
       "    </tr>\n",
       "    <tr>\n",
       "      <td>4</td>\n",
       "      <td>/tmp/4.jpg</td>\n",
       "      <td>/tmp/4.npy</td>\n",
       "      <td>7</td>\n",
       "      <td>dog</td>\n",
       "      <td>cat</td>\n",
       "      <td>[dog]</td>\n",
       "      <td>/tmp/4.jpg</td>\n",
       "      <td>44</td>\n",
       "    </tr>\n",
       "  </tbody>\n",
       "</table>\n",
       "</div>"
      ],
      "text/plain": [
       "     img_path img_np_path  regression binary multi_class multi_label  \\\n",
       "0  /tmp/0.jpg  /tmp/0.npy           3    cat         cat         cat   \n",
       "1  /tmp/1.jpg  /tmp/1.npy           7    cat         cat       [cat]   \n",
       "2  /tmp/2.jpg  /tmp/2.npy           1    cat         dog         dog   \n",
       "3  /tmp/3.jpg  /tmp/3.npy           4    cat       horse       [cat]   \n",
       "4  /tmp/4.jpg  /tmp/4.npy           7    dog         cat       [dog]   \n",
       "\n",
       "  img_path_extra  regression_extra  \n",
       "0     /tmp/0.jpg                80  \n",
       "1     /tmp/1.jpg                86  \n",
       "2     /tmp/2.jpg                79  \n",
       "3     /tmp/3.jpg                36  \n",
       "4     /tmp/4.jpg                44  "
      ]
     },
     "execution_count": 1,
     "metadata": {},
     "output_type": "execute_result"
    }
   ],
   "source": [
    "%load_ext autoreload\n",
    "%autoreload 2\n",
    "\n",
    "import random\n",
    "import numpy as np\n",
    "import matplotlib.pyplot as plt\n",
    "import pandas as pd\n",
    "from keras.layers import Dense, Flatten, Input, Reshape\n",
    "from keras.models import Sequential, Model\n",
    "from PIL import Image\n",
    "from pprint import pprint\n",
    "\n",
    "from keras_preprocessing.image import DataFrameIterator, ImageDataGenerator\n",
    "\n",
    "\n",
    "pixel_val = 1\n",
    "np_filenames, img_filenames, np_arrays = [], [], []\n",
    "for i in range(8):\n",
    "    np_filename = '/tmp/{}.npy'.format(i)\n",
    "    img_filename = '/tmp/{}.jpg'.format(i)\n",
    "    array = pixel_val * np.random.randint(0, 255, size=(2, 2)).astype('float32')\n",
    "    np.save(np_filename, array[..., None])\n",
    "    plt.imsave(img_filename, array)\n",
    "    \n",
    "    np_filenames.append(np_filename)\n",
    "    img_filenames.append(img_filename)\n",
    "    \n",
    "df = pd.DataFrame({'img_path': img_filenames, 'img_np_path': np_filenames})\n",
    "df['regression'] = np.random.randint(1, 10, size=len(df))\n",
    "df['binary'] = random.sample(['dog', 'cat'] * 30, len(df))\n",
    "df['multi_class'] = random.sample(['dog', 'cat', 'horse'] * 30, len(df))\n",
    "df['multi_label'] = random.sample(['dog', 'cat', ['dog'], ['cat'], ['cat', 'dog'], ['dog', 'cat']] * 10, len(df))\n",
    "df['img_path_extra'] = img_filenames\n",
    "df['regression_extra'] = np.random.randint(10, 100, size=len(df))\n",
    "\n",
    "df.head()"
   ]
  },
  {
   "cell_type": "markdown",
   "metadata": {},
   "source": [
    "### BInary classification"
   ]
  },
  {
   "cell_type": "code",
   "execution_count": 2,
   "metadata": {
    "scrolled": false
   },
   "outputs": [
    {
     "name": "stderr",
     "output_type": "stream",
     "text": [
      "WARNING: Logging before flag parsing goes to stderr.\n",
      "W1009 08:37:26.290768 140473523877696 deprecation.py:323] From /home/rodrigo/anaconda3/envs/keras-dev/lib/python3.6/site-packages/tensorflow/python/ops/nn_impl.py:180: add_dispatch_support.<locals>.wrapper (from tensorflow.python.ops.array_ops) is deprecated and will be removed in a future version.\n",
      "Instructions for updating:\n",
      "Use tf.where in 2.0, which has the same broadcast rule as np.where\n"
     ]
    },
    {
     "name": "stdout",
     "output_type": "stream",
     "text": [
      "\n",
      "Inputs:\n",
      "[{'column': 'img_path',\n",
      "  'values': ['/tmp/0.jpg',\n",
      "             '/tmp/1.jpg',\n",
      "             '/tmp/2.jpg',\n",
      "             '/tmp/3.jpg',\n",
      "             '/tmp/4.jpg',\n",
      "             '/tmp/5.jpg',\n",
      "             '/tmp/6.jpg',\n",
      "             '/tmp/7.jpg']}]\n",
      "\n",
      "Outputs:\n",
      "[{'column': 'binary',\n",
      "  'index_to_class': {0: 'cat', 1: 'dog'},\n",
      "  'mode': 'sparse',\n",
      "  'values': [0, 0, 0, 0, 1, 0, 0, 1]}]\n",
      "\n"
     ]
    },
    {
     "name": "stderr",
     "output_type": "stream",
     "text": [
      "W1009 08:37:26.511084 140473523877696 deprecation_wrapper.py:119] From /home/rodrigo/anaconda3/envs/keras-dev/lib/python3.6/site-packages/keras/backend/tensorflow_backend.py:422: The name tf.global_variables is deprecated. Please use tf.compat.v1.global_variables instead.\n",
      "\n"
     ]
    },
    {
     "name": "stdout",
     "output_type": "stream",
     "text": [
      "Epoch 1/1\n",
      "4/4 [==============================] - 0s 26ms/step - loss: 52.4117\n"
     ]
    },
    {
     "data": {
      "text/plain": [
       "<keras.callbacks.callbacks.History at 0x7fc284356860>"
      ]
     },
     "execution_count": 2,
     "metadata": {},
     "output_type": "execute_result"
    }
   ],
   "source": [
    "df_iter = DataFrameIterator(\n",
    "    df, \n",
    "    input_columns='img_path',\n",
    "    output_columns=['binary'],\n",
    "    output_modes={'binary': 'sparse'},\n",
    "    image_size=(2, 2),\n",
    "    batch_size=2\n",
    ")\n",
    "\n",
    "print('\\nInputs:')\n",
    "pprint(df_iter.inputs)\n",
    "print('\\nOutputs:')\n",
    "pprint(df_iter.outputs)\n",
    "\n",
    "print()\n",
    "model = Sequential()\n",
    "model.add(Flatten(input_shape=(2, 2, 3)))\n",
    "model.add(Dense(1, activation='sigmoid'))\n",
    "model.compile('adam', 'binary_crossentropy')\n",
    "model.fit_generator(df_iter)"
   ]
  },
  {
   "cell_type": "code",
   "execution_count": 3,
   "metadata": {},
   "outputs": [
    {
     "name": "stdout",
     "output_type": "stream",
     "text": [
      "\n",
      "Inputs:\n",
      "[{'column': 'img_np_path',\n",
      "  'values': ['/tmp/0.npy',\n",
      "             '/tmp/1.npy',\n",
      "             '/tmp/2.npy',\n",
      "             '/tmp/3.npy',\n",
      "             '/tmp/4.npy',\n",
      "             '/tmp/5.npy',\n",
      "             '/tmp/6.npy',\n",
      "             '/tmp/7.npy']}]\n",
      "\n",
      "Outputs:\n",
      "[{'column': 'binary',\n",
      "  'index_to_class': {0: 'cat', 1: 'dog'},\n",
      "  'mode': 'sparse',\n",
      "  'values': [0, 0, 0, 0, 1, 0, 0, 1]}]\n",
      "\n",
      "Epoch 1/1\n",
      "4/4 [==============================] - 0s 19ms/step - loss: 122.0674\n"
     ]
    },
    {
     "data": {
      "text/plain": [
       "<keras.callbacks.callbacks.History at 0x7fc22c1a9860>"
      ]
     },
     "execution_count": 3,
     "metadata": {},
     "output_type": "execute_result"
    }
   ],
   "source": [
    "df_iter = DataFrameIterator(\n",
    "    df, \n",
    "    input_columns='img_np_path',\n",
    "    output_columns=['binary'],\n",
    "    output_modes={'binary': 'sparse'},\n",
    "    image_size=(2, 2),\n",
    "    batch_size=2\n",
    ")\n",
    "\n",
    "print('\\nInputs:')\n",
    "pprint(df_iter.inputs)\n",
    "print('\\nOutputs:')\n",
    "pprint(df_iter.outputs)\n",
    "\n",
    "print()\n",
    "model = Sequential()\n",
    "model.add(Flatten(input_shape=(2,2,3)))\n",
    "model.add(Dense(1, activation='sigmoid'))\n",
    "model.compile('adam', 'binary_crossentropy')\n",
    "model.fit_generator(df_iter)"
   ]
  },
  {
   "cell_type": "markdown",
   "metadata": {},
   "source": [
    "### Multi-class classsification"
   ]
  },
  {
   "cell_type": "code",
   "execution_count": 4,
   "metadata": {
    "scrolled": false
   },
   "outputs": [
    {
     "name": "stdout",
     "output_type": "stream",
     "text": [
      "\n",
      "Inputs:\n",
      "[{'column': 'img_path',\n",
      "  'values': ['/tmp/0.jpg',\n",
      "             '/tmp/1.jpg',\n",
      "             '/tmp/2.jpg',\n",
      "             '/tmp/3.jpg',\n",
      "             '/tmp/4.jpg',\n",
      "             '/tmp/5.jpg',\n",
      "             '/tmp/6.jpg',\n",
      "             '/tmp/7.jpg']}]\n",
      "\n",
      "Outputs:\n",
      "[{'column': 'multi_class',\n",
      "  'index_to_class': {0: 'cat', 1: 'dog', 2: 'horse'},\n",
      "  'mode': 'sparse',\n",
      "  'values': [0, 0, 1, 2, 0, 0, 1, 0]}]\n",
      "\n",
      "Epoch 1/1\n",
      "4/4 [==============================] - 0s 14ms/step - loss: 114.5474\n"
     ]
    },
    {
     "data": {
      "text/plain": [
       "<keras.callbacks.callbacks.History at 0x7fc2101d3b38>"
      ]
     },
     "execution_count": 4,
     "metadata": {},
     "output_type": "execute_result"
    }
   ],
   "source": [
    "df_iter = DataFrameIterator(\n",
    "    df, \n",
    "    input_columns='img_path',\n",
    "    output_columns=['multi_class'],\n",
    "    output_modes={'multi_class': 'sparse'},\n",
    "    image_size=(2, 2),\n",
    "    batch_size=2\n",
    ")\n",
    "\n",
    "print('\\nInputs:')\n",
    "pprint(df_iter.inputs)\n",
    "print('\\nOutputs:')\n",
    "pprint(df_iter.outputs)\n",
    "\n",
    "print()\n",
    "model = Sequential()\n",
    "model.add(Flatten(input_shape=(2,2,3)))\n",
    "model.add(Dense(3, activation='softmax'))\n",
    "model.compile('adam', 'sparse_categorical_crossentropy')\n",
    "model.fit_generator(df_iter)"
   ]
  },
  {
   "cell_type": "code",
   "execution_count": 5,
   "metadata": {},
   "outputs": [
    {
     "name": "stdout",
     "output_type": "stream",
     "text": [
      "\n",
      "Inputs:\n",
      "[{'column': 'img_np_path',\n",
      "  'values': ['/tmp/0.npy',\n",
      "             '/tmp/1.npy',\n",
      "             '/tmp/2.npy',\n",
      "             '/tmp/3.npy',\n",
      "             '/tmp/4.npy',\n",
      "             '/tmp/5.npy',\n",
      "             '/tmp/6.npy',\n",
      "             '/tmp/7.npy']}]\n",
      "\n",
      "Outputs:\n",
      "[{'column': 'multi_class',\n",
      "  'index_to_class': {0: 'cat', 1: 'dog', 2: 'horse'},\n",
      "  'mode': 'sparse',\n",
      "  'values': [0, 0, 1, 2, 0, 0, 1, 0]}]\n",
      "\n",
      "Epoch 1/1\n",
      "4/4 [==============================] - 0s 17ms/step - loss: 246.6043\n"
     ]
    },
    {
     "data": {
      "text/plain": [
       "<keras.callbacks.callbacks.History at 0x7fc208714e10>"
      ]
     },
     "execution_count": 5,
     "metadata": {},
     "output_type": "execute_result"
    }
   ],
   "source": [
    "df_iter = DataFrameIterator(\n",
    "    df, \n",
    "    input_columns='img_np_path',\n",
    "    output_columns=['multi_class'],\n",
    "    output_modes={'multi_class': 'sparse'},\n",
    "    image_size=(2, 2),\n",
    "    batch_size=2\n",
    ")\n",
    "\n",
    "print('\\nInputs:')\n",
    "pprint(df_iter.inputs)\n",
    "print('\\nOutputs:')\n",
    "pprint(df_iter.outputs)\n",
    "\n",
    "print()\n",
    "model = Sequential()\n",
    "model.add(Flatten(input_shape=(2,2,3)))\n",
    "model.add(Dense(3, activation='softmax'))\n",
    "model.compile('adam', 'sparse_categorical_crossentropy')\n",
    "model.fit_generator(df_iter)"
   ]
  },
  {
   "cell_type": "code",
   "execution_count": 6,
   "metadata": {
    "scrolled": false
   },
   "outputs": [
    {
     "name": "stdout",
     "output_type": "stream",
     "text": [
      "\n",
      "Inputs:\n",
      "[{'column': 'img_path',\n",
      "  'values': ['/tmp/0.jpg',\n",
      "             '/tmp/1.jpg',\n",
      "             '/tmp/2.jpg',\n",
      "             '/tmp/3.jpg',\n",
      "             '/tmp/4.jpg',\n",
      "             '/tmp/5.jpg',\n",
      "             '/tmp/6.jpg',\n",
      "             '/tmp/7.jpg']}]\n",
      "\n",
      "Outputs:\n",
      "[{'column': 'multi_class',\n",
      "  'index_to_class': {0: 'cat', 1: 'dog', 2: 'horse'},\n",
      "  'mode': 'categorical',\n",
      "  'values': [0, 0, 1, 2, 0, 0, 1, 0]}]\n",
      "\n",
      "Epoch 1/1\n",
      "4/4 [==============================] - 0s 19ms/step - loss: 155.6045\n"
     ]
    },
    {
     "data": {
      "text/plain": [
       "<keras.callbacks.callbacks.History at 0x7fc20850e978>"
      ]
     },
     "execution_count": 6,
     "metadata": {},
     "output_type": "execute_result"
    }
   ],
   "source": [
    "df_iter = DataFrameIterator(\n",
    "    df, \n",
    "    input_columns='img_path',\n",
    "    output_columns=['multi_class'],\n",
    "    output_modes={'multi_class': 'categorical'},\n",
    "    image_size=(2, 2),\n",
    "    batch_size=2,\n",
    "    image_data_generator=ImageDataGenerator(horizontal_flip=True,\n",
    "                                            vertical_flip=True)\n",
    ")\n",
    "\n",
    "print('\\nInputs:')\n",
    "pprint(df_iter.inputs)\n",
    "print('\\nOutputs:')\n",
    "pprint(df_iter.outputs)\n",
    "\n",
    "print()\n",
    "model = Sequential()\n",
    "model.add(Flatten(input_shape=(2,2,3)))\n",
    "model.add(Dense(3, activation='softmax'))\n",
    "model.compile('adam', 'categorical_crossentropy')\n",
    "model.fit_generator(df_iter)"
   ]
  },
  {
   "cell_type": "code",
   "execution_count": 7,
   "metadata": {},
   "outputs": [
    {
     "name": "stdout",
     "output_type": "stream",
     "text": [
      "\n",
      "Inputs:\n",
      "[{'column': 'img_np_path',\n",
      "  'values': ['/tmp/0.npy',\n",
      "             '/tmp/1.npy',\n",
      "             '/tmp/2.npy',\n",
      "             '/tmp/3.npy',\n",
      "             '/tmp/4.npy',\n",
      "             '/tmp/5.npy',\n",
      "             '/tmp/6.npy',\n",
      "             '/tmp/7.npy']}]\n",
      "\n",
      "Outputs:\n",
      "[{'column': 'multi_class',\n",
      "  'index_to_class': {0: 'cat', 1: 'dog', 2: 'horse'},\n",
      "  'mode': 'categorical',\n",
      "  'values': [0, 0, 1, 2, 0, 0, 1, 0]}]\n",
      "\n",
      "Epoch 1/1\n",
      "4/4 [==============================] - 0s 20ms/step - loss: 130.0609\n"
     ]
    },
    {
     "data": {
      "text/plain": [
       "<keras.callbacks.callbacks.History at 0x7fc20829d518>"
      ]
     },
     "execution_count": 7,
     "metadata": {},
     "output_type": "execute_result"
    }
   ],
   "source": [
    "df_iter = DataFrameIterator(\n",
    "    df, \n",
    "    input_columns='img_np_path',\n",
    "    output_columns=['multi_class'],\n",
    "    output_modes={'multi_class': 'categorical'},\n",
    "    image_size=(2, 2),\n",
    "    batch_size=2,\n",
    "    image_data_generator=ImageDataGenerator(horizontal_flip=True,\n",
    "                                            vertical_flip=True)\n",
    ")\n",
    "\n",
    "print('\\nInputs:')\n",
    "pprint(df_iter.inputs)\n",
    "print('\\nOutputs:')\n",
    "pprint(df_iter.outputs)\n",
    "\n",
    "print()\n",
    "model = Sequential()\n",
    "model.add(Flatten(input_shape=(2,2,3)))\n",
    "model.add(Dense(3, activation='softmax'))\n",
    "model.compile('adam', 'categorical_crossentropy')\n",
    "model.fit_generator(df_iter)"
   ]
  },
  {
   "cell_type": "markdown",
   "metadata": {},
   "source": [
    "### Multi-label classification"
   ]
  },
  {
   "cell_type": "code",
   "execution_count": 8,
   "metadata": {},
   "outputs": [
    {
     "name": "stdout",
     "output_type": "stream",
     "text": [
      "\n",
      "Inputs:\n",
      "[{'column': 'img_path',\n",
      "  'values': ['/tmp/0.jpg',\n",
      "             '/tmp/1.jpg',\n",
      "             '/tmp/2.jpg',\n",
      "             '/tmp/3.jpg',\n",
      "             '/tmp/4.jpg',\n",
      "             '/tmp/5.jpg',\n",
      "             '/tmp/6.jpg',\n",
      "             '/tmp/7.jpg']}]\n",
      "\n",
      "Outputs:\n",
      "[{'column': 'multi_label',\n",
      "  'index_to_class': {0: 'cat', 1: 'dog'},\n",
      "  'mode': 'categorical',\n",
      "  'values': [0, [0], 1, [0], [1], [1], [0, 1], [1, 0]]}]\n",
      "\n",
      "Epoch 1/1\n",
      "4/4 [==============================] - 0s 27ms/step - loss: 68.9422\n"
     ]
    },
    {
     "data": {
      "text/plain": [
       "<keras.callbacks.callbacks.History at 0x7fc1e0fe4f98>"
      ]
     },
     "execution_count": 8,
     "metadata": {},
     "output_type": "execute_result"
    }
   ],
   "source": [
    "df_iter = DataFrameIterator(\n",
    "    df, \n",
    "    input_columns='img_path',\n",
    "    output_columns=['multi_label'],\n",
    "    output_modes={'multi_label': 'categorical'},\n",
    "    image_size=(2, 2),\n",
    "    batch_size=2,\n",
    "    image_data_generator=ImageDataGenerator(horizontal_flip=True,\n",
    "                                            vertical_flip=True)\n",
    ")\n",
    "\n",
    "print('\\nInputs:')\n",
    "pprint(df_iter.inputs)\n",
    "print('\\nOutputs:')\n",
    "pprint(df_iter.outputs)\n",
    "\n",
    "print()\n",
    "model = Sequential()\n",
    "model.add(Flatten(input_shape=(2,2,3)))\n",
    "model.add(Dense(2, activation='sigmoid'))\n",
    "model.compile('adam', 'binary_crossentropy')\n",
    "model.fit_generator(df_iter)"
   ]
  },
  {
   "cell_type": "code",
   "execution_count": 9,
   "metadata": {},
   "outputs": [
    {
     "name": "stdout",
     "output_type": "stream",
     "text": [
      "\n",
      "Inputs:\n",
      "[{'column': 'img_np_path',\n",
      "  'values': ['/tmp/0.npy',\n",
      "             '/tmp/1.npy',\n",
      "             '/tmp/2.npy',\n",
      "             '/tmp/3.npy',\n",
      "             '/tmp/4.npy',\n",
      "             '/tmp/5.npy',\n",
      "             '/tmp/6.npy',\n",
      "             '/tmp/7.npy']}]\n",
      "\n",
      "Outputs:\n",
      "[{'column': 'multi_label',\n",
      "  'index_to_class': {0: 'cat', 1: 'dog'},\n",
      "  'mode': 'categorical',\n",
      "  'values': [0, [0], 1, [0], [1], [1], [0, 1], [1, 0]]}]\n",
      "\n",
      "Epoch 1/1\n",
      "4/4 [==============================] - 0s 45ms/step - loss: 66.2203\n"
     ]
    },
    {
     "data": {
      "text/plain": [
       "<keras.callbacks.callbacks.History at 0x7fc1e0d7a8d0>"
      ]
     },
     "execution_count": 9,
     "metadata": {},
     "output_type": "execute_result"
    }
   ],
   "source": [
    "df_iter = DataFrameIterator(\n",
    "    df, \n",
    "    input_columns='img_np_path',\n",
    "    output_columns=['multi_label'],\n",
    "    output_modes={'multi_label': 'categorical'},\n",
    "    image_size=(2, 2),\n",
    "    batch_size=2,\n",
    "    image_data_generator=ImageDataGenerator(horizontal_flip=True,\n",
    "                                            vertical_flip=True)\n",
    ")\n",
    "\n",
    "print('\\nInputs:')\n",
    "pprint(df_iter.inputs)\n",
    "print('\\nOutputs:')\n",
    "pprint(df_iter.outputs)\n",
    "\n",
    "print()\n",
    "model = Sequential()\n",
    "model.add(Flatten(input_shape=(2,2,3)))\n",
    "model.add(Dense(2, activation='sigmoid'))\n",
    "model.compile('adam', 'binary_crossentropy')\n",
    "model.fit_generator(df_iter)"
   ]
  },
  {
   "cell_type": "code",
   "execution_count": null,
   "metadata": {},
   "outputs": [],
   "source": []
  }
 ],
 "metadata": {
  "kernelspec": {
   "display_name": "Python 3",
   "language": "python",
   "name": "python3"
  },
  "language_info": {
   "codemirror_mode": {
    "name": "ipython",
    "version": 3
   },
   "file_extension": ".py",
   "mimetype": "text/x-python",
   "name": "python",
   "nbconvert_exporter": "python",
   "pygments_lexer": "ipython3",
   "version": "3.6.8"
  }
 },
 "nbformat": 4,
 "nbformat_minor": 2
}
